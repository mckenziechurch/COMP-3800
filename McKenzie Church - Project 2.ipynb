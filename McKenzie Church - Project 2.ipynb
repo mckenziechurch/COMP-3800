{
 "cells": [
  {
   "cell_type": "markdown",
   "id": "04333764",
   "metadata": {},
   "source": [
    "Find a dataset on Data.gov, Ed.Gov, Kaggle, or other sources that is interesting to you and is suitable for regression analysis or a classification model. \n",
    "\n",
    "**1. Problem statement. Describe the dataset, analyze the target variable, and state your prediction goal.  5 points**"
   ]
  },
  {
   "cell_type": "code",
   "execution_count": 273,
   "id": "e15b8e78",
   "metadata": {
    "scrolled": true
   },
   "outputs": [
    {
     "name": "stdout",
     "output_type": "stream",
     "text": [
      "(17908, 21)\n"
     ]
    },
    {
     "data": {
      "text/html": [
       "<div>\n",
       "<style scoped>\n",
       "    .dataframe tbody tr th:only-of-type {\n",
       "        vertical-align: middle;\n",
       "    }\n",
       "\n",
       "    .dataframe tbody tr th {\n",
       "        vertical-align: top;\n",
       "    }\n",
       "\n",
       "    .dataframe thead th {\n",
       "        text-align: right;\n",
       "    }\n",
       "</style>\n",
       "<table border=\"1\" class=\"dataframe\">\n",
       "  <thead>\n",
       "    <tr style=\"text-align: right;\">\n",
       "      <th></th>\n",
       "      <th>Entry_id</th>\n",
       "      <th>age</th>\n",
       "      <th>pay_schedule</th>\n",
       "      <th>home_owner</th>\n",
       "      <th>income</th>\n",
       "      <th>months_employed</th>\n",
       "      <th>years_employed</th>\n",
       "      <th>current_address_year</th>\n",
       "      <th>personal_account_m</th>\n",
       "      <th>personal_account_y</th>\n",
       "      <th>...</th>\n",
       "      <th>amount_requested</th>\n",
       "      <th>risk_score</th>\n",
       "      <th>risk_score_2</th>\n",
       "      <th>risk_score_3</th>\n",
       "      <th>risk_score_4</th>\n",
       "      <th>risk_score_5</th>\n",
       "      <th>ext_quality_score</th>\n",
       "      <th>ext_quality_score_2</th>\n",
       "      <th>inquiries_last_month</th>\n",
       "      <th>e_signed</th>\n",
       "    </tr>\n",
       "  </thead>\n",
       "  <tbody>\n",
       "    <tr>\n",
       "      <th>0</th>\n",
       "      <td>7629673</td>\n",
       "      <td>40</td>\n",
       "      <td>bi-weekly</td>\n",
       "      <td>1</td>\n",
       "      <td>3135</td>\n",
       "      <td>0</td>\n",
       "      <td>3</td>\n",
       "      <td>3</td>\n",
       "      <td>6</td>\n",
       "      <td>2</td>\n",
       "      <td>...</td>\n",
       "      <td>550</td>\n",
       "      <td>36200</td>\n",
       "      <td>0.737398</td>\n",
       "      <td>0.903517</td>\n",
       "      <td>0.487712</td>\n",
       "      <td>0.515977</td>\n",
       "      <td>0.580918</td>\n",
       "      <td>0.380918</td>\n",
       "      <td>10</td>\n",
       "      <td>1</td>\n",
       "    </tr>\n",
       "    <tr>\n",
       "      <th>1</th>\n",
       "      <td>3560428</td>\n",
       "      <td>61</td>\n",
       "      <td>weekly</td>\n",
       "      <td>0</td>\n",
       "      <td>3180</td>\n",
       "      <td>0</td>\n",
       "      <td>6</td>\n",
       "      <td>3</td>\n",
       "      <td>2</td>\n",
       "      <td>7</td>\n",
       "      <td>...</td>\n",
       "      <td>600</td>\n",
       "      <td>30150</td>\n",
       "      <td>0.738510</td>\n",
       "      <td>0.881027</td>\n",
       "      <td>0.713423</td>\n",
       "      <td>0.826402</td>\n",
       "      <td>0.730720</td>\n",
       "      <td>0.630720</td>\n",
       "      <td>9</td>\n",
       "      <td>0</td>\n",
       "    </tr>\n",
       "    <tr>\n",
       "      <th>2</th>\n",
       "      <td>6934997</td>\n",
       "      <td>23</td>\n",
       "      <td>weekly</td>\n",
       "      <td>0</td>\n",
       "      <td>1540</td>\n",
       "      <td>6</td>\n",
       "      <td>0</td>\n",
       "      <td>0</td>\n",
       "      <td>7</td>\n",
       "      <td>1</td>\n",
       "      <td>...</td>\n",
       "      <td>450</td>\n",
       "      <td>34550</td>\n",
       "      <td>0.642993</td>\n",
       "      <td>0.766554</td>\n",
       "      <td>0.595018</td>\n",
       "      <td>0.762284</td>\n",
       "      <td>0.531712</td>\n",
       "      <td>0.531712</td>\n",
       "      <td>7</td>\n",
       "      <td>0</td>\n",
       "    </tr>\n",
       "    <tr>\n",
       "      <th>3</th>\n",
       "      <td>5682812</td>\n",
       "      <td>40</td>\n",
       "      <td>bi-weekly</td>\n",
       "      <td>0</td>\n",
       "      <td>5230</td>\n",
       "      <td>0</td>\n",
       "      <td>6</td>\n",
       "      <td>1</td>\n",
       "      <td>2</td>\n",
       "      <td>7</td>\n",
       "      <td>...</td>\n",
       "      <td>700</td>\n",
       "      <td>42150</td>\n",
       "      <td>0.665224</td>\n",
       "      <td>0.960832</td>\n",
       "      <td>0.767828</td>\n",
       "      <td>0.778831</td>\n",
       "      <td>0.792552</td>\n",
       "      <td>0.592552</td>\n",
       "      <td>8</td>\n",
       "      <td>1</td>\n",
       "    </tr>\n",
       "    <tr>\n",
       "      <th>4</th>\n",
       "      <td>5335819</td>\n",
       "      <td>33</td>\n",
       "      <td>semi-monthly</td>\n",
       "      <td>0</td>\n",
       "      <td>3590</td>\n",
       "      <td>0</td>\n",
       "      <td>5</td>\n",
       "      <td>2</td>\n",
       "      <td>2</td>\n",
       "      <td>8</td>\n",
       "      <td>...</td>\n",
       "      <td>1100</td>\n",
       "      <td>53850</td>\n",
       "      <td>0.617361</td>\n",
       "      <td>0.857560</td>\n",
       "      <td>0.613487</td>\n",
       "      <td>0.665523</td>\n",
       "      <td>0.744634</td>\n",
       "      <td>0.744634</td>\n",
       "      <td>12</td>\n",
       "      <td>0</td>\n",
       "    </tr>\n",
       "  </tbody>\n",
       "</table>\n",
       "<p>5 rows × 21 columns</p>\n",
       "</div>"
      ],
      "text/plain": [
       "   Entry_id  age  pay_schedule  home_owner  income  months_employed  \\\n",
       "0   7629673   40     bi-weekly           1    3135                0   \n",
       "1   3560428   61        weekly           0    3180                0   \n",
       "2   6934997   23        weekly           0    1540                6   \n",
       "3   5682812   40     bi-weekly           0    5230                0   \n",
       "4   5335819   33  semi-monthly           0    3590                0   \n",
       "\n",
       "   years_employed  current_address_year  personal_account_m  \\\n",
       "0               3                     3                   6   \n",
       "1               6                     3                   2   \n",
       "2               0                     0                   7   \n",
       "3               6                     1                   2   \n",
       "4               5                     2                   2   \n",
       "\n",
       "   personal_account_y  ...  amount_requested  risk_score  risk_score_2  \\\n",
       "0                   2  ...               550       36200      0.737398   \n",
       "1                   7  ...               600       30150      0.738510   \n",
       "2                   1  ...               450       34550      0.642993   \n",
       "3                   7  ...               700       42150      0.665224   \n",
       "4                   8  ...              1100       53850      0.617361   \n",
       "\n",
       "   risk_score_3  risk_score_4  risk_score_5  ext_quality_score  \\\n",
       "0      0.903517      0.487712      0.515977           0.580918   \n",
       "1      0.881027      0.713423      0.826402           0.730720   \n",
       "2      0.766554      0.595018      0.762284           0.531712   \n",
       "3      0.960832      0.767828      0.778831           0.792552   \n",
       "4      0.857560      0.613487      0.665523           0.744634   \n",
       "\n",
       "   ext_quality_score_2  inquiries_last_month  e_signed  \n",
       "0             0.380918                    10         1  \n",
       "1             0.630720                     9         0  \n",
       "2             0.531712                     7         0  \n",
       "3             0.592552                     8         1  \n",
       "4             0.744634                    12         0  \n",
       "\n",
       "[5 rows x 21 columns]"
      ]
     },
     "execution_count": 273,
     "metadata": {},
     "output_type": "execute_result"
    }
   ],
   "source": [
    "from sklearn.feature_selection import SelectKBest, f_classif, chi2\n",
    "import pandas as pd\n",
    "import numpy as np\n",
    "import seaborn as sns\n",
    "import matplotlib.pyplot as plt\n",
    "from sklearn.model_selection import train_test_split\n",
    "from sklearn.linear_model import LogisticRegression\n",
    "from sklearn.metrics import log_loss, roc_auc_score, recall_score, precision_score\n",
    ", average_precision_score, f1_score, classification_report, accuracy_score\n",
    ", plot_roc_curve, plot_precision_recall_curve, plot_confusion_matrix\n",
    "\n",
    "df = pd.read_csv('Financial-Data.csv')\n",
    "print(df.shape)\n",
    "df.head(5)"
   ]
  },
  {
   "cell_type": "code",
   "execution_count": 274,
   "id": "5e93f995",
   "metadata": {},
   "outputs": [
    {
     "data": {
      "text/html": [
       "<div>\n",
       "<style scoped>\n",
       "    .dataframe tbody tr th:only-of-type {\n",
       "        vertical-align: middle;\n",
       "    }\n",
       "\n",
       "    .dataframe tbody tr th {\n",
       "        vertical-align: top;\n",
       "    }\n",
       "\n",
       "    .dataframe thead th {\n",
       "        text-align: right;\n",
       "    }\n",
       "</style>\n",
       "<table border=\"1\" class=\"dataframe\">\n",
       "  <thead>\n",
       "    <tr style=\"text-align: right;\">\n",
       "      <th></th>\n",
       "      <th>Entry_id</th>\n",
       "      <th>age</th>\n",
       "      <th>pay_schedule</th>\n",
       "      <th>home_owner</th>\n",
       "      <th>income</th>\n",
       "      <th>years_employed</th>\n",
       "      <th>current_address_year</th>\n",
       "      <th>personal_account_m</th>\n",
       "      <th>personal_account_y</th>\n",
       "      <th>has_debt</th>\n",
       "      <th>amount_requested</th>\n",
       "      <th>risk_score</th>\n",
       "      <th>risk_score_2</th>\n",
       "      <th>risk_score_3</th>\n",
       "      <th>risk_score_4</th>\n",
       "      <th>risk_score_5</th>\n",
       "      <th>ext_quality_score</th>\n",
       "      <th>ext_quality_score_2</th>\n",
       "      <th>inquiries_last_month</th>\n",
       "      <th>e_signed</th>\n",
       "    </tr>\n",
       "  </thead>\n",
       "  <tbody>\n",
       "    <tr>\n",
       "      <th>0</th>\n",
       "      <td>7629673</td>\n",
       "      <td>40</td>\n",
       "      <td>0</td>\n",
       "      <td>1</td>\n",
       "      <td>3135</td>\n",
       "      <td>3</td>\n",
       "      <td>3</td>\n",
       "      <td>6</td>\n",
       "      <td>2</td>\n",
       "      <td>1</td>\n",
       "      <td>550</td>\n",
       "      <td>36200</td>\n",
       "      <td>0.737398</td>\n",
       "      <td>0.903517</td>\n",
       "      <td>0.487712</td>\n",
       "      <td>0.515977</td>\n",
       "      <td>0.580918</td>\n",
       "      <td>0.380918</td>\n",
       "      <td>10</td>\n",
       "      <td>1</td>\n",
       "    </tr>\n",
       "    <tr>\n",
       "      <th>1</th>\n",
       "      <td>3560428</td>\n",
       "      <td>61</td>\n",
       "      <td>1</td>\n",
       "      <td>0</td>\n",
       "      <td>3180</td>\n",
       "      <td>6</td>\n",
       "      <td>3</td>\n",
       "      <td>2</td>\n",
       "      <td>7</td>\n",
       "      <td>1</td>\n",
       "      <td>600</td>\n",
       "      <td>30150</td>\n",
       "      <td>0.738510</td>\n",
       "      <td>0.881027</td>\n",
       "      <td>0.713423</td>\n",
       "      <td>0.826402</td>\n",
       "      <td>0.730720</td>\n",
       "      <td>0.630720</td>\n",
       "      <td>9</td>\n",
       "      <td>0</td>\n",
       "    </tr>\n",
       "    <tr>\n",
       "      <th>2</th>\n",
       "      <td>6934997</td>\n",
       "      <td>23</td>\n",
       "      <td>1</td>\n",
       "      <td>0</td>\n",
       "      <td>1540</td>\n",
       "      <td>0</td>\n",
       "      <td>0</td>\n",
       "      <td>7</td>\n",
       "      <td>1</td>\n",
       "      <td>1</td>\n",
       "      <td>450</td>\n",
       "      <td>34550</td>\n",
       "      <td>0.642993</td>\n",
       "      <td>0.766554</td>\n",
       "      <td>0.595018</td>\n",
       "      <td>0.762284</td>\n",
       "      <td>0.531712</td>\n",
       "      <td>0.531712</td>\n",
       "      <td>7</td>\n",
       "      <td>0</td>\n",
       "    </tr>\n",
       "    <tr>\n",
       "      <th>3</th>\n",
       "      <td>5682812</td>\n",
       "      <td>40</td>\n",
       "      <td>0</td>\n",
       "      <td>0</td>\n",
       "      <td>5230</td>\n",
       "      <td>6</td>\n",
       "      <td>1</td>\n",
       "      <td>2</td>\n",
       "      <td>7</td>\n",
       "      <td>1</td>\n",
       "      <td>700</td>\n",
       "      <td>42150</td>\n",
       "      <td>0.665224</td>\n",
       "      <td>0.960832</td>\n",
       "      <td>0.767828</td>\n",
       "      <td>0.778831</td>\n",
       "      <td>0.792552</td>\n",
       "      <td>0.592552</td>\n",
       "      <td>8</td>\n",
       "      <td>1</td>\n",
       "    </tr>\n",
       "    <tr>\n",
       "      <th>4</th>\n",
       "      <td>5335819</td>\n",
       "      <td>33</td>\n",
       "      <td>2</td>\n",
       "      <td>0</td>\n",
       "      <td>3590</td>\n",
       "      <td>5</td>\n",
       "      <td>2</td>\n",
       "      <td>2</td>\n",
       "      <td>8</td>\n",
       "      <td>1</td>\n",
       "      <td>1100</td>\n",
       "      <td>53850</td>\n",
       "      <td>0.617361</td>\n",
       "      <td>0.857560</td>\n",
       "      <td>0.613487</td>\n",
       "      <td>0.665523</td>\n",
       "      <td>0.744634</td>\n",
       "      <td>0.744634</td>\n",
       "      <td>12</td>\n",
       "      <td>0</td>\n",
       "    </tr>\n",
       "  </tbody>\n",
       "</table>\n",
       "</div>"
      ],
      "text/plain": [
       "   Entry_id  age pay_schedule  home_owner  income  years_employed  \\\n",
       "0   7629673   40            0           1    3135               3   \n",
       "1   3560428   61            1           0    3180               6   \n",
       "2   6934997   23            1           0    1540               0   \n",
       "3   5682812   40            0           0    5230               6   \n",
       "4   5335819   33            2           0    3590               5   \n",
       "\n",
       "   current_address_year  personal_account_m  personal_account_y  has_debt  \\\n",
       "0                     3                   6                   2         1   \n",
       "1                     3                   2                   7         1   \n",
       "2                     0                   7                   1         1   \n",
       "3                     1                   2                   7         1   \n",
       "4                     2                   2                   8         1   \n",
       "\n",
       "   amount_requested  risk_score  risk_score_2  risk_score_3  risk_score_4  \\\n",
       "0               550       36200      0.737398      0.903517      0.487712   \n",
       "1               600       30150      0.738510      0.881027      0.713423   \n",
       "2               450       34550      0.642993      0.766554      0.595018   \n",
       "3               700       42150      0.665224      0.960832      0.767828   \n",
       "4              1100       53850      0.617361      0.857560      0.613487   \n",
       "\n",
       "   risk_score_5  ext_quality_score  ext_quality_score_2  inquiries_last_month  \\\n",
       "0      0.515977           0.580918             0.380918                    10   \n",
       "1      0.826402           0.730720             0.630720                     9   \n",
       "2      0.762284           0.531712             0.531712                     7   \n",
       "3      0.778831           0.792552             0.592552                     8   \n",
       "4      0.665523           0.744634             0.744634                    12   \n",
       "\n",
       "   e_signed  \n",
       "0         1  \n",
       "1         0  \n",
       "2         0  \n",
       "3         1  \n",
       "4         0  "
      ]
     },
     "execution_count": 274,
     "metadata": {},
     "output_type": "execute_result"
    }
   ],
   "source": [
    "df.loc[df['pay_schedule']=='bi-weekly', 'pay_schedule']= 0\n",
    "df.loc[df['pay_schedule']=='weekly', 'pay_schedule']= 1\n",
    "df.loc[df['pay_schedule']=='semi-monthly', 'pay_schedule']= 2\n",
    "df.loc[df['pay_schedule']=='monthly', 'pay_schedule']= 3\n",
    "df = df.drop(['months_employed'], axis=1) # this col has a lot of 0s, which will\n",
    "# complicate prediction in the future steps\n",
    "df.head(5)"
   ]
  },
  {
   "cell_type": "markdown",
   "id": "adad4cc5",
   "metadata": {},
   "source": [
    "This is a dataset that shows whether a person has signed to accept a financial loan, along with other financial data points such as their age, income, and whether they own a home. A description of each [desired] columns is as follows:\n",
    "- entry_id: user identifier\n",
    "- age\n",
    "- pay_schedule: how often applicant is paid\n",
    "- home_owner: 0 = rents, 1 = owns a home\n",
    "- income\n",
    "- months_employed: amount of months in current job\n",
    "- years_employed: amount of years in current job\n",
    "- current_address: amount of years at current address\n",
    "- personal_account_m: months applicant held account\n",
    "- personal_account_y: years applicant held account\n",
    "- has_debt: 0 = no debt, 1 = has debt\n",
    "- amount_requested\n",
    "- risk_score: credit score\n",
    "- inquiries_last_month: num of inquiries in last month\n",
    "- e_signed: TARGET; 1 = has signed for the loan, 0 = has NOT signed for the loan"
   ]
  },
  {
   "cell_type": "code",
   "execution_count": 275,
   "id": "e2a4e3c6",
   "metadata": {},
   "outputs": [
    {
     "name": "stdout",
     "output_type": "stream",
     "text": [
      "<class 'pandas.core.frame.DataFrame'>\n",
      "RangeIndex: 17908 entries, 0 to 17907\n",
      "Data columns (total 20 columns):\n",
      " #   Column                Non-Null Count  Dtype  \n",
      "---  ------                --------------  -----  \n",
      " 0   Entry_id              17908 non-null  int64  \n",
      " 1   age                   17908 non-null  int64  \n",
      " 2   pay_schedule          17908 non-null  object \n",
      " 3   home_owner            17908 non-null  int64  \n",
      " 4   income                17908 non-null  int64  \n",
      " 5   years_employed        17908 non-null  int64  \n",
      " 6   current_address_year  17908 non-null  int64  \n",
      " 7   personal_account_m    17908 non-null  int64  \n",
      " 8   personal_account_y    17908 non-null  int64  \n",
      " 9   has_debt              17908 non-null  int64  \n",
      " 10  amount_requested      17908 non-null  int64  \n",
      " 11  risk_score            17908 non-null  int64  \n",
      " 12  risk_score_2          17908 non-null  float64\n",
      " 13  risk_score_3          17908 non-null  float64\n",
      " 14  risk_score_4          17908 non-null  float64\n",
      " 15  risk_score_5          17908 non-null  float64\n",
      " 16  ext_quality_score     17908 non-null  float64\n",
      " 17  ext_quality_score_2   17908 non-null  float64\n",
      " 18  inquiries_last_month  17908 non-null  int64  \n",
      " 19  e_signed              17908 non-null  int64  \n",
      "dtypes: float64(6), int64(13), object(1)\n",
      "memory usage: 2.7+ MB\n",
      "None\n"
     ]
    }
   ],
   "source": [
    "print(df.info())"
   ]
  },
  {
   "cell_type": "markdown",
   "id": "64f999c9",
   "metadata": {},
   "source": [
    "**2. Basic data cleaning.  Drop unwanted features.  Address missing values.  Remove Duplicates. Check if there are any inconsistent inputs for categorical variables. Transform categorical variables into numeric. Use boxplots or histogram to identify outliers for numeric variables and remove them. 20 points**"
   ]
  },
  {
   "cell_type": "code",
   "execution_count": 276,
   "id": "f05b4353",
   "metadata": {},
   "outputs": [
    {
     "data": {
      "text/plain": [
       "['Entry_id',\n",
       " 'age',\n",
       " 'pay_schedule',\n",
       " 'home_owner',\n",
       " 'income',\n",
       " 'years_employed',\n",
       " 'current_address_year',\n",
       " 'personal_account_m',\n",
       " 'personal_account_y',\n",
       " 'has_debt',\n",
       " 'amount_requested',\n",
       " 'risk_score',\n",
       " 'risk_score_2',\n",
       " 'risk_score_3',\n",
       " 'risk_score_4',\n",
       " 'risk_score_5',\n",
       " 'ext_quality_score',\n",
       " 'ext_quality_score_2',\n",
       " 'inquiries_last_month',\n",
       " 'target']"
      ]
     },
     "execution_count": 276,
     "metadata": {},
     "output_type": "execute_result"
    }
   ],
   "source": [
    "# data cleaning - drop unwanted features\n",
    "df = df.rename(columns={'e_signed': 'target'})\n",
    "df.columns.tolist()"
   ]
  },
  {
   "cell_type": "code",
   "execution_count": 277,
   "id": "9703ff84",
   "metadata": {},
   "outputs": [
    {
     "data": {
      "text/plain": [
       "Entry_id                0\n",
       "age                     0\n",
       "pay_schedule            0\n",
       "home_owner              0\n",
       "income                  0\n",
       "years_employed          0\n",
       "current_address_year    0\n",
       "personal_account_m      0\n",
       "personal_account_y      0\n",
       "has_debt                0\n",
       "amount_requested        0\n",
       "risk_score              0\n",
       "risk_score_2            0\n",
       "risk_score_3            0\n",
       "risk_score_4            0\n",
       "risk_score_5            0\n",
       "ext_quality_score       0\n",
       "ext_quality_score_2     0\n",
       "inquiries_last_month    0\n",
       "target                  0\n",
       "dtype: int64"
      ]
     },
     "execution_count": 277,
     "metadata": {},
     "output_type": "execute_result"
    }
   ],
   "source": [
    "df.isnull().sum()"
   ]
  },
  {
   "cell_type": "code",
   "execution_count": 278,
   "id": "956a2c1f",
   "metadata": {
    "scrolled": false
   },
   "outputs": [
    {
     "name": "stdout",
     "output_type": "stream",
     "text": [
      "Before:\n",
      "(17908, 20)\n",
      "After:\n",
      "(17888, 20)\n"
     ]
    }
   ],
   "source": [
    "print(\"Before:\")\n",
    "print(df.shape)\n",
    "df1 = df.drop_duplicates(subset=['Entry_id'], keep='first')\n",
    "new_df = df1.drop_duplicates(keep=False)\n",
    "print(\"After:\")\n",
    "print(new_df.shape)"
   ]
  },
  {
   "cell_type": "code",
   "execution_count": 279,
   "id": "994a1639",
   "metadata": {
    "scrolled": false
   },
   "outputs": [
    {
     "data": {
      "text/plain": [
       "Entry_id                int32\n",
       "age                     int32\n",
       "pay_schedule            int32\n",
       "home_owner              int32\n",
       "income                  int32\n",
       "years_employed          int32\n",
       "current_address_year    int32\n",
       "personal_account_m      int32\n",
       "personal_account_y      int32\n",
       "has_debt                int32\n",
       "amount_requested        int32\n",
       "risk_score              int32\n",
       "risk_score_2            int32\n",
       "risk_score_3            int32\n",
       "risk_score_4            int32\n",
       "risk_score_5            int32\n",
       "ext_quality_score       int32\n",
       "ext_quality_score_2     int32\n",
       "inquiries_last_month    int32\n",
       "target                  int32\n",
       "dtype: object"
      ]
     },
     "execution_count": 279,
     "metadata": {},
     "output_type": "execute_result"
    }
   ],
   "source": [
    "new_df.astype('int32').dtypes"
   ]
  },
  {
   "cell_type": "markdown",
   "id": "7317e96c",
   "metadata": {},
   "source": [
    "Now we need to remove outliers so that the model is not skewed. \n",
    "\n",
    "Within the field of statistics, the IQR (interquartile range) is the \"normal\" range in which most values of the dataset will occur, with Q1 containing the lower 25% of the data and Q3 containing the remaining 75%. Using these numbers, a min and max are calculated, which are used to determine outliers (values lower than the min and higher than the max). \n",
    "\n",
    "A real-world example of this being used is in pediatric doctor appointments, where the doctor will describe a(n) infant or child's growth to be within \"x\"-percentile, standards to determine if a child has any anomalies in their development (this example just helped me understand how the boxplot relates to other examples than just being a mundane box).\n",
    "\n",
    "*Drop outliers method below from [source](https://stackoverflow.com/questions/35827863/remove-outliers-in-pandas-dataframe-using-percentiles)"
   ]
  },
  {
   "cell_type": "code",
   "execution_count": 280,
   "id": "efbb9c6a",
   "metadata": {},
   "outputs": [
    {
     "name": "stderr",
     "output_type": "stream",
     "text": [
      "C:\\Users\\mcken\\AppData\\Local\\Temp\\ipykernel_12652\\291269161.py:5: FutureWarning: Automatic reindexing on DataFrame vs Series comparisons is deprecated and will raise ValueError in a future version. Do `left, right = left.align(right, axis=1, copy=False)` before e.g. `left == right`\n",
      "  final_df = new_df[~((df < (Q1 - 1.5 * IQR)) |(df > (Q3 + 1.5 * IQR))).any(axis=1)]\n",
      "C:\\Users\\mcken\\AppData\\Local\\Temp\\ipykernel_12652\\291269161.py:5: UserWarning: Boolean Series key will be reindexed to match DataFrame index.\n",
      "  final_df = new_df[~((df < (Q1 - 1.5 * IQR)) |(df > (Q3 + 1.5 * IQR))).any(axis=1)]\n"
     ]
    }
   ],
   "source": [
    "Q1 = new_df.quantile(0.25)\n",
    "Q3 = new_df.quantile(0.75)\n",
    "IQR = Q3 - Q1\n",
    "\n",
    "final_df = new_df[~((df < (Q1 - 1.5 * IQR)) |(df > (Q3 + 1.5 * IQR))).any(axis=1)]"
   ]
  },
  {
   "cell_type": "code",
   "execution_count": 281,
   "id": "5ee65ed8",
   "metadata": {},
   "outputs": [
    {
     "data": {
      "image/png": "[encoded data removed]",
      "text/plain": [
       "<Figure size 720x720 with 3 Axes>"
      ]
     },
     "metadata": {
      "needs_background": "light"
     },
     "output_type": "display_data"
    }
   ],
   "source": [
    "# categorical: true/false (1/0)\n",
    "cat_df = final_df[['pay_schedule', 'home_owner', 'has_debt', 'target']].copy()\n",
    "cols = ['pay_schedule', 'home_owner', 'has_debt']\n",
    "fig = plt.figure(figsize=(10, 10))\n",
    "for i in range(len(cols)):\n",
    "    columns=cols[i]\n",
    "    sub=fig.add_subplot(2, 2, i+1)\n",
    "    sns.countplot(x=columns, hue='target', data=cat_df)\n",
    "# for the cat. features, we see quite a significance between them and the target"
   ]
  },
  {
   "cell_type": "code",
   "execution_count": 282,
   "id": "efdf7113",
   "metadata": {
    "scrolled": true
   },
   "outputs": [
    {
     "data": {
      "image/png": "[encoded data removed]",
      "text/plain": [
       "<Figure size 1440x3600 with 16 Axes>"
      ]
     },
     "metadata": {
      "needs_background": "light"
     },
     "output_type": "display_data"
    }
   ],
   "source": [
    "import seaborn as sns\n",
    "cols = ['Entry_id', 'age', 'income', 'years_employed', \n",
    "       'current_address_year', 'personal_account_m', 'personal_account_y', \n",
    "       'amount_requested', 'risk_score', 'risk_score_2', 'risk_score_3', \n",
    "       'risk_score_4', 'risk_score_5', 'ext_quality_score', 'ext_quality_score_2', \n",
    "       'inquiries_last_month']\n",
    "fig = plt.figure(figsize=(20, 50))\n",
    "\n",
    "for i in range(len(cols)):\n",
    "    column=cols[i]\n",
    "    sub=fig.add_subplot(10, 2, i+1)\n",
    "    sns.boxplot(x='target', y=column, data=final_df)"
   ]
  },
  {
   "cell_type": "code",
   "execution_count": 283,
   "id": "de05a4f8",
   "metadata": {},
   "outputs": [
    {
     "data": {
      "text/plain": [
       "['age',\n",
       " 'pay_schedule',\n",
       " 'home_owner',\n",
       " 'income',\n",
       " 'current_address_year',\n",
       " 'personal_account_m',\n",
       " 'has_debt',\n",
       " 'amount_requested',\n",
       " 'ext_quality_score_2',\n",
       " 'target']"
      ]
     },
     "execution_count": 283,
     "metadata": {},
     "output_type": "execute_result"
    }
   ],
   "source": [
    "to_drop = ['Entry_id', 'years_employed', 'personal_account_y', 'risk_score', 'risk_score_2', \n",
    "           'risk_score_3', 'risk_score_4', 'risk_score_5', 'ext_quality_score', 'inquiries_last_month']\n",
    "dframe = final_df.drop(to_drop, axis=1)\n",
    "dframe.columns.tolist()"
   ]
  },
  {
   "cell_type": "markdown",
   "id": "1aa04f88",
   "metadata": {},
   "source": [
    "**Feature Engineering. 20 points**\n",
    "\n",
    "Feature selection. Use graphs, ANOVA test, Chi-squared test to reduce the dimension. Any variables with zero to little variance?  Any features Irrelevant to the target variable? Any high-correlated Features? "
   ]
  },
  {
   "cell_type": "code",
   "execution_count": 284,
   "id": "bb9709d3",
   "metadata": {
    "scrolled": true
   },
   "outputs": [
    {
     "name": "stdout",
     "output_type": "stream",
     "text": [
      "F-Scores:\n",
      "140.6248446240748 age \n",
      "\n",
      "11.770446968464123 income \n",
      "\n",
      "5.293510193181608 current_address_year \n",
      "\n",
      "115.2176641761311 personal_account_m \n",
      "\n",
      "1.8815403514235862 amount_requested \n",
      "\n",
      "1.9698800382774282 ext_quality_score_2 \n",
      "\n",
      "\n",
      "\n",
      "P-Values:\n",
      "3.1480923331668215e-32 age \n",
      "\n",
      "0.0006041466761028787 income \n",
      "\n",
      "0.021424908505428327 current_address_year \n",
      "\n",
      "9.762701846881489e-27 personal_account_m \n",
      "\n",
      "0.1701890515748915 amount_requested \n",
      "\n",
      "0.16049073649084258 ext_quality_score_2 \n",
      "\n"
     ]
    }
   ],
   "source": [
    "# ANOVA\n",
    "# use for numerical data\n",
    "from sklearn.feature_selection import SelectKBest, f_classif\n",
    "columns = ['age', 'income', 'current_address_year', 'personal_account_m', 'amount_requested', 'ext_quality_score_2']\n",
    "\n",
    "x = dframe.loc[:, columns]\n",
    "y = dframe.loc[:, 'target']\n",
    "\n",
    "fs = SelectKBest(score_func=f_classif, k='all')\n",
    "FeaturesS = fs.fit(x, y)\n",
    "np.set_printoptions(suppress = True)\n",
    "\n",
    "print(\"F-Scores:\")\n",
    "for x,y in zip(FeaturesS.scores_, columns):\n",
    "    print(x, y, '\\n')\n",
    "print('\\n')\n",
    "\n",
    "print(\"P-Values:\")\n",
    "for a,b in zip(FeaturesS.pvalues_, columns):\n",
    "    print(a, b, '\\n')"
   ]
  },
  {
   "cell_type": "markdown",
   "id": "9ed14eb7",
   "metadata": {},
   "source": [
    "*note: numbers that are (x)e-(y) is a really small number when converted to scientific notation*\n",
    "- **Features w/ high F-score**: age, personal_account_m, income\n",
    "- **Features w/ low F-score**: current_address_year, amount_requested, ext_quality_score_2\n",
    "\n",
    "- **Features w/ high p-value (x > 0.05)**: amount_requested, ext_quality_score_2\n",
    "- **Features w/ low p-value ( x <= 0.05)**: age, income, current_address_year, personal_account_m\n",
    "\n",
    "- After evaluating these, it is decided that features to drop are: current_address_year, amount_requested, ext_quality_score_2"
   ]
  },
  {
   "cell_type": "code",
   "execution_count": 285,
   "id": "d7f1c91e",
   "metadata": {},
   "outputs": [
    {
     "name": "stdout",
     "output_type": "stream",
     "text": [
      "Chi-Squared Scores:\n",
      "4.578556377429356 pay_schedule \n",
      "\n",
      "29.375361778177997 home_owner \n",
      "\n",
      "0.0 has_debt \n",
      "\n",
      "\n",
      "\n",
      "P-Values:\n",
      "0.03237447872716707 pay_schedule \n",
      "\n",
      "5.963097383087834e-08 home_owner \n",
      "\n",
      "1.0 has_debt \n",
      "\n"
     ]
    }
   ],
   "source": [
    "# do chi squared test for cat. vars.\n",
    "cols = ['pay_schedule', 'home_owner', 'has_debt']\n",
    "x = dframe.loc[:, cols]\n",
    "y = dframe.loc[:, 'target']\n",
    "\n",
    "chi = SelectKBest(score_func=chi2, k='all')\n",
    "catFeatures = chi.fit(x, y)\n",
    "\n",
    "print(\"Chi-Squared Scores:\")\n",
    "for x,y in zip(catFeatures.scores_, cols):\n",
    "    print(x, y, '\\n')\n",
    "print('\\n')\n",
    "\n",
    "print(\"P-Values:\")\n",
    "for a,b in zip(catFeatures.pvalues_, cols):\n",
    "    print(a, b, '\\n')"
   ]
  },
  {
   "cell_type": "markdown",
   "id": "5a670641",
   "metadata": {},
   "source": [
    "- **Features w/ low Chi-squared**: has_debt\n",
    "- **Features w/ high Chi-squared**: pay_schedule, home_owner\n",
    "\n",
    "- **Features w/ high p-value (x > 0.05)**: has_debt\n",
    "- **Features w/ low p-value (x <= 0.05)**: pay_schedule, home_owner\n",
    "\n",
    "- After evaluation, it is decided that features to drop are: has_debt"
   ]
  },
  {
   "cell_type": "code",
   "execution_count": 286,
   "id": "c90fbb4b",
   "metadata": {},
   "outputs": [
    {
     "data": {
      "text/plain": [
       "['age', 'pay_schedule', 'home_owner', 'income', 'personal_account_m', 'target']"
      ]
     },
     "execution_count": 286,
     "metadata": {},
     "output_type": "execute_result"
    }
   ],
   "source": [
    "drop = ['current_address_year', 'amount_requested', 'ext_quality_score_2', 'has_debt']\n",
    "data = dframe.drop(drop, axis=1)\n",
    "data.columns.tolist()"
   ]
  },
  {
   "cell_type": "code",
   "execution_count": 297,
   "id": "b4a523b1",
   "metadata": {},
   "outputs": [
    {
     "name": "stdout",
     "output_type": "stream",
     "text": [
      "                         age  home_owner    income  personal_account_m  \\\n",
      "age                 1.000000    0.131038  0.168442           -0.002679   \n",
      "personal_account_m -0.002679    0.021851  0.045585            1.000000   \n",
      "home_owner          0.131038    1.000000  0.110983            0.021851   \n",
      "income              0.168442    0.110983  1.000000            0.045585   \n",
      "target             -0.116045   -0.068058 -0.033782           -0.105168   \n",
      "\n",
      "                      target  \n",
      "age                -0.116045  \n",
      "personal_account_m -0.105168  \n",
      "home_owner         -0.068058  \n",
      "income             -0.033782  \n",
      "target              1.000000  \n"
     ]
    }
   ],
   "source": [
    "print(data.corr().sort_values(by='target'))\n",
    "# highest correlated to target: income\n",
    "# highest correlated to income: age"
   ]
  },
  {
   "cell_type": "markdown",
   "id": "14a879b6",
   "metadata": {},
   "source": [
    "**Feature scaling. Does this algorithm require normalized data or standardized data?\n",
    "Are there any categorical variables need to be changed to dummy variables?**\n",
    "\n",
    "At its original state, the pay_schedule feature needed to be changed to a dummy variable in order to continue with the evaluation, as it contained string values. It does not appear that the dataframe needs normalization, as shifting the data between 0 and 1 would not help the prediction. Standardization is also not necessary, since the data does not follow a normal Gaussian distribution. "
   ]
  },
  {
   "cell_type": "markdown",
   "id": "6464ca67",
   "metadata": {},
   "source": [
    "**Build the prediction model. 20 points**\n",
    "Does this data need to be balanced?\n",
    "Do you use train_test_split or cross validation to validate the result?\n",
    "Which algorithm is appropriate for this problem?\n",
    "Which metrics do you use to evaluate the prediction model?"
   ]
  },
  {
   "cell_type": "code",
   "execution_count": 291,
   "id": "e9e067b0",
   "metadata": {},
   "outputs": [
    {
     "name": "stdout",
     "output_type": "stream",
     "text": [
      "Negative cases - did not sign for the loan:\n",
      "age                     212183\n",
      "pay_schedule              2973\n",
      "home_owner                2051\n",
      "income                17035704\n",
      "personal_account_m       19267\n",
      "target                       0\n",
      "dtype: object\n",
      "\n",
      "\n",
      "Positive cases - did sign for the loan:\n",
      "age                     220023\n",
      "pay_schedule              3471\n",
      "home_owner                1911\n",
      "income                18368684\n",
      "personal_account_m       18836\n",
      "target                    5413\n",
      "dtype: object\n"
     ]
    }
   ],
   "source": [
    "# Next, we must check if the data needs to be balanced. We check this by seeing if there is \n",
    "# a significant difference between positive and negative target cases.\n",
    "print(\"Negative cases - did not sign for the loan:\")\n",
    "print(data[data['target'] == 0].sum())\n",
    "print('\\n')\n",
    "print(\"Positive cases - did sign for the loan:\")\n",
    "print(data[data['target'] == 1].sum())\n",
    "\n",
    "# it appears that this data does not need balancing, as the margins are slim"
   ]
  },
  {
   "cell_type": "markdown",
   "id": "f3eae4b1",
   "metadata": {},
   "source": [
    "Evaluate the data to choose an algorithm:\n",
    "\n",
    "- K-nearest neighbor: finds correlation using nearest nieghbor to the target; not ideal for categorical data\n",
    "- Linear Regression: relationship between one dependent variable and one or more explanatory/independent variables\n",
    "- Logistic Regression: estimates the probability of an event occurring; dependent variable must be binary; independent vars must be independent of each other\n",
    "- Decision Tree: used for more complex, \"layered\" categories; vars may or may not be dependent\n",
    "\n",
    "\n",
    "The data does not require normalization, as the dataframe is large, with over 17,000 entries - the entries consist of different cases for each feature and the target. The margin between positive and negative cases appear to be very slim. \n",
    "\n",
    "We will use logistic regression algorithm for this dataset, since we are predicting the probability that someone will sign for a loan, with the target being a binary outcome of 'yes' or 'no', essentially. The model will then be evaluated using the f1 score since the target is binary."
   ]
  },
  {
   "cell_type": "code",
   "execution_count": 299,
   "id": "b2e6ec94",
   "metadata": {},
   "outputs": [
    {
     "data": {
      "text/plain": [
       "LogisticRegressionCV(cv=10, max_iter=2000, random_state=0)"
      ]
     },
     "execution_count": 299,
     "metadata": {},
     "output_type": "execute_result"
    }
   ],
   "source": [
    "# build the logistic regression model\n",
    "from sklearn.linear_model import LogisticRegressionCV\n",
    "model = LogisticRegressionCV(cv=10, random_state=0, max_iter=2000)\n",
    "model.fit(x, y)"
   ]
  },
  {
   "cell_type": "code",
   "execution_count": 306,
   "id": "db4b0933",
   "metadata": {},
   "outputs": [
    {
     "name": "stdout",
     "output_type": "stream",
     "text": [
      "Cross-Validation Scores:\n",
      "0.6291230893000805 income \n",
      "\n",
      "0.6298701298701298 age \n",
      "\n",
      "\n",
      "\n",
      "Avg cross-validation score: 0.6273431749764234\n"
     ]
    }
   ],
   "source": [
    "from sklearn.metrics import accuracy_score\n",
    "from sklearn.metrics import make_scorer, f1_score\n",
    "from sklearn.model_selection import cross_val_score\n",
    "\n",
    "x = data.loc[:, ['income', 'age']]\n",
    "y = data.loc[:, 'target']\n",
    "\n",
    "cv_scores = cross_val_score(model, x, y, cv=10, scoring='f1')\n",
    "print(\"Cross-Validation Scores:\")\n",
    "for x, y in zip(cv_scores, x):\n",
    "    print(x, y, '\\n')\n",
    "print('\\n')\n",
    "print(\"Avg cross-validation score: \" + str(cv_scores.mean()))"
   ]
  }
 ],
 "metadata": {
  "kernelspec": {
   "display_name": "Python 3 (ipykernel)",
   "language": "python",
   "name": "python3"
  },
  "language_info": {
   "codemirror_mode": {
    "name": "ipython",
    "version": 3
   },
   "file_extension": ".py",
   "mimetype": "text/x-python",
   "name": "python",
   "nbconvert_exporter": "python",
   "pygments_lexer": "ipython3",
   "version": "3.9.12"
  }
 },
 "nbformat": 4,
 "nbformat_minor": 5
}
