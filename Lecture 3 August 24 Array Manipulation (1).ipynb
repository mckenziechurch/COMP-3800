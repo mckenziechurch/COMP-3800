{
 "cells": [
  {
   "cell_type": "code",
   "execution_count": 2,
   "id": "04a789ae",
   "metadata": {},
   "outputs": [
    {
     "data": {
      "text/plain": [
       "array([[[ 0,  1,  2,  3],\n",
       "        [ 4,  5,  6,  7],\n",
       "        [ 8,  9, 10, 11]],\n",
       "\n",
       "       [[12, 13, 14, 15],\n",
       "        [16, 17, 18, 19],\n",
       "        [20, 21, 22, 23]]])"
      ]
     },
     "execution_count": 2,
     "metadata": {},
     "output_type": "execute_result"
    }
   ],
   "source": [
    "import numpy as np\n",
    "b = np.arange(24).reshape(2,3,4)\n",
    "b"
   ]
  },
  {
   "cell_type": "markdown",
   "id": "6ec75739",
   "metadata": {},
   "source": [
    "## Array Manipulation\n",
    "\n",
    "#### Flatten()"
   ]
  },
  {
   "cell_type": "code",
   "execution_count": 3,
   "id": "7bbb0f6d",
   "metadata": {},
   "outputs": [
    {
     "data": {
      "text/plain": [
       "array([ 0,  1,  2,  3,  4,  5,  6,  7,  8,  9, 10, 11, 12, 13, 14, 15, 16,\n",
       "       17, 18, 19, 20, 21, 22, 23])"
      ]
     },
     "execution_count": 3,
     "metadata": {},
     "output_type": "execute_result"
    }
   ],
   "source": [
    "b.ravel() #turns multi-dim array into 1D"
   ]
  },
  {
   "cell_type": "code",
   "execution_count": 4,
   "id": "16acb6f2",
   "metadata": {},
   "outputs": [
    {
     "data": {
      "text/plain": [
       "array([[[ 0,  1,  2,  3],\n",
       "        [ 4,  5,  6,  7],\n",
       "        [ 8,  9, 10, 11]],\n",
       "\n",
       "       [[12, 13, 14, 15],\n",
       "        [16, 17, 18, 19],\n",
       "        [20, 21, 22, 23]]])"
      ]
     },
     "execution_count": 4,
     "metadata": {},
     "output_type": "execute_result"
    }
   ],
   "source": [
    "b #b still exists as its original 3D array"
   ]
  },
  {
   "cell_type": "code",
   "execution_count": 5,
   "id": "8b3e18fc",
   "metadata": {},
   "outputs": [
    {
     "data": {
      "text/plain": [
       "array([ 0,  1,  2,  3,  4,  5,  6,  7,  8,  9, 10, 11, 12, 13, 14, 15, 16,\n",
       "       17, 18, 19, 20, 21, 22, 23])"
      ]
     },
     "execution_count": 5,
     "metadata": {},
     "output_type": "execute_result"
    }
   ],
   "source": [
    "b.flatten() #turns any array into a 1D array; not on orig."
   ]
  },
  {
   "cell_type": "markdown",
   "id": "6e23bc81",
   "metadata": {},
   "source": [
    "#### Transpose()"
   ]
  },
  {
   "cell_type": "code",
   "execution_count": 6,
   "id": "7ac803d2",
   "metadata": {},
   "outputs": [
    {
     "data": {
      "text/plain": [
       "array([[[ 0, 12],\n",
       "        [ 4, 16],\n",
       "        [ 8, 20]],\n",
       "\n",
       "       [[ 1, 13],\n",
       "        [ 5, 17],\n",
       "        [ 9, 21]],\n",
       "\n",
       "       [[ 2, 14],\n",
       "        [ 6, 18],\n",
       "        [10, 22]],\n",
       "\n",
       "       [[ 3, 15],\n",
       "        [ 7, 19],\n",
       "        [11, 23]]])"
      ]
     },
     "execution_count": 6,
     "metadata": {},
     "output_type": "execute_result"
    }
   ],
   "source": [
    "b.transpose() #rotating the array; rows and cols swap places\n",
    "#not on orig array"
   ]
  },
  {
   "cell_type": "markdown",
   "id": "5a4ad0d5",
   "metadata": {},
   "source": [
    "#### Reshape() vs. Resize()"
   ]
  },
  {
   "cell_type": "code",
   "execution_count": 7,
   "id": "4d1dc050",
   "metadata": {},
   "outputs": [
    {
     "data": {
      "text/plain": [
       "array([[[ 0,  1,  2,  3],\n",
       "        [ 4,  5,  6,  7],\n",
       "        [ 8,  9, 10, 11]],\n",
       "\n",
       "       [[12, 13, 14, 15],\n",
       "        [16, 17, 18, 19],\n",
       "        [20, 21, 22, 23]]])"
      ]
     },
     "execution_count": 7,
     "metadata": {},
     "output_type": "execute_result"
    }
   ],
   "source": [
    "b.reshape((2, 12))\n",
    "b #b still looks the same"
   ]
  },
  {
   "cell_type": "code",
   "execution_count": 8,
   "id": "6456b2bd",
   "metadata": {},
   "outputs": [
    {
     "data": {
      "text/plain": [
       "array([[ 0,  1,  2,  3,  4,  5,  6,  7,  8,  9, 10, 11],\n",
       "       [12, 13, 14, 15, 16, 17, 18, 19, 20, 21, 22, 23]])"
      ]
     },
     "execution_count": 8,
     "metadata": {},
     "output_type": "execute_result"
    }
   ],
   "source": [
    "b.resize((2, 12))\n",
    "b #has changed the original array; also takes it down a dimension"
   ]
  },
  {
   "cell_type": "code",
   "execution_count": 9,
   "id": "175f3f6c",
   "metadata": {},
   "outputs": [
    {
     "data": {
      "text/plain": [
       "array([[ 0,  1,  2,  3,  4,  5,  6,  7,  8,  9, 10, 11],\n",
       "       [12, 13, 14, 15, 16, 17, 18, 19, 20, 21, 22, 23]])"
      ]
     },
     "execution_count": 9,
     "metadata": {},
     "output_type": "execute_result"
    }
   ],
   "source": [
    "b"
   ]
  },
  {
   "cell_type": "markdown",
   "id": "97daaec0",
   "metadata": {},
   "source": [
    "### Array Stacking"
   ]
  },
  {
   "cell_type": "code",
   "execution_count": 10,
   "id": "e1191356",
   "metadata": {},
   "outputs": [
    {
     "data": {
      "text/plain": [
       "array([[0, 1, 2],\n",
       "       [3, 4, 5],\n",
       "       [6, 7, 8]])"
      ]
     },
     "execution_count": 10,
     "metadata": {},
     "output_type": "execute_result"
    }
   ],
   "source": [
    "a = np.arange(9).reshape(3, 3)\n",
    "a #initialize a 3D array"
   ]
  },
  {
   "cell_type": "code",
   "execution_count": 11,
   "id": "4541089f",
   "metadata": {},
   "outputs": [
    {
     "data": {
      "text/plain": [
       "array([[ 0,  2,  4],\n",
       "       [ 6,  8, 10],\n",
       "       [12, 14, 16]])"
      ]
     },
     "execution_count": 11,
     "metadata": {},
     "output_type": "execute_result"
    }
   ],
   "source": [
    "b = 2 * a\n",
    "b"
   ]
  },
  {
   "cell_type": "markdown",
   "id": "265e5556",
   "metadata": {},
   "source": [
    "#### Horizontal Stacking (hstack())"
   ]
  },
  {
   "cell_type": "code",
   "execution_count": 12,
   "id": "3ab6b424",
   "metadata": {},
   "outputs": [
    {
     "data": {
      "text/plain": [
       "array([[ 0,  1,  2,  0,  2,  4],\n",
       "       [ 3,  4,  5,  6,  8, 10],\n",
       "       [ 6,  7,  8, 12, 14, 16]])"
      ]
     },
     "execution_count": 12,
     "metadata": {},
     "output_type": "execute_result"
    }
   ],
   "source": [
    "np.hstack((a, b)) #horizontal stack method #1"
   ]
  },
  {
   "cell_type": "code",
   "execution_count": 13,
   "id": "0891798b",
   "metadata": {},
   "outputs": [
    {
     "data": {
      "text/plain": [
       "array([[ 0,  1,  2,  0,  2,  4],\n",
       "       [ 3,  4,  5,  6,  8, 10],\n",
       "       [ 6,  7,  8, 12, 14, 16]])"
      ]
     },
     "execution_count": 13,
     "metadata": {},
     "output_type": "execute_result"
    }
   ],
   "source": [
    "np.concatenate((a,b), axis=1) #horizontal stack method #2"
   ]
  },
  {
   "cell_type": "markdown",
   "id": "ddbad3e2",
   "metadata": {},
   "source": [
    "#### Vertical Stacking (vstack())"
   ]
  },
  {
   "cell_type": "code",
   "execution_count": 14,
   "id": "80fd221a",
   "metadata": {},
   "outputs": [
    {
     "data": {
      "text/plain": [
       "array([[ 0,  1,  2],\n",
       "       [ 3,  4,  5],\n",
       "       [ 6,  7,  8],\n",
       "       [ 0,  2,  4],\n",
       "       [ 6,  8, 10],\n",
       "       [12, 14, 16]])"
      ]
     },
     "execution_count": 14,
     "metadata": {},
     "output_type": "execute_result"
    }
   ],
   "source": [
    "np.vstack((a,b)) #vertical stack method #1"
   ]
  },
  {
   "cell_type": "code",
   "execution_count": 15,
   "id": "2343d5db",
   "metadata": {},
   "outputs": [
    {
     "data": {
      "text/plain": [
       "array([[ 0,  1,  2],\n",
       "       [ 3,  4,  5],\n",
       "       [ 6,  7,  8],\n",
       "       [ 0,  2,  4],\n",
       "       [ 6,  8, 10],\n",
       "       [12, 14, 16]])"
      ]
     },
     "execution_count": 15,
     "metadata": {},
     "output_type": "execute_result"
    }
   ],
   "source": [
    "np.concatenate((a,b), axis=0) #vertical stack method #2"
   ]
  },
  {
   "cell_type": "markdown",
   "id": "a06792ba",
   "metadata": {},
   "source": [
    "### Array Splitting"
   ]
  },
  {
   "cell_type": "code",
   "execution_count": 17,
   "id": "b9b71cb8",
   "metadata": {},
   "outputs": [
    {
     "data": {
      "text/plain": [
       "array([[ 0,  1,  2,  3],\n",
       "       [ 4,  5,  6,  7],\n",
       "       [ 8,  9, 10, 11],\n",
       "       [12, 13, 14, 15],\n",
       "       [16, 17, 18, 19],\n",
       "       [20, 21, 22, 23]])"
      ]
     },
     "execution_count": 17,
     "metadata": {},
     "output_type": "execute_result"
    }
   ],
   "source": [
    "d = np.arange(0,24).reshape(6,4)\n",
    "d"
   ]
  },
  {
   "cell_type": "markdown",
   "id": "d44d9109",
   "metadata": {},
   "source": [
    "#### Horizontal Split (hsplit())"
   ]
  },
  {
   "cell_type": "code",
   "execution_count": 19,
   "id": "3ef0d50a",
   "metadata": {
    "scrolled": false
   },
   "outputs": [
    {
     "data": {
      "text/plain": [
       "[array([[ 0],\n",
       "        [ 4],\n",
       "        [ 8],\n",
       "        [12],\n",
       "        [16],\n",
       "        [20]]),\n",
       " array([[ 1],\n",
       "        [ 5],\n",
       "        [ 9],\n",
       "        [13],\n",
       "        [17],\n",
       "        [21]]),\n",
       " array([[ 2],\n",
       "        [ 6],\n",
       "        [10],\n",
       "        [14],\n",
       "        [18],\n",
       "        [22]]),\n",
       " array([[ 3],\n",
       "        [ 7],\n",
       "        [11],\n",
       "        [15],\n",
       "        [19],\n",
       "        [23]])]"
      ]
     },
     "execution_count": 19,
     "metadata": {},
     "output_type": "execute_result"
    }
   ],
   "source": [
    "np.hsplit(d, 4) #horizontally split d by 4; method #1"
   ]
  },
  {
   "cell_type": "code",
   "execution_count": 20,
   "id": "a572015a",
   "metadata": {},
   "outputs": [
    {
     "data": {
      "text/plain": [
       "[array([[ 0],\n",
       "        [ 4],\n",
       "        [ 8],\n",
       "        [12],\n",
       "        [16],\n",
       "        [20]]),\n",
       " array([[ 1],\n",
       "        [ 5],\n",
       "        [ 9],\n",
       "        [13],\n",
       "        [17],\n",
       "        [21]]),\n",
       " array([[ 2],\n",
       "        [ 6],\n",
       "        [10],\n",
       "        [14],\n",
       "        [18],\n",
       "        [22]]),\n",
       " array([[ 3],\n",
       "        [ 7],\n",
       "        [11],\n",
       "        [15],\n",
       "        [19],\n",
       "        [23]])]"
      ]
     },
     "execution_count": 20,
     "metadata": {},
     "output_type": "execute_result"
    }
   ],
   "source": [
    "np.split(d, 4, axis=1) #horizontal split method #2"
   ]
  },
  {
   "cell_type": "markdown",
   "id": "c4198c5e",
   "metadata": {},
   "source": [
    "#### Vertical Split (vsplit())"
   ]
  },
  {
   "cell_type": "code",
   "execution_count": 21,
   "id": "78abc7c7",
   "metadata": {},
   "outputs": [
    {
     "data": {
      "text/plain": [
       "[array([[ 0,  1,  2,  3],\n",
       "        [ 4,  5,  6,  7],\n",
       "        [ 8,  9, 10, 11]]),\n",
       " array([[12, 13, 14, 15],\n",
       "        [16, 17, 18, 19],\n",
       "        [20, 21, 22, 23]])]"
      ]
     },
     "execution_count": 21,
     "metadata": {},
     "output_type": "execute_result"
    }
   ],
   "source": [
    "np.vsplit(d, 2) #vertical split method #1"
   ]
  },
  {
   "cell_type": "code",
   "execution_count": 22,
   "id": "314a6afc",
   "metadata": {},
   "outputs": [
    {
     "data": {
      "text/plain": [
       "[array([[ 0,  1,  2,  3],\n",
       "        [ 4,  5,  6,  7],\n",
       "        [ 8,  9, 10, 11]]),\n",
       " array([[12, 13, 14, 15],\n",
       "        [16, 17, 18, 19],\n",
       "        [20, 21, 22, 23]])]"
      ]
     },
     "execution_count": 22,
     "metadata": {},
     "output_type": "execute_result"
    }
   ],
   "source": [
    "np.split(d,2, axis=0) #vertical split method #2"
   ]
  },
  {
   "cell_type": "markdown",
   "id": "e4298ec8",
   "metadata": {},
   "source": [
    "### Deletion"
   ]
  },
  {
   "cell_type": "code",
   "execution_count": 23,
   "id": "49efe889",
   "metadata": {},
   "outputs": [
    {
     "data": {
      "text/plain": [
       "array([[ 0,  1,  2,  3],\n",
       "       [ 4,  5,  6,  7],\n",
       "       [ 8,  9, 10, 11],\n",
       "       [12, 13, 14, 15],\n",
       "       [16, 17, 18, 19],\n",
       "       [20, 21, 22, 23]])"
      ]
     },
     "execution_count": 23,
     "metadata": {},
     "output_type": "execute_result"
    }
   ],
   "source": [
    "d"
   ]
  },
  {
   "cell_type": "markdown",
   "id": "c4d98b47",
   "metadata": {},
   "source": [
    "#### Row Deletion"
   ]
  },
  {
   "cell_type": "code",
   "execution_count": 24,
   "id": "b9f1e7c4",
   "metadata": {},
   "outputs": [
    {
     "data": {
      "text/plain": [
       "array([[ 0,  1,  2,  3],\n",
       "       [ 8,  9, 10, 11],\n",
       "       [12, 13, 14, 15],\n",
       "       [16, 17, 18, 19],\n",
       "       [20, 21, 22, 23]])"
      ]
     },
     "execution_count": 24,
     "metadata": {},
     "output_type": "execute_result"
    }
   ],
   "source": [
    "arr2D = np.delete(d, 1, axis=0)\n",
    "arr2D #delete one row"
   ]
  },
  {
   "cell_type": "code",
   "execution_count": 25,
   "id": "ae41058b",
   "metadata": {},
   "outputs": [
    {
     "data": {
      "text/plain": [
       "array([[ 0,  1,  2,  3],\n",
       "       [ 4,  5,  6,  7],\n",
       "       [16, 17, 18, 19],\n",
       "       [20, 21, 22, 23]])"
      ]
     },
     "execution_count": 25,
     "metadata": {},
     "output_type": "execute_result"
    }
   ],
   "source": [
    "arr2D = np.delete(d, [2,3], axis=0)\n",
    "arr2D #delete multiple rows"
   ]
  },
  {
   "cell_type": "markdown",
   "id": "d285b525",
   "metadata": {},
   "source": [
    "#### Column Deletion"
   ]
  },
  {
   "cell_type": "code",
   "execution_count": 26,
   "id": "0a0ae8d2",
   "metadata": {},
   "outputs": [
    {
     "data": {
      "text/plain": [
       "array([[ 0,  2,  3],\n",
       "       [ 4,  6,  7],\n",
       "       [ 8, 10, 11],\n",
       "       [12, 14, 15],\n",
       "       [16, 18, 19],\n",
       "       [20, 22, 23]])"
      ]
     },
     "execution_count": 26,
     "metadata": {},
     "output_type": "execute_result"
    }
   ],
   "source": [
    "arr2D = np.delete(d, 1, axis=1)\n",
    "arr2D #delete one column"
   ]
  },
  {
   "cell_type": "code",
   "execution_count": 27,
   "id": "fc8ba2f7",
   "metadata": {},
   "outputs": [
    {
     "data": {
      "text/plain": [
       "array([[ 0,  1],\n",
       "       [ 4,  5],\n",
       "       [ 8,  9],\n",
       "       [12, 13],\n",
       "       [16, 17],\n",
       "       [20, 21]])"
      ]
     },
     "execution_count": 27,
     "metadata": {},
     "output_type": "execute_result"
    }
   ],
   "source": [
    "arr2D = np.delete(d, [2,3], axis=1)\n",
    "arr2D #delete multiple columns"
   ]
  },
  {
   "cell_type": "markdown",
   "id": "4c761722",
   "metadata": {},
   "source": [
    "#### Item Deletion by Index"
   ]
  },
  {
   "cell_type": "code",
   "execution_count": 28,
   "id": "b3e8d638",
   "metadata": {},
   "outputs": [
    {
     "data": {
      "text/plain": [
       "array([0, 1, 2, 3, 4, 5, 6, 7, 8, 9])"
      ]
     },
     "execution_count": 28,
     "metadata": {},
     "output_type": "execute_result"
    }
   ],
   "source": [
    "arr = np.arange(0,10)\n",
    "arr #create a 1D array for deletion"
   ]
  },
  {
   "cell_type": "code",
   "execution_count": 29,
   "id": "3a9cbaa8",
   "metadata": {},
   "outputs": [
    {
     "data": {
      "text/plain": [
       "array([0, 2, 3, 4, 5, 6, 7, 8, 9])"
      ]
     },
     "execution_count": 29,
     "metadata": {},
     "output_type": "execute_result"
    }
   ],
   "source": [
    "arr2 = np.delete(arr, [1])\n",
    "arr2 #delete one item by index"
   ]
  },
  {
   "cell_type": "code",
   "execution_count": 33,
   "id": "3358f246",
   "metadata": {},
   "outputs": [
    {
     "data": {
      "text/plain": [
       "array([3, 4, 5, 6, 7, 8, 9])"
      ]
     },
     "execution_count": 33,
     "metadata": {},
     "output_type": "execute_result"
    }
   ],
   "source": [
    "arr3 = np.delete(arr, [0, 1, 2])\n",
    "arr3 #delete multiple items by index"
   ]
  },
  {
   "cell_type": "markdown",
   "id": "bfaae1b3",
   "metadata": {},
   "source": [
    "#### Item Deletion by Condition"
   ]
  },
  {
   "cell_type": "code",
   "execution_count": 44,
   "id": "31b696ac",
   "metadata": {},
   "outputs": [
    {
     "data": {
      "text/plain": [
       "array([0, 1, 2, 3, 4, 5, 7, 8, 9])"
      ]
     },
     "execution_count": 44,
     "metadata": {},
     "output_type": "execute_result"
    }
   ],
   "source": [
    "arr = arr[arr!=6]\n",
    "arr #creates an array based on this condition\n",
    "#elements in this array cannot be 6, therefore it deletes 6"
   ]
  },
  {
   "cell_type": "code",
   "execution_count": 45,
   "id": "d121983b",
   "metadata": {},
   "outputs": [
    {
     "data": {
      "text/plain": [
       "array([7, 8, 9])"
      ]
     },
     "execution_count": 45,
     "metadata": {},
     "output_type": "execute_result"
    }
   ],
   "source": [
    "arr = arr[(arr>=6) & (arr<=10)]\n",
    "arr #elements in this array must be w/in certain intvl"
   ]
  },
  {
   "cell_type": "markdown",
   "id": "ed271b87",
   "metadata": {},
   "source": [
    "#### Boolean indexing"
   ]
  },
  {
   "cell_type": "code",
   "execution_count": 47,
   "id": "baad6fd7",
   "metadata": {},
   "outputs": [
    {
     "data": {
      "text/plain": [
       "array(['Bob', 'Joe', 'Will', 'Bob', 'Will', 'Joe', 'Joe'], dtype='<U4')"
      ]
     },
     "execution_count": 47,
     "metadata": {},
     "output_type": "execute_result"
    }
   ],
   "source": [
    "names = np.array(['Bob', 'Joe', 'Will', 'Bob', 'Will', 'Joe', 'Joe'])\n",
    "names"
   ]
  },
  {
   "cell_type": "code",
   "execution_count": 48,
   "id": "19c8ca63",
   "metadata": {},
   "outputs": [
    {
     "data": {
      "text/plain": [
       "array([[ 2.01022266,  0.68515476, -0.1946732 , -0.17402759],\n",
       "       [-0.20841245, -0.45790622, -0.26382996,  2.63568097],\n",
       "       [-0.58376513,  0.83759264,  0.8954302 ,  0.15769206],\n",
       "       [-0.54681496,  0.01967296,  0.10201475, -1.82405058],\n",
       "       [ 0.00451391, -0.30902911, -0.92253823,  0.01622623],\n",
       "       [ 1.39228408, -1.04205887,  0.15924504, -0.53344054],\n",
       "       [-0.91129785,  0.18920907,  1.28462818,  1.23316816]])"
      ]
     },
     "execution_count": 48,
     "metadata": {},
     "output_type": "execute_result"
    }
   ],
   "source": [
    "data = np.random.randn(7,4)\n",
    "data"
   ]
  },
  {
   "cell_type": "code",
   "execution_count": 49,
   "id": "74404c30",
   "metadata": {},
   "outputs": [
    {
     "data": {
      "text/plain": [
       "array([ True, False, False,  True, False, False, False])"
      ]
     },
     "execution_count": 49,
     "metadata": {},
     "output_type": "execute_result"
    }
   ],
   "source": [
    "names == 'Bob'"
   ]
  },
  {
   "cell_type": "code",
   "execution_count": 50,
   "id": "a4ea075a",
   "metadata": {},
   "outputs": [
    {
     "data": {
      "text/plain": [
       "array([[ 2.01022266,  0.68515476, -0.1946732 , -0.17402759],\n",
       "       [-0.54681496,  0.01967296,  0.10201475, -1.82405058]])"
      ]
     },
     "execution_count": 50,
     "metadata": {},
     "output_type": "execute_result"
    }
   ],
   "source": [
    "data[names=='Bob']"
   ]
  },
  {
   "cell_type": "markdown",
   "id": "97defaf2",
   "metadata": {},
   "source": [
    "#### Boolean Index Cells"
   ]
  },
  {
   "cell_type": "code",
   "execution_count": 51,
   "id": "354b7729",
   "metadata": {},
   "outputs": [
    {
     "data": {
      "text/plain": [
       "array([[-0.1946732 , -0.17402759],\n",
       "       [ 0.10201475, -1.82405058]])"
      ]
     },
     "execution_count": 51,
     "metadata": {},
     "output_type": "execute_result"
    }
   ],
   "source": [
    "data[names=='Bob', 2:]"
   ]
  },
  {
   "cell_type": "code",
   "execution_count": 52,
   "id": "153812fa",
   "metadata": {},
   "outputs": [
    {
     "data": {
      "text/plain": [
       "array([-0.17402759, -1.82405058])"
      ]
     },
     "execution_count": 52,
     "metadata": {},
     "output_type": "execute_result"
    }
   ],
   "source": [
    "data[names=='Bob', 3]"
   ]
  },
  {
   "cell_type": "code",
   "execution_count": 53,
   "id": "1218d639",
   "metadata": {},
   "outputs": [
    {
     "data": {
      "text/plain": [
       "array([[-0.20841245, -0.45790622, -0.26382996,  2.63568097],\n",
       "       [-0.58376513,  0.83759264,  0.8954302 ,  0.15769206],\n",
       "       [ 0.00451391, -0.30902911, -0.92253823,  0.01622623],\n",
       "       [ 1.39228408, -1.04205887,  0.15924504, -0.53344054],\n",
       "       [-0.91129785,  0.18920907,  1.28462818,  1.23316816]])"
      ]
     },
     "execution_count": 53,
     "metadata": {},
     "output_type": "execute_result"
    }
   ],
   "source": [
    "data[~(names=='Bob')]"
   ]
  },
  {
   "cell_type": "markdown",
   "id": "bc480083",
   "metadata": {},
   "source": [
    "### Array Sorting\n",
    "\n",
    "#### sorting 1D Array"
   ]
  },
  {
   "cell_type": "code",
   "execution_count": 54,
   "id": "e6ff3aed",
   "metadata": {},
   "outputs": [
    {
     "data": {
      "text/plain": [
       "array([ 0.39595905, -1.03511422,  0.90454239,  0.64250134, -0.31440198,\n",
       "        1.30682895])"
      ]
     },
     "execution_count": 54,
     "metadata": {},
     "output_type": "execute_result"
    }
   ],
   "source": [
    "arr = np.random.randn(6)\n",
    "arr #initialize a random 1D array"
   ]
  },
  {
   "cell_type": "code",
   "execution_count": 56,
   "id": "a50d73e2",
   "metadata": {},
   "outputs": [
    {
     "data": {
      "text/plain": [
       "array([-1.03511422, -0.31440198,  0.39595905,  0.64250134,  0.90454239,\n",
       "        1.30682895])"
      ]
     },
     "execution_count": 56,
     "metadata": {},
     "output_type": "execute_result"
    }
   ],
   "source": [
    "arr.sort() #sorts array in ascending order\n",
    "arr"
   ]
  },
  {
   "cell_type": "code",
   "execution_count": 57,
   "id": "ec4fcceb",
   "metadata": {},
   "outputs": [
    {
     "data": {
      "text/plain": [
       "array([-1.03511422, -0.31440198,  0.39595905,  0.64250134,  0.90454239,\n",
       "        1.30682895])"
      ]
     },
     "execution_count": 57,
     "metadata": {},
     "output_type": "execute_result"
    }
   ],
   "source": [
    "arr[::-1]\n",
    "arr #sorts the array in descending order"
   ]
  },
  {
   "cell_type": "markdown",
   "id": "013ad2f7",
   "metadata": {},
   "source": [
    "#### Sorting 2D Array"
   ]
  },
  {
   "cell_type": "code",
   "execution_count": 58,
   "id": "f44bd847",
   "metadata": {},
   "outputs": [
    {
     "data": {
      "text/plain": [
       "array([[-0.76665307, -0.81852047, -0.55818841],\n",
       "       [-1.7938303 ,  0.08370768, -0.54861769],\n",
       "       [-0.04792086,  1.07211687,  1.84881189],\n",
       "       [-0.17570268,  1.13249942, -0.4595854 ],\n",
       "       [-1.91587419, -0.05087919,  0.10939285]])"
      ]
     },
     "execution_count": 58,
     "metadata": {},
     "output_type": "execute_result"
    }
   ],
   "source": [
    "arr2 = np.random.randn(5,3)\n",
    "arr2 #initialize a 2D array"
   ]
  },
  {
   "cell_type": "code",
   "execution_count": 59,
   "id": "45988c77",
   "metadata": {},
   "outputs": [
    {
     "data": {
      "text/plain": [
       "array([[-1.91587419, -0.81852047, -0.55818841],\n",
       "       [-1.7938303 , -0.05087919, -0.54861769],\n",
       "       [-0.76665307,  0.08370768, -0.4595854 ],\n",
       "       [-0.17570268,  1.07211687,  0.10939285],\n",
       "       [-0.04792086,  1.13249942,  1.84881189]])"
      ]
     },
     "execution_count": 59,
     "metadata": {},
     "output_type": "execute_result"
    }
   ],
   "source": [
    "arr2.sort(0)\n",
    "arr2 #sort 2D array by columns in ascending order"
   ]
  },
  {
   "cell_type": "code",
   "execution_count": 60,
   "id": "730e48e2",
   "metadata": {},
   "outputs": [
    {
     "data": {
      "text/plain": [
       "array([[-1.91587419, -0.81852047, -0.55818841],\n",
       "       [-1.7938303 , -0.54861769, -0.05087919],\n",
       "       [-0.76665307, -0.4595854 ,  0.08370768],\n",
       "       [-0.17570268,  0.10939285,  1.07211687],\n",
       "       [-0.04792086,  1.13249942,  1.84881189]])"
      ]
     },
     "execution_count": 60,
     "metadata": {},
     "output_type": "execute_result"
    }
   ],
   "source": [
    "arr2.sort(1)\n",
    "arr2 #sorts 2D array by rows in ascending order"
   ]
  },
  {
   "cell_type": "markdown",
   "id": "6254280d",
   "metadata": {},
   "source": [
    "#### Data Types & Character Codes"
   ]
  },
  {
   "cell_type": "code",
   "execution_count": 61,
   "id": "cadd23af",
   "metadata": {},
   "outputs": [
    {
     "data": {
      "text/plain": [
       "dtype('float64')"
      ]
     },
     "execution_count": 61,
     "metadata": {},
     "output_type": "execute_result"
    }
   ],
   "source": [
    "arr2.dtype #returns the type of elements contained in array\n",
    "#returned using character code"
   ]
  },
  {
   "cell_type": "markdown",
   "id": "a88d25f8",
   "metadata": {},
   "source": [
    "### Random Sampling\n",
    "\n",
    "#### seed()"
   ]
  },
  {
   "cell_type": "code",
   "execution_count": 62,
   "id": "c257030e",
   "metadata": {},
   "outputs": [
    {
     "data": {
      "text/plain": [
       "array([0.51104185, 0.47992217, 0.12372047, 0.2482167 , 0.95309173,\n",
       "       0.18030395, 0.1564908 , 0.98464422, 0.95142543, 0.02358253])"
      ]
     },
     "execution_count": 62,
     "metadata": {},
     "output_type": "execute_result"
    }
   ],
   "source": [
    "np.random.random(10) #example without using seed"
   ]
  },
  {
   "cell_type": "code",
   "execution_count": 65,
   "id": "8707702d",
   "metadata": {},
   "outputs": [],
   "source": [
    "a = np.random.seed(8)\n",
    "a #doesn't return anything?"
   ]
  },
  {
   "cell_type": "markdown",
   "id": "0d4ec379",
   "metadata": {},
   "source": [
    "#### Generating Random Ints"
   ]
  },
  {
   "cell_type": "code",
   "execution_count": 66,
   "id": "7c5ad248",
   "metadata": {},
   "outputs": [
    {
     "data": {
      "text/plain": [
       "array([ 5,  6,  3, 11])"
      ]
     },
     "execution_count": 66,
     "metadata": {},
     "output_type": "execute_result"
    }
   ],
   "source": [
    "np.random.randint(2, 16, 4) #input starting#, end#, size"
   ]
  },
  {
   "cell_type": "markdown",
   "id": "00eed1c4",
   "metadata": {},
   "source": [
    "#### Generating Sample from Standard Normal Distribution"
   ]
  },
  {
   "cell_type": "code",
   "execution_count": 69,
   "id": "7c0aa11c",
   "metadata": {
    "scrolled": false
   },
   "outputs": [
    {
     "data": {
      "text/plain": [
       "(array([[0., 0., 0., 0., 0., 0., 0., 2., 0., 3., 2., 1., 0., 0., 0., 1.,\n",
       "         0., 0., 0., 1.],\n",
       "        [1., 0., 0., 1., 0., 0., 0., 1., 0., 1., 2., 0., 1., 0., 2., 0.,\n",
       "         0., 1., 0., 0.]]),\n",
       " array([-1.88574454, -1.66783177, -1.44991899, -1.23200622, -1.01409344,\n",
       "        -0.79618066, -0.57826789, -0.36035511, -0.14244234,  0.07547044,\n",
       "         0.29338322,  0.51129599,  0.72920877,  0.94712154,  1.16503432,\n",
       "         1.3829471 ,  1.60085987,  1.81877265,  2.03668542,  2.2545982 ,\n",
       "         2.47251097]),\n",
       " <a list of 2 BarContainer objects>)"
      ]
     },
     "execution_count": 69,
     "metadata": {},
     "output_type": "execute_result"
    },
    {
     "data": {
      "image/png": "[encoded data removed]",
      "text/plain": [
       "<Figure size 720x504 with 1 Axes>"
      ]
     },
     "metadata": {
      "needs_background": "light"
     },
     "output_type": "display_data"
    }
   ],
   "source": [
    "import matplotlib.pyplot as plt\n",
    "a = np.random.randn(10,2)\n",
    "nbins = 20\n",
    "fig, axs = plt.subplots(1, 1, figsize=(10,7), tight_layout=True)\n",
    "axs.hist(a, bins=nbins)"
   ]
  },
  {
   "cell_type": "markdown",
   "id": "ca7fbc72",
   "metadata": {},
   "source": [
    "#### Generate Samples of a Uniform Distribution"
   ]
  },
  {
   "cell_type": "code",
   "execution_count": 70,
   "id": "55f543b7",
   "metadata": {},
   "outputs": [
    {
     "data": {
      "text/plain": [
       "array([4.41993901, 2.89587561, 2.41515412, 3.90619374, 2.02492512,\n",
       "       4.36574979, 3.50623218, 4.99135598, 4.95212194, 2.68123588])"
      ]
     },
     "execution_count": 70,
     "metadata": {},
     "output_type": "execute_result"
    }
   ],
   "source": [
    "np.random.uniform(low=2, high=5, size=10)"
   ]
  },
  {
   "cell_type": "markdown",
   "id": "9c0ba189",
   "metadata": {},
   "source": [
    "#### Generate Random Sample from Given Array"
   ]
  },
  {
   "cell_type": "code",
   "execution_count": 71,
   "id": "62a8f32b",
   "metadata": {},
   "outputs": [
    {
     "name": "stdout",
     "output_type": "stream",
     "text": [
      "['employee3' 'employee3' 'employee1' 'employee2' 'employee3' 'employee3'\n",
      " 'employee1' 'employee2' 'employee2' 'employee1' 'employee3' 'employee3'\n",
      " 'employee1' 'employee2' 'employee2' 'employee2' 'employee2' 'employee2'\n",
      " 'employee3' 'employee1']\n"
     ]
    }
   ],
   "source": [
    "fruits = ['employee1', 'employee2', 'employee3']\n",
    "print(np.random.choice(fruits, size=20, p=[0.33, 0.33, 0.34]))"
   ]
  },
  {
   "cell_type": "code",
   "execution_count": 2,
   "id": "a7d5c169",
   "metadata": {},
   "outputs": [],
   "source": [
    "import numpy as np\n",
    "arr1 = np.arange(0, 10)"
   ]
  },
  {
   "cell_type": "code",
   "execution_count": 3,
   "id": "35f0de1f",
   "metadata": {},
   "outputs": [
    {
     "data": {
      "text/plain": [
       "array([False, False, False, False, False, False,  True,  True,  True,\n",
       "        True])"
      ]
     },
     "execution_count": 3,
     "metadata": {},
     "output_type": "execute_result"
    }
   ],
   "source": [
    "arr1>5"
   ]
  },
  {
   "cell_type": "code",
   "execution_count": 4,
   "id": "cdba6bb9",
   "metadata": {},
   "outputs": [
    {
     "data": {
      "text/plain": [
       "array([0, 1, 2, 3, 4, 5, 6, 7, 8, 9])"
      ]
     },
     "execution_count": 4,
     "metadata": {},
     "output_type": "execute_result"
    }
   ],
   "source": [
    "arr1"
   ]
  },
  {
   "cell_type": "code",
   "execution_count": 5,
   "id": "a2164d95",
   "metadata": {},
   "outputs": [
    {
     "data": {
      "text/plain": [
       "array([ 6,  7,  8,  9, 10, 11, 12, 13, 14, 15])"
      ]
     },
     "execution_count": 5,
     "metadata": {},
     "output_type": "execute_result"
    }
   ],
   "source": [
    "arr2 = np.arange(6, 16)\n",
    "arr2"
   ]
  },
  {
   "cell_type": "code",
   "execution_count": null,
   "id": "665750c6",
   "metadata": {},
   "outputs": [],
   "source": [
    "arr2[arr1>5] #return numbers same index as arr1 which satisfy the condition that are 'True'"
   ]
  }
 ],
 "metadata": {
  "kernelspec": {
   "display_name": "Python 3 (ipykernel)",
   "language": "python",
   "name": "python3"
  },
  "language_info": {
   "codemirror_mode": {
    "name": "ipython",
    "version": 3
   },
   "file_extension": ".py",
   "mimetype": "text/x-python",
   "name": "python",
   "nbconvert_exporter": "python",
   "pygments_lexer": "ipython3",
   "version": "3.9.12"
  }
 },
 "nbformat": 4,
 "nbformat_minor": 5
}
