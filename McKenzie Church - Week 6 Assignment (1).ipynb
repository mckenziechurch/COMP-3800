{
 "cells": [
  {
   "cell_type": "code",
   "execution_count": 1,
   "id": "518b9c4b",
   "metadata": {},
   "outputs": [
    {
     "name": "stdout",
     "output_type": "stream",
     "text": [
      "                Country  CountryID  Continent  Adolescent fertility rate (%)  \\\n",
      "0           Afghanistan          1          1                          151.0   \n",
      "1               Albania          2          2                           27.0   \n",
      "2               Algeria          3          3                            6.0   \n",
      "3               Andorra          4          2                            NaN   \n",
      "4                Angola          5          3                          146.0   \n",
      "..                  ...        ...        ...                            ...   \n",
      "197             Vietnam        198          6                           25.0   \n",
      "198  West Bank and Gaza        199          1                            NaN   \n",
      "199               Yemen        200          1                           83.0   \n",
      "200              Zambia        201          3                          161.0   \n",
      "201            Zimbabwe        202          3                          101.0   \n",
      "\n",
      "     Adult literacy rate (%)  \\\n",
      "0                       28.0   \n",
      "1                       98.7   \n",
      "2                       69.9   \n",
      "3                        NaN   \n",
      "4                       67.4   \n",
      "..                       ...   \n",
      "197                     90.3   \n",
      "198                      NaN   \n",
      "199                     54.1   \n",
      "200                     68.0   \n",
      "201                     89.5   \n",
      "\n",
      "     Gross national income per capita (PPP international $)  \\\n",
      "0                                                  NaN        \n",
      "1                                               6000.0        \n",
      "2                                               5940.0        \n",
      "3                                                  NaN        \n",
      "4                                               3890.0        \n",
      "..                                                 ...        \n",
      "197                                             2310.0        \n",
      "198                                                NaN        \n",
      "199                                             2090.0        \n",
      "200                                             1140.0        \n",
      "201                                                NaN        \n",
      "\n",
      "     Net primary school enrolment ratio female (%)  \\\n",
      "0                                              NaN   \n",
      "1                                             93.0   \n",
      "2                                             94.0   \n",
      "3                                             83.0   \n",
      "4                                             49.0   \n",
      "..                                             ...   \n",
      "197                                           91.0   \n",
      "198                                            NaN   \n",
      "199                                           65.0   \n",
      "200                                           94.0   \n",
      "201                                           88.0   \n",
      "\n",
      "     Net primary school enrolment ratio male (%)  \\\n",
      "0                                            NaN   \n",
      "1                                           94.0   \n",
      "2                                           96.0   \n",
      "3                                           83.0   \n",
      "4                                           51.0   \n",
      "..                                           ...   \n",
      "197                                         96.0   \n",
      "198                                          NaN   \n",
      "199                                         85.0   \n",
      "200                                         90.0   \n",
      "201                                         87.0   \n",
      "\n",
      "     Population (in thousands) total  Population annual growth rate (%)  ...  \\\n",
      "0                            26088.0                                4.0  ...   \n",
      "1                             3172.0                                0.6  ...   \n",
      "2                            33351.0                                1.5  ...   \n",
      "3                               74.0                                1.0  ...   \n",
      "4                            16557.0                                2.8  ...   \n",
      "..                               ...                                ...  ...   \n",
      "197                          86206.0                                1.4  ...   \n",
      "198                              NaN                                NaN  ...   \n",
      "199                          21732.0                                3.0  ...   \n",
      "200                          11696.0                                1.9  ...   \n",
      "201                          13228.0                                0.8  ...   \n",
      "\n",
      "     Total_CO2_emissions  Total_income  Total_reserves  \\\n",
      "0                 692.50           NaN             NaN   \n",
      "1                3499.12  4.790000e+09           78.14   \n",
      "2              137535.56  6.970000e+10          351.36   \n",
      "3                    NaN           NaN             NaN   \n",
      "4                8991.46  1.490000e+10           27.13   \n",
      "..                   ...           ...             ...   \n",
      "197            101826.23  4.480000e+10           47.11   \n",
      "198               655.86  3.780000e+09             NaN   \n",
      "199             20148.34  1.150000e+10          114.52   \n",
      "200              2366.94  4.090000e+09           10.41   \n",
      "201             11457.33  5.620000e+09            3.39   \n",
      "\n",
      "     Trade_balance_goods_and_services  Under_five_mortality_from_CME  \\\n",
      "0                                 NaN                         257.00   \n",
      "1                       -2.040000e+09                          18.47   \n",
      "2                        4.700000e+09                          40.00   \n",
      "3                                 NaN                            NaN   \n",
      "4                        9.140000e+09                         164.10   \n",
      "..                                ...                            ...   \n",
      "197                     -1.940000e+09                          20.20   \n",
      "198                               NaN                          28.00   \n",
      "199                      8.310000e+08                          82.40   \n",
      "200                     -4.470000e+08                         175.30   \n",
      "201                     -1.710000e+08                         106.50   \n",
      "\n",
      "     Under_five_mortality_from_IHME  Under_five_mortality_rate  \\\n",
      "0                             231.9                     257.00   \n",
      "1                              15.5                      18.47   \n",
      "2                              31.2                      40.00   \n",
      "3                               NaN                        NaN   \n",
      "4                             242.5                     164.10   \n",
      "..                              ...                        ...   \n",
      "197                            23.4                      20.20   \n",
      "198                            25.8                      28.00   \n",
      "199                            87.9                      82.40   \n",
      "200                           163.8                     175.30   \n",
      "201                            67.0                     106.50   \n",
      "\n",
      "     Urban_population  Urban_population_growth  Urban_population_pct_of_total  \n",
      "0           5740436.0                     5.44                           22.9  \n",
      "1           1431793.9                     2.21                           45.4  \n",
      "2          20800000.0                     2.61                           63.3  \n",
      "3                 NaN                      NaN                            NaN  \n",
      "4           8578749.0                     4.14                           53.3  \n",
      "..                ...                      ...                            ...  \n",
      "197        21900000.0                     2.90                           26.4  \n",
      "198         2596216.0                     3.33                           71.6  \n",
      "199         5759120.5                     4.37                           27.3  \n",
      "200         4017411.0                     1.95                           35.0  \n",
      "201         4709965.0                     1.90                           35.9  \n",
      "\n",
      "[202 rows x 358 columns]\n"
     ]
    }
   ],
   "source": [
    "import pandas as pd\n",
    "from matplotlib import pyplot as plt\n",
    "import numpy as np\n",
    "\n",
    "who_df = pd.read_csv('WHO.csv')\n",
    "print(who_df)"
   ]
  },
  {
   "cell_type": "code",
   "execution_count": 2,
   "id": "101ed32e",
   "metadata": {
    "scrolled": false
   },
   "outputs": [
    {
     "data": {
      "text/html": [
       "<div>\n",
       "<style scoped>\n",
       "    .dataframe tbody tr th:only-of-type {\n",
       "        vertical-align: middle;\n",
       "    }\n",
       "\n",
       "    .dataframe tbody tr th {\n",
       "        vertical-align: top;\n",
       "    }\n",
       "\n",
       "    .dataframe thead th {\n",
       "        text-align: right;\n",
       "    }\n",
       "</style>\n",
       "<table border=\"1\" class=\"dataframe\">\n",
       "  <thead>\n",
       "    <tr style=\"text-align: right;\">\n",
       "      <th></th>\n",
       "      <th>Country</th>\n",
       "      <th>CountryID</th>\n",
       "      <th>Continent</th>\n",
       "      <th>Gross national income per capita (PPP international $)</th>\n",
       "      <th>Population (in thousands) total</th>\n",
       "      <th>Population annual growth rate (%)</th>\n",
       "    </tr>\n",
       "  </thead>\n",
       "  <tbody>\n",
       "    <tr>\n",
       "      <th>0</th>\n",
       "      <td>Afghanistan</td>\n",
       "      <td>1</td>\n",
       "      <td>1</td>\n",
       "      <td>NaN</td>\n",
       "      <td>26088.0</td>\n",
       "      <td>4.0</td>\n",
       "    </tr>\n",
       "    <tr>\n",
       "      <th>1</th>\n",
       "      <td>Albania</td>\n",
       "      <td>2</td>\n",
       "      <td>2</td>\n",
       "      <td>6000.0</td>\n",
       "      <td>3172.0</td>\n",
       "      <td>0.6</td>\n",
       "    </tr>\n",
       "    <tr>\n",
       "      <th>2</th>\n",
       "      <td>Algeria</td>\n",
       "      <td>3</td>\n",
       "      <td>3</td>\n",
       "      <td>5940.0</td>\n",
       "      <td>33351.0</td>\n",
       "      <td>1.5</td>\n",
       "    </tr>\n",
       "    <tr>\n",
       "      <th>3</th>\n",
       "      <td>Andorra</td>\n",
       "      <td>4</td>\n",
       "      <td>2</td>\n",
       "      <td>NaN</td>\n",
       "      <td>74.0</td>\n",
       "      <td>1.0</td>\n",
       "    </tr>\n",
       "    <tr>\n",
       "      <th>4</th>\n",
       "      <td>Angola</td>\n",
       "      <td>5</td>\n",
       "      <td>3</td>\n",
       "      <td>3890.0</td>\n",
       "      <td>16557.0</td>\n",
       "      <td>2.8</td>\n",
       "    </tr>\n",
       "    <tr>\n",
       "      <th>...</th>\n",
       "      <td>...</td>\n",
       "      <td>...</td>\n",
       "      <td>...</td>\n",
       "      <td>...</td>\n",
       "      <td>...</td>\n",
       "      <td>...</td>\n",
       "    </tr>\n",
       "    <tr>\n",
       "      <th>197</th>\n",
       "      <td>Vietnam</td>\n",
       "      <td>198</td>\n",
       "      <td>6</td>\n",
       "      <td>2310.0</td>\n",
       "      <td>86206.0</td>\n",
       "      <td>1.4</td>\n",
       "    </tr>\n",
       "    <tr>\n",
       "      <th>198</th>\n",
       "      <td>West Bank and Gaza</td>\n",
       "      <td>199</td>\n",
       "      <td>1</td>\n",
       "      <td>NaN</td>\n",
       "      <td>NaN</td>\n",
       "      <td>NaN</td>\n",
       "    </tr>\n",
       "    <tr>\n",
       "      <th>199</th>\n",
       "      <td>Yemen</td>\n",
       "      <td>200</td>\n",
       "      <td>1</td>\n",
       "      <td>2090.0</td>\n",
       "      <td>21732.0</td>\n",
       "      <td>3.0</td>\n",
       "    </tr>\n",
       "    <tr>\n",
       "      <th>200</th>\n",
       "      <td>Zambia</td>\n",
       "      <td>201</td>\n",
       "      <td>3</td>\n",
       "      <td>1140.0</td>\n",
       "      <td>11696.0</td>\n",
       "      <td>1.9</td>\n",
       "    </tr>\n",
       "    <tr>\n",
       "      <th>201</th>\n",
       "      <td>Zimbabwe</td>\n",
       "      <td>202</td>\n",
       "      <td>3</td>\n",
       "      <td>NaN</td>\n",
       "      <td>13228.0</td>\n",
       "      <td>0.8</td>\n",
       "    </tr>\n",
       "  </tbody>\n",
       "</table>\n",
       "<p>202 rows × 6 columns</p>\n",
       "</div>"
      ],
      "text/plain": [
       "                Country  CountryID  Continent  \\\n",
       "0           Afghanistan          1          1   \n",
       "1               Albania          2          2   \n",
       "2               Algeria          3          3   \n",
       "3               Andorra          4          2   \n",
       "4                Angola          5          3   \n",
       "..                  ...        ...        ...   \n",
       "197             Vietnam        198          6   \n",
       "198  West Bank and Gaza        199          1   \n",
       "199               Yemen        200          1   \n",
       "200              Zambia        201          3   \n",
       "201            Zimbabwe        202          3   \n",
       "\n",
       "     Gross national income per capita (PPP international $)  \\\n",
       "0                                                  NaN        \n",
       "1                                               6000.0        \n",
       "2                                               5940.0        \n",
       "3                                                  NaN        \n",
       "4                                               3890.0        \n",
       "..                                                 ...        \n",
       "197                                             2310.0        \n",
       "198                                                NaN        \n",
       "199                                             2090.0        \n",
       "200                                             1140.0        \n",
       "201                                                NaN        \n",
       "\n",
       "     Population (in thousands) total  Population annual growth rate (%)  \n",
       "0                            26088.0                                4.0  \n",
       "1                             3172.0                                0.6  \n",
       "2                            33351.0                                1.5  \n",
       "3                               74.0                                1.0  \n",
       "4                            16557.0                                2.8  \n",
       "..                               ...                                ...  \n",
       "197                          86206.0                                1.4  \n",
       "198                              NaN                                NaN  \n",
       "199                          21732.0                                3.0  \n",
       "200                          11696.0                                1.9  \n",
       "201                          13228.0                                0.8  \n",
       "\n",
       "[202 rows x 6 columns]"
      ]
     },
     "execution_count": 2,
     "metadata": {},
     "output_type": "execute_result"
    }
   ],
   "source": [
    "who_sum_df = who_df[['Country', 'CountryID', 'Continent', 'Gross national income per capita (PPP international $)', 'Population (in thousands) total', 'Population annual growth rate (%)']].copy()\n",
    "who_sum_df"
   ]
  },
  {
   "cell_type": "code",
   "execution_count": 3,
   "id": "ee842b7c",
   "metadata": {},
   "outputs": [
    {
     "data": {
      "text/plain": [
       "array([['Antigua and Barbuda', 6, 4, 15130.0, 84.0, 1.3],\n",
       "       ['Bahamas', 12, 4, nan, 327.0, 1.2],\n",
       "       ['Barbados', 15, 4, 15150.0, 293.0, 0.3],\n",
       "       ['Bermuda', 20, 4, nan, nan, nan],\n",
       "       ['Canada', 32, 4, 36280.0, 32577.0, 0.9],\n",
       "       ['Mexico', 116, 4, 11990.0, 105342.0, 1.0],\n",
       "       ['United States of America', 193, 4, 44070.0, 302841.0, 1.0]],\n",
       "      dtype=object)"
      ]
     },
     "execution_count": 3,
     "metadata": {},
     "output_type": "execute_result"
    }
   ],
   "source": [
    "condition = who_sum_df['Country'] == 'Canada'\n",
    "canada_row = who_sum_df[condition].values\n",
    "canada_row #north america continent = 4\n",
    "#confirm continent num\n",
    "condition_country = who_sum_df['Continent'] == 4\n",
    "north_america = who_sum_df[condition_country].values\n",
    "north_america"
   ]
  },
  {
   "cell_type": "markdown",
   "id": "df35ee58",
   "metadata": {},
   "source": [
    "**1. Create a DataFrame of the population growth rate of countries in North America. Drop all the rows with null values. Use Bar Chart to compare the population growth rates of these countries. Remember to set up the labels, titles, xticks, yticks appropriately, especially the yticks.  10 points**"
   ]
  },
  {
   "cell_type": "code",
   "execution_count": 4,
   "id": "0fc5768d",
   "metadata": {},
   "outputs": [
    {
     "data": {
      "text/plain": [
       "Country                                                   0\n",
       "CountryID                                                 0\n",
       "Continent                                                 0\n",
       "Gross national income per capita (PPP international $)    2\n",
       "Population (in thousands) total                           1\n",
       "Population annual growth rate (%)                         1\n",
       "dtype: int64"
      ]
     },
     "execution_count": 4,
     "metadata": {},
     "output_type": "execute_result"
    }
   ],
   "source": [
    "north_amer = who_sum_df[who_sum_df.Continent == 4]\n",
    "north_amer.drop(columns=['Gross national income per capita (PPP international $)'])\n",
    "north_amer.isnull().sum()"
   ]
  },
  {
   "cell_type": "code",
   "execution_count": 5,
   "id": "fab31f58",
   "metadata": {},
   "outputs": [
    {
     "data": {
      "text/plain": [
       "Country                                                   0\n",
       "CountryID                                                 0\n",
       "Continent                                                 0\n",
       "Gross national income per capita (PPP international $)    0\n",
       "Population (in thousands) total                           0\n",
       "Population annual growth rate (%)                         0\n",
       "dtype: int64"
      ]
     },
     "execution_count": 5,
     "metadata": {},
     "output_type": "execute_result"
    }
   ],
   "source": [
    "north_amer_nonull = north_amer.dropna(axis=0, how='any', thresh=None, subset=None, inplace=False)\n",
    "north_amer_nonull.isnull().sum()"
   ]
  },
  {
   "cell_type": "code",
   "execution_count": 6,
   "id": "2d2d1c45",
   "metadata": {},
   "outputs": [
    {
     "data": {
      "text/plain": [
       "Text(0.5, 1.0, 'Population Annual Growth Rate per Country')"
      ]
     },
     "execution_count": 6,
     "metadata": {},
     "output_type": "execute_result"
    },
    {
     "data": {
      "image/png": "[encoded data removed]",
      "text/plain": [
       "<Figure size 432x288 with 1 Axes>"
      ]
     },
     "metadata": {
      "needs_background": "light"
     },
     "output_type": "display_data"
    }
   ],
   "source": [
    "plt.barh(north_amer_nonull.iloc[:,0], north_amer_nonull.iloc[:,5])\n",
    "plt.xlabel('Growth rate (%)')\n",
    "plt.ylabel('Country')\n",
    "plt.title('Population Annual Growth Rate per Country')"
   ]
  },
  {
   "cell_type": "markdown",
   "id": "bc514469",
   "metadata": {},
   "source": [
    "**2. Create a DataFrame by selecting the top 8 countries with the largest population and create a new row ‘other’ representing the total population of all other countries. Create a pie chart to show the consists of the global population. Use ‘explode’ to highlight the country with the largest population. Show the percentage numbers and labels on the chart. 10 points.**"
   ]
  },
  {
   "cell_type": "code",
   "execution_count": 7,
   "id": "34e52cf1",
   "metadata": {
    "scrolled": true
   },
   "outputs": [
    {
     "data": {
      "text/html": [
       "<div>\n",
       "<style scoped>\n",
       "    .dataframe tbody tr th:only-of-type {\n",
       "        vertical-align: middle;\n",
       "    }\n",
       "\n",
       "    .dataframe tbody tr th {\n",
       "        vertical-align: top;\n",
       "    }\n",
       "\n",
       "    .dataframe thead th {\n",
       "        text-align: right;\n",
       "    }\n",
       "</style>\n",
       "<table border=\"1\" class=\"dataframe\">\n",
       "  <thead>\n",
       "    <tr style=\"text-align: right;\">\n",
       "      <th></th>\n",
       "      <th>Country</th>\n",
       "      <th>Population (in thousands) total</th>\n",
       "    </tr>\n",
       "  </thead>\n",
       "  <tbody>\n",
       "    <tr>\n",
       "      <th>0</th>\n",
       "      <td>other</td>\n",
       "      <td>6580923.0</td>\n",
       "    </tr>\n",
       "    <tr>\n",
       "      <th>1</th>\n",
       "      <td>China</td>\n",
       "      <td>1328474.0</td>\n",
       "    </tr>\n",
       "    <tr>\n",
       "      <th>2</th>\n",
       "      <td>India</td>\n",
       "      <td>1151751.0</td>\n",
       "    </tr>\n",
       "    <tr>\n",
       "      <th>3</th>\n",
       "      <td>United States of America</td>\n",
       "      <td>302841.0</td>\n",
       "    </tr>\n",
       "    <tr>\n",
       "      <th>4</th>\n",
       "      <td>Indonesia</td>\n",
       "      <td>228864.0</td>\n",
       "    </tr>\n",
       "    <tr>\n",
       "      <th>5</th>\n",
       "      <td>Brazil</td>\n",
       "      <td>189323.0</td>\n",
       "    </tr>\n",
       "    <tr>\n",
       "      <th>6</th>\n",
       "      <td>Pakistan</td>\n",
       "      <td>160943.0</td>\n",
       "    </tr>\n",
       "    <tr>\n",
       "      <th>7</th>\n",
       "      <td>Bangladesh</td>\n",
       "      <td>155991.0</td>\n",
       "    </tr>\n",
       "    <tr>\n",
       "      <th>8</th>\n",
       "      <td>Nigeria</td>\n",
       "      <td>144720.0</td>\n",
       "    </tr>\n",
       "  </tbody>\n",
       "</table>\n",
       "</div>"
      ],
      "text/plain": [
       "                    Country  Population (in thousands) total\n",
       "0                     other                        6580923.0\n",
       "1                     China                        1328474.0\n",
       "2                     India                        1151751.0\n",
       "3  United States of America                         302841.0\n",
       "4                 Indonesia                         228864.0\n",
       "5                    Brazil                         189323.0\n",
       "6                  Pakistan                         160943.0\n",
       "7                Bangladesh                         155991.0\n",
       "8                   Nigeria                         144720.0"
      ]
     },
     "execution_count": 7,
     "metadata": {},
     "output_type": "execute_result"
    }
   ],
   "source": [
    "highest_populations_df = pd.pivot_table(who_sum_df, values='Population (in thousands) total', index='Country', aggfunc='sum', margins=True)\n",
    "eight_highest_pops = highest_populations_df.nlargest(9, 'Population (in thousands) total')\n",
    "eight_highest_pops = eight_highest_pops.rename(index={'All':'other'})\n",
    "eight_highest_pops = eight_highest_pops.reset_index(drop=False)\n",
    "eight_highest_pops"
   ]
  },
  {
   "cell_type": "code",
   "execution_count": 8,
   "id": "84363355",
   "metadata": {},
   "outputs": [
    {
     "data": {
      "image/png": "[encoded data removed]",
      "text/plain": [
       "<Figure size 432x288 with 1 Axes>"
      ]
     },
     "metadata": {},
     "output_type": "display_data"
    }
   ],
   "source": [
    "plt.pie(eight_highest_pops['Population (in thousands) total'],\n",
    "        explode = [0.2, 0, 0, 0, 0, 0, 0, 0, 0],\n",
    "       labels = eight_highest_pops['Country'],\n",
    "       shadow = True,\n",
    "       autopct = '%.2f%%')\n",
    "plt.legend(loc='best', bbox_to_anchor=(-0.1, 1.))\n",
    "plt.show()"
   ]
  },
  {
   "cell_type": "markdown",
   "id": "dbbafbc3",
   "metadata": {},
   "source": [
    "**3. Select the two columns ‘Gross national income per capita (PPP international $)’, ‘Population annual growth rate (%)’. Drop all the rows with any null values. Plot a scatter.**"
   ]
  },
  {
   "cell_type": "code",
   "execution_count": 9,
   "id": "52d3ce34",
   "metadata": {},
   "outputs": [
    {
     "data": {
      "image/png": "[encoded data removed]",
      "text/plain": [
       "<Figure size 432x288 with 1 Axes>"
      ]
     },
     "metadata": {
      "needs_background": "light"
     },
     "output_type": "display_data"
    }
   ],
   "source": [
    "new_cols_df = who_sum_df[['Gross national income per capita (PPP international $)', 'Population annual growth rate (%)']]\n",
    "new_cols_nonull = new_cols_df.dropna(axis=0, how='any', thresh=None, subset=None, inplace=False)\n",
    "new_cols_nonull = new_cols_nonull.reset_index(drop=False)\n",
    "\n",
    "x = new_cols_nonull['Population annual growth rate (%)'].values\n",
    "plt.xlabel('Population annual growth rate (%)')\n",
    "y = new_cols_nonull['Gross national income per capita (PPP international $)'].values\n",
    "plt.ylabel('Gross national income per capita (PPP international $)')\n",
    "plt.title('Population Growth vs Gross National Income per Capita')\n",
    "\n",
    "plt.scatter(x, y, marker='o', color='c')\n",
    "plt.show()"
   ]
  },
  {
   "cell_type": "markdown",
   "id": "154b43a9",
   "metadata": {},
   "source": [
    "**4. Describe the above scatterplot (form, direction, strength, outliers). Use non-mathematical language to explain the results  Reference: https://www.khanacademy.org/math/ap-statistics/bivariate-data-ap/scatterplots-correlation/a/describing-scatterplots-form-direction-strength-outliers  10 points**"
   ]
  },
  {
   "cell_type": "markdown",
   "id": "e3a9313f",
   "metadata": {},
   "source": [
    "This scatterplot shows a weak, linear positive association between the gross national income per capita and population annual growth rate. There appears to be a few outliers where the national income per capita is relatively low, while the population still grew."
   ]
  },
  {
   "cell_type": "markdown",
   "id": "1e8618ae",
   "metadata": {},
   "source": [
    "**5. Create an histogram of the column ‘Population annual growth rate (%)’. Describe the histogram, Where is the center of the data? What is the spread of the data? What is the range? What is the shape of the data? What are the outliers? 10 points Reference: https://www.labxchange.org/library/items/lb:LabXchange:10d3270e:html:1**"
   ]
  },
  {
   "cell_type": "code",
   "execution_count": 10,
   "id": "89794bfe",
   "metadata": {},
   "outputs": [
    {
     "data": {
      "image/png": "[encoded data removed]",
      "text/plain": [
       "<Figure size 432x288 with 1 Axes>"
      ]
     },
     "metadata": {
      "needs_background": "light"
     },
     "output_type": "display_data"
    }
   ],
   "source": [
    "df_pop_growth = who_sum_df[['Population annual growth rate (%)']]\n",
    "plt.hist(df_pop_growth, 30)\n",
    "plt.xlabel('Year')\n",
    "plt.ylabel('Population Growth')\n",
    "plt.title('Population Annual Growth Rate (%)')\n",
    "\n",
    "plt.show()"
   ]
  },
  {
   "cell_type": "markdown",
   "id": "a2074e07",
   "metadata": {},
   "source": [
    "The histogram has a right-skewed distribution. The center, median, of the data appears to be between year 2 and 3, while the mean occurs at 3. The mode appears at both year 2 and 2. The range appears to be from  -1 to between 3 and 4, with years -2 and 4 containing outliers of similar values."
   ]
  },
  {
   "cell_type": "markdown",
   "id": "6312a2c0",
   "metadata": {},
   "source": [
    "**6. Use your non-mathematical language to explain the result from the histogram to audiences.  10 points**"
   ]
  },
  {
   "cell_type": "markdown",
   "id": "b599b31c",
   "metadata": {},
   "source": [
    "The histogram shows a trend where the majority of the data occurs towards the left of the graph, in the lower end of the x-axis. This shows that as the years increase, a spike occurs, after which the population growth appears to level off then drop. The highest year appears to return to the growth occurring in earlier years."
   ]
  },
  {
   "cell_type": "markdown",
   "id": "32006de7",
   "metadata": {},
   "source": [
    "**7. Use a grouped bar plot to show the change of enrollments for these four categories of students. The x-axis should be the years.  Add a line chart in the same graph to show the change of the total enrollment over the years.  10 points**"
   ]
  },
  {
   "cell_type": "code",
   "execution_count": 11,
   "id": "ea8dc143",
   "metadata": {},
   "outputs": [
    {
     "data": {
      "text/html": [
       "<div>\n",
       "<style scoped>\n",
       "    .dataframe tbody tr th:only-of-type {\n",
       "        vertical-align: middle;\n",
       "    }\n",
       "\n",
       "    .dataframe tbody tr th {\n",
       "        vertical-align: top;\n",
       "    }\n",
       "\n",
       "    .dataframe thead th {\n",
       "        text-align: right;\n",
       "    }\n",
       "</style>\n",
       "<table border=\"1\" class=\"dataframe\">\n",
       "  <thead>\n",
       "    <tr style=\"text-align: right;\">\n",
       "      <th></th>\n",
       "      <th>2017</th>\n",
       "      <th>2018</th>\n",
       "      <th>2019</th>\n",
       "      <th>2020</th>\n",
       "      <th>2021</th>\n",
       "    </tr>\n",
       "  </thead>\n",
       "  <tbody>\n",
       "    <tr>\n",
       "      <th>Full-Time Undergraduate</th>\n",
       "      <td>8938</td>\n",
       "      <td>8728</td>\n",
       "      <td>8090</td>\n",
       "      <td>7528</td>\n",
       "      <td>6781</td>\n",
       "    </tr>\n",
       "    <tr>\n",
       "      <th>Full-Time Graduate</th>\n",
       "      <td>640</td>\n",
       "      <td>611</td>\n",
       "      <td>552</td>\n",
       "      <td>652</td>\n",
       "      <td>575</td>\n",
       "    </tr>\n",
       "    <tr>\n",
       "      <th>Part-Time Undergraduate</th>\n",
       "      <td>2291</td>\n",
       "      <td>2407</td>\n",
       "      <td>2321</td>\n",
       "      <td>2803</td>\n",
       "      <td>2788</td>\n",
       "    </tr>\n",
       "    <tr>\n",
       "      <th>Part-Time Graduate</th>\n",
       "      <td>1651</td>\n",
       "      <td>1987</td>\n",
       "      <td>2275</td>\n",
       "      <td>2436</td>\n",
       "      <td>2574</td>\n",
       "    </tr>\n",
       "  </tbody>\n",
       "</table>\n",
       "</div>"
      ],
      "text/plain": [
       "                         2017  2018  2019  2020  2021\n",
       "Full-Time Undergraduate  8938  8728  8090  7528  6781\n",
       "Full-Time Graduate        640   611   552   652   575\n",
       "Part-Time Undergraduate  2291  2407  2321  2803  2788\n",
       "Part-Time Graduate       1651  1987  2275  2436  2574"
      ]
     },
     "execution_count": 11,
     "metadata": {},
     "output_type": "execute_result"
    }
   ],
   "source": [
    "data = [[8938, 8728, 8090, 7528, 6781], [640, 611, 552, 652, 575], [2291, 2407, 2321, 2803, 2788], [1651, 1987, 2275, 2436, 2574]]\n",
    "index = ['Full-Time Undergraduate', 'Full-Time Graduate', 'Part-Time Undergraduate', 'Part-Time Graduate']\n",
    "columns = [2017, 2018, 2019, 2020, 2021]\n",
    "enrollments_df = pd.DataFrame(data=data, index=index, columns=columns)\n",
    "enrollments_df.reset_index()\n",
    "enrollments_df"
   ]
  },
  {
   "cell_type": "code",
   "execution_count": 15,
   "id": "e25944c4",
   "metadata": {
    "scrolled": true
   },
   "outputs": [
    {
     "data": {
      "image/png": "[encoded data removed]",
      "text/plain": [
       "<Figure size 432x288 with 1 Axes>"
      ]
     },
     "metadata": {
      "needs_background": "light"
     },
     "output_type": "display_data"
    }
   ],
   "source": [
    "width = 0.1\n",
    "x_axis = np.arange(0, 5)\n",
    "plt.bar(x_axis, enrollments_df.iloc[0,:], width = width) #year 2017\n",
    "# iloc[rows, columns]\n",
    "plt.bar(x_axis+0.1*1, enrollments_df.iloc[1,:], width = width)\n",
    "plt.bar(x_axis+0.1*2, enrollments_df.iloc[2,:], width = width)\n",
    "plt.bar(x_axis+0.1*3, enrollments_df.iloc[3,:], width = width)\n",
    "#plt.xticks(x_axis, index)\n",
    "plt.legend(enrollments_df.columns[0:4], loc='best')\n",
    "plt.title('Enrollments by Category per Year')\n",
    "plt.xlabel('Category')\n",
    "plt.ylabel('Enrollment Amount')\n",
    "#plt.size()\n",
    "\n",
    "#x = the years, y = enrollment number\n",
    "plt.show()"
   ]
  },
  {
   "cell_type": "markdown",
   "id": "f0f22522",
   "metadata": {},
   "source": [
    "**8. Use your own words to explain the result from the above bar chart. The overall trend, the trend for each group, the consist of the enrollment. Use one paragraph for each key point. 10 points     You can learn examples of interpreting data from these reports: https://www.pewresearch.org/publications/**"
   ]
  },
  {
   "cell_type": "markdown",
   "id": "da63cfe5",
   "metadata": {},
   "source": [
    "#explanation incorrect bc didn't understand graph; ^ correct graph above\n",
    "\n",
    "Overall, there appears to be higher enrollment in the category 'Full-Time Undergraduate', with the highest enrollment year being 2017. This specific group has a strong right-skewed distribution, with the media occurring in 2019 and the mean occurring in 2018. The overall range is from 6000 to over 8000. \n",
    "\n",
    "The lowest category comes from the 'Full-Time Graduate' category, with the highest enrollment year being 2019. It has a relatively uniform distribution, consisting of no outliers, mean or median. This is showing that the enrollment remained relatively consistent through these four years. The range remains under 2000 per year.\n",
    "\n",
    "The 'Part-Time Undergraduate' category appears to have a weak left-skewed distribution, with the highest enrollment year being 2019. The lowest year of enrollment is 2018, with the mean being 2017. This group also does not contain any outliers, and the range is from 2000 to below 4000. \n",
    "\n",
    "Lastly, the 'Part-Time Graduate' category has a strong left-skewed distribution, with the median being 2018, and the mean being 2017. The highest enrollment in this category occurred in 2020, with no outliers occurring overall. \n",
    "\n",
    "Overall, the outlier appears to be the 'Full-Time Graduate' category, showing the lowest enrollment rates across the years out of all groups presented. The upper outlier is the 'Full-Time Undergraduate', with the enrollment rates being the highest out of all groups. Both 'Part-Time' groups appear to represent the average or the mean for enrollment rates. "
   ]
  },
  {
   "cell_type": "markdown",
   "id": "e8a51077",
   "metadata": {},
   "source": [
    "**9. Change the above grouped bar chart to a stacked bar chart. 10 points.**"
   ]
  },
  {
   "cell_type": "code",
   "execution_count": 191,
   "id": "855e2cca",
   "metadata": {},
   "outputs": [
    {
     "data": {
      "image/png": "[encoded data removed]",
      "text/plain": [
       "<Figure size 432x288 with 1 Axes>"
      ]
     },
     "metadata": {
      "needs_background": "light"
     },
     "output_type": "display_data"
    }
   ],
   "source": [
    "x_axis = np.arange(4)\n",
    "width = 0.15\n",
    "plt.bar(x_axis, enrollments_df.iloc[:,1], width = width)\n",
    "plt.bar(x_axis, enrollments_df.iloc[:,2], width = width, bottom=enrollments_df.iloc[:,1])\n",
    "plt.bar(x_axis, enrollments_df.iloc[:,3], width = width, bottom = enrollments_df.iloc[:,1]+enrollments_df.iloc[:,2])\n",
    "plt.bar(x_axis, enrollments_df.iloc[:,4], width = width, bottom = enrollments_df.iloc[:,1]+enrollments_df.iloc[:,2]+enrollments_df.iloc[:,3])\n",
    "\n",
    "plt.xticks(x_axis, index)\n",
    "plt.legend(enrollments_df.columns[0:4], loc='best')\n",
    "plt.title('Enrollments by Category per Year')\n",
    "plt.xlabel('Category')\n",
    "plt.ylabel('Enrollment Amount')\n",
    "\n",
    "plt.show()"
   ]
  },
  {
   "cell_type": "markdown",
   "id": "6edc56ec",
   "metadata": {},
   "source": [
    "**10. Change the above bar chart to four subplots. Each subplot shows the change of enrollment number of each group. 10 points.**"
   ]
  },
  {
   "cell_type": "code",
   "execution_count": 16,
   "id": "b4ac1744",
   "metadata": {},
   "outputs": [
    {
     "data": {
      "image/png": "[encoded data removed]",
      "text/plain": [
       "<Figure size 432x288 with 4 Axes>"
      ]
     },
     "metadata": {
      "needs_background": "light"
     },
     "output_type": "display_data"
    }
   ],
   "source": [
    "fig, axes = plt.subplots(2, 2, sharex=True, sharey=True)\n",
    "\n",
    "axes[0,0].bar(x_axis, enrollments_df.iloc[0,:], width = width)\n",
    "axes[0,0].set_title('Full-Time Undergraduate')\n",
    "\n",
    "axes[0,1].bar(x_axis, enrollments_df.iloc[1,:], width = width)\n",
    "axes[0,1].set_title('Full-Time Graduate')\n",
    "\n",
    "axes[1,0].bar(x_axis, enrollments_df.iloc[2,:], width = width)\n",
    "axes[1,0].set_title('Part-Time Undergraduate')\n",
    "\n",
    "axes[1,1].bar(x_axis, enrollments_df.iloc[3,:], width = width)\n",
    "axes[1,1].set_title('Part-Time Graduate')\n",
    "\n",
    "fig.suptitle('Enrollments')\n",
    "plt.subplots_adjust(wspace=0.5, hspace=0.5)\n",
    "plt.show()\n",
    "\n",
    "#graph below sectioned plots by year instead of student type\n",
    "#also incorrect iloc method"
   ]
  },
  {
   "cell_type": "markdown",
   "id": "a3cfe76f",
   "metadata": {},
   "source": [
    "THIS IS AN INDIVIDUAL ASSIGNMENT. YOU MAY NOT DISCUSS THIS ASSIGNMENT WITH ANYONE WITHIN OR OUTSIDE THE CLASS (except the instructor).\n",
    "- DO not discuss your approaches or your code with colleagues. There are many ways to implement this assignment, and it is extremely easy to spot code that has been inspired by someone else’s code and to identify unauthorized collaborations.\n",
    "- If you choose to utilize something you find online, cite that resource, but DO NOT share that resource with anyone else.\n",
    "By submitting this assignment, you certify that no unauthorized assistance has been received or given in the completion of this work.\n",
    "\n",
    "McKenzie Church"
   ]
  }
 ],
 "metadata": {
  "kernelspec": {
   "display_name": "Python 3 (ipykernel)",
   "language": "python",
   "name": "python3"
  },
  "language_info": {
   "codemirror_mode": {
    "name": "ipython",
    "version": 3
   },
   "file_extension": ".py",
   "mimetype": "text/x-python",
   "name": "python",
   "nbconvert_exporter": "python",
   "pygments_lexer": "ipython3",
   "version": "3.9.12"
  }
 },
 "nbformat": 4,
 "nbformat_minor": 5
}
