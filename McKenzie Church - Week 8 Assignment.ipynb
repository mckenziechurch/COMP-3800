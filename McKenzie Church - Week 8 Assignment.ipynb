{
 "cells": [
  {
   "cell_type": "markdown",
   "id": "ef43427d",
   "metadata": {},
   "source": [
    "#### Simple Linear Regression"
   ]
  },
  {
   "cell_type": "markdown",
   "id": "93d8b272",
   "metadata": {},
   "source": [
    "**1. Download the ‘Auto Insurance in Sweden’ from this link, https://college.cengage.com/mathematics/brase/understandable_statistics/7e/students/datasets/slr/frames/frame.html . Plot a scatterplot with number of claims as x and total payment as y.  5 points**"
   ]
  },
  {
   "cell_type": "code",
   "execution_count": 3,
   "id": "a30fc666",
   "metadata": {},
   "outputs": [],
   "source": [
    "import pandas as pd\n",
    "import matplotlib.pyplot as plt\n",
    "from sklearn.linear_model import LinearRegression\n",
    "# had to enter data this way due to edit disabled on excel for\n",
    "# this data and notepad++ couldn't recognize the data\n",
    "x = [[108], [19], [13], [124], [40], [57], [23], [14], [45], [10], [5], [48], [11], \n",
    "     [23], [7], [2], [24], [6], [3], [23], [6], [9], [9], [3], [29], [7], [4], [20], [7], \n",
    "     [4], [0], [25], [6], [5], [22], [11], [61], [12], [4], [16], [13], [60], [41], [37], \n",
    "     [55], [41], [11], [27], [8], [3], [17], [13], [13], [15], [8], [29], [30], [24], [9], \n",
    "     [31], [14], [53], [26]]\n",
    "y = [[392.5], [46.2], [15.7], [422.2], [119.4], [170.9], [56.9], [77.5], \n",
    "     [214], [65.3], [20.9], [248.1], [23.5], [39.6], [48.8], [6.6], [134.9], \n",
    "     [50.9], [4.4], [113], [14.8], [48.7], [52.1], [13.2], [103.9], [77.5], \n",
    "     [11.8], [98.1], [27.9], [38.1], [0], [69.2], [14.6], [40.3], [161.5], [57.2], \n",
    "     [217.6], [58.1], [12.6], [59.6], [89.9], [202.4], [181.3], [152.8], [162.8], \n",
    "     [73.4], [21.3], [92.6], [76.1], [39.9], [142.1], [93], [31.9], [32.1], [55.6], \n",
    "     [133.3], [194.5], [137.9], [87.4], [209.8], [95.5], [244.6], [187.5]]"
   ]
  },
  {
   "cell_type": "code",
   "execution_count": 4,
   "id": "0b3903a4",
   "metadata": {},
   "outputs": [
    {
     "data": {
      "text/plain": [
       "[<matplotlib.lines.Line2D at 0x2344f0fb460>]"
      ]
     },
     "execution_count": 4,
     "metadata": {},
     "output_type": "execute_result"
    },
    {
     "data": {
      "image/png": "[encoded data removed]",
      "text/plain": [
       "<Figure size 432x288 with 1 Axes>"
      ]
     },
     "metadata": {
      "needs_background": "light"
     },
     "output_type": "display_data"
    }
   ],
   "source": [
    "plt.title('Auto Insurance in Sweden')\n",
    "plt.xlabel('no. of claims')\n",
    "plt.ylabel('total payments')\n",
    "plt.grid(True)\n",
    "plt.plot(x, y, '.')"
   ]
  },
  {
   "cell_type": "markdown",
   "id": "eb59b441",
   "metadata": {},
   "source": [
    "**2. Create a simple linear regression model for this data. Plotting the Linear Regression Line with the scatter plot.   10 points**"
   ]
  },
  {
   "cell_type": "code",
   "execution_count": 5,
   "id": "719b60bb",
   "metadata": {},
   "outputs": [
    {
     "data": {
      "text/plain": [
       "LinearRegression()"
      ]
     },
     "execution_count": 5,
     "metadata": {},
     "output_type": "execute_result"
    }
   ],
   "source": [
    "model = LinearRegression()\n",
    "model.fit(x, y)"
   ]
  },
  {
   "cell_type": "code",
   "execution_count": 6,
   "id": "a3f94e09",
   "metadata": {},
   "outputs": [
    {
     "data": {
      "text/plain": [
       "[<matplotlib.lines.Line2D at 0x2344f8afca0>]"
      ]
     },
     "execution_count": 6,
     "metadata": {},
     "output_type": "execute_result"
    },
    {
     "data": {
      "image/png": "[encoded data removed]",
      "text/plain": [
       "<Figure size 432x288 with 1 Axes>"
      ]
     },
     "metadata": {
      "needs_background": "light"
     },
     "output_type": "display_data"
    }
   ],
   "source": [
    "plt.plot(x, y, '.')\n",
    "plt.plot(x, model.predict(x))\n",
    "\n",
    "plt.title('Auto Insurance in Sweden')\n",
    "plt.xlabel('no. of claims')\n",
    "plt.ylabel('total payments')\n",
    "plt.grid(True)\n",
    "plt.plot(x, y, '.')"
   ]
  },
  {
   "cell_type": "markdown",
   "id": "04b4344a",
   "metadata": {},
   "source": [
    "**3. What are the intercept and the slope of this Linear Regression Line? 5 points**"
   ]
  },
  {
   "cell_type": "code",
   "execution_count": 7,
   "id": "6ee1d7e1",
   "metadata": {},
   "outputs": [
    {
     "name": "stdout",
     "output_type": "stream",
     "text": [
      "Intercept:\n",
      "[19.99448576]\n",
      "Slope:\n",
      "[[3.41382356]]\n"
     ]
    }
   ],
   "source": [
    "print(\"Intercept:\")\n",
    "print(model.intercept_)\n",
    "\n",
    "print(\"Slope:\")\n",
    "print(model.coef_)"
   ]
  },
  {
   "cell_type": "markdown",
   "id": "068cf5ae",
   "metadata": {},
   "source": [
    "**4. What is the R-squared value of this regression model? What does this R-squared value indicate?  5 points**"
   ]
  },
  {
   "cell_type": "code",
   "execution_count": 8,
   "id": "1e2d3f8f",
   "metadata": {},
   "outputs": [
    {
     "name": "stdout",
     "output_type": "stream",
     "text": [
      "R-squared:\n",
      "0.8333466719794502\n"
     ]
    }
   ],
   "source": [
    "print(\"R-squared:\")\n",
    "print(model.score(x,y))"
   ]
  },
  {
   "cell_type": "markdown",
   "id": "ee3cc8c9",
   "metadata": {},
   "source": [
    "**5. Use this model to predict the total payment of all claims when the number of claim is 65. 5 points**"
   ]
  },
  {
   "cell_type": "code",
   "execution_count": 9,
   "id": "b7ae0158",
   "metadata": {},
   "outputs": [
    {
     "name": "stdout",
     "output_type": "stream",
     "text": [
      "Total Payment for 65 Claims:\n"
     ]
    },
    {
     "data": {
      "text/plain": [
       "array([[241.89301716]])"
      ]
     },
     "execution_count": 9,
     "metadata": {},
     "output_type": "execute_result"
    }
   ],
   "source": [
    "print(\"Total Payment for 65 Claims:\")\n",
    "model.predict([[65]])"
   ]
  },
  {
   "cell_type": "markdown",
   "id": "d59201ef",
   "metadata": {},
   "source": [
    "**6. Create a new DataFrame by adding two instances, (x = 15, y = 250), (x = 40, y = 350). Create a second linear regression model with this new data. Plotting this new regression line as well as the first regression line on the scatter plot. How does the new regression line drift?   10 points**"
   ]
  },
  {
   "cell_type": "code",
   "execution_count": 10,
   "id": "85743874",
   "metadata": {},
   "outputs": [
    {
     "data": {
      "text/plain": [
       "[<matplotlib.lines.Line2D at 0x2344f927910>]"
      ]
     },
     "execution_count": 10,
     "metadata": {},
     "output_type": "execute_result"
    },
    {
     "data": {
      "image/png": "[encoded data removed]",
      "text/plain": [
       "<Figure size 432x288 with 1 Axes>"
      ]
     },
     "metadata": {
      "needs_background": "light"
     },
     "output_type": "display_data"
    }
   ],
   "source": [
    "x_new = [[15], [40]]\n",
    "y_new = [[250], [350]]\n",
    "plt.title('Auto Insurance in Sweden')\n",
    "plt.xlabel('no. of claims')\n",
    "plt.ylabel('total payments')\n",
    "plt.grid(True)\n",
    "plt.plot(x_new, y_new, '.')"
   ]
  },
  {
   "cell_type": "code",
   "execution_count": 11,
   "id": "bbe85179",
   "metadata": {},
   "outputs": [
    {
     "data": {
      "text/plain": [
       "LinearRegression()"
      ]
     },
     "execution_count": 11,
     "metadata": {},
     "output_type": "execute_result"
    }
   ],
   "source": [
    "model_new = LinearRegression()\n",
    "model_new.fit(x_new, y_new)"
   ]
  },
  {
   "cell_type": "code",
   "execution_count": 12,
   "id": "79e1d94a",
   "metadata": {},
   "outputs": [
    {
     "data": {
      "text/plain": [
       "[<matplotlib.lines.Line2D at 0x2344f99e5b0>]"
      ]
     },
     "execution_count": 12,
     "metadata": {},
     "output_type": "execute_result"
    },
    {
     "data": {
      "image/png": "[encoded data removed]",
      "text/plain": [
       "<Figure size 432x288 with 1 Axes>"
      ]
     },
     "metadata": {
      "needs_background": "light"
     },
     "output_type": "display_data"
    }
   ],
   "source": [
    "plt.plot(x_new, y_new, '.')\n",
    "plt.plot(x_new, model_new.predict(x_new))\n",
    "\n",
    "plt.title('Auto Insurance in Sweden')\n",
    "plt.xlabel('no. of claims')\n",
    "plt.ylabel('total payments')\n",
    "plt.grid(True)\n",
    "plt.plot(x_new, y_new, '.')\n",
    "\n",
    "plt.plot(x, model.predict(x))\n",
    "plt.plot(x, y, '.')"
   ]
  },
  {
   "cell_type": "markdown",
   "id": "a15c7819",
   "metadata": {},
   "source": [
    "The newer regression line appears to be a more accurate prediction than the first one, though there are only two data points to reference for the prediction. The newer line is also a lot higher (location) than the first one, including higher payment amounts. "
   ]
  },
  {
   "cell_type": "markdown",
   "id": "8addf200",
   "metadata": {},
   "source": [
    "**7. Using the examples in Question #6, find instances of outliers and instances of extreme values. How do they affect the regression model in a different way?  5 points   Distinction between Outliers and Extreme Values:  https://online.stat.psu.edu/stat462/node/170/.**"
   ]
  },
  {
   "cell_type": "markdown",
   "id": "277e1b31",
   "metadata": {},
   "source": [
    "- *outlier*: \"a data point whose response y does not follow the general trend of the rest of the data\"\n",
    "- *extreme*: \"a data point has high leverage if it has \"extreme\" predictor x values. With a single predictor, **an extreme x value is simply one that is particularly high or low**. With multiple predictors, **extreme x values may be particularly high or low for one or more predictors**, or may be \"unusual\" combinations of predictor values (e.g., with two predictors that are positively correlated, an unusual combination of predictor values might be a high value of one predictor paired with a low value of the other predictor)\"\n",
    "\n",
    "The new data from the second dataframe appear to be outliers, since they do not follow the normal trend as the rest of the insurance data from the first dataframe. The new data frame is does not contain extreme values.\n",
    "\n",
    "The first dataframe does not contain outliers, but does have two extreme values, between 100 and 120 and the other past 120. \n",
    "\n",
    "**Outliers** affect the regression model by lowering the R-squared value, thus lowering the accuracy of the model's ability to predict. It also affects the intersect value, while the slope is not too heavily affected. \n",
    "\n",
    "**Extreme values** affect the regression model by decreasing both the slope and the intercept values, though the R-squared value is hardly affected. This shows that the extreme value does not directly affect the model's ability to predict, perhaps since extreme values still follow the general trend of the rest of the data. "
   ]
  },
  {
   "cell_type": "markdown",
   "id": "b9c9a97a",
   "metadata": {},
   "source": [
    "#### Multiple Linear Regression"
   ]
  },
  {
   "cell_type": "markdown",
   "id": "8e1bbe39",
   "metadata": {},
   "source": [
    "**8. Download the dataset at https://drive.google.com/file/d/1RJSLQeWDYajULBsu7Xn3o7VIonT3Y9Lr/view?usp=sharing  . This data is from a fish market with the weight as the target variable and other variables as the explanatory variables. Upload to your Jupyter-notebook. Use a boxplot to examine the outliers in the column ‘Weight’. Remove the outliers outside the range of the boxplot. 10 points**"
   ]
  },
  {
   "cell_type": "code",
   "execution_count": 13,
   "id": "98883e49",
   "metadata": {},
   "outputs": [
    {
     "data": {
      "text/html": [
       "<div>\n",
       "<style scoped>\n",
       "    .dataframe tbody tr th:only-of-type {\n",
       "        vertical-align: middle;\n",
       "    }\n",
       "\n",
       "    .dataframe tbody tr th {\n",
       "        vertical-align: top;\n",
       "    }\n",
       "\n",
       "    .dataframe thead th {\n",
       "        text-align: right;\n",
       "    }\n",
       "</style>\n",
       "<table border=\"1\" class=\"dataframe\">\n",
       "  <thead>\n",
       "    <tr style=\"text-align: right;\">\n",
       "      <th></th>\n",
       "      <th>Weight</th>\n",
       "      <th>Length1</th>\n",
       "      <th>Length2</th>\n",
       "      <th>Length3</th>\n",
       "      <th>Height</th>\n",
       "      <th>Width</th>\n",
       "    </tr>\n",
       "  </thead>\n",
       "  <tbody>\n",
       "    <tr>\n",
       "      <th>0</th>\n",
       "      <td>242.0</td>\n",
       "      <td>23.2</td>\n",
       "      <td>25.4</td>\n",
       "      <td>30.0</td>\n",
       "      <td>11.5200</td>\n",
       "      <td>4.0200</td>\n",
       "    </tr>\n",
       "    <tr>\n",
       "      <th>1</th>\n",
       "      <td>290.0</td>\n",
       "      <td>24.0</td>\n",
       "      <td>26.3</td>\n",
       "      <td>31.2</td>\n",
       "      <td>12.4800</td>\n",
       "      <td>4.3056</td>\n",
       "    </tr>\n",
       "    <tr>\n",
       "      <th>2</th>\n",
       "      <td>340.0</td>\n",
       "      <td>23.9</td>\n",
       "      <td>26.5</td>\n",
       "      <td>31.1</td>\n",
       "      <td>12.3778</td>\n",
       "      <td>4.6961</td>\n",
       "    </tr>\n",
       "    <tr>\n",
       "      <th>3</th>\n",
       "      <td>363.0</td>\n",
       "      <td>26.3</td>\n",
       "      <td>29.0</td>\n",
       "      <td>33.5</td>\n",
       "      <td>12.7300</td>\n",
       "      <td>4.4555</td>\n",
       "    </tr>\n",
       "    <tr>\n",
       "      <th>4</th>\n",
       "      <td>430.0</td>\n",
       "      <td>26.5</td>\n",
       "      <td>29.0</td>\n",
       "      <td>34.0</td>\n",
       "      <td>12.4440</td>\n",
       "      <td>5.1340</td>\n",
       "    </tr>\n",
       "    <tr>\n",
       "      <th>5</th>\n",
       "      <td>450.0</td>\n",
       "      <td>26.8</td>\n",
       "      <td>29.7</td>\n",
       "      <td>34.7</td>\n",
       "      <td>13.6024</td>\n",
       "      <td>4.9274</td>\n",
       "    </tr>\n",
       "    <tr>\n",
       "      <th>6</th>\n",
       "      <td>500.0</td>\n",
       "      <td>26.8</td>\n",
       "      <td>29.7</td>\n",
       "      <td>34.5</td>\n",
       "      <td>14.1795</td>\n",
       "      <td>5.2785</td>\n",
       "    </tr>\n",
       "    <tr>\n",
       "      <th>7</th>\n",
       "      <td>390.0</td>\n",
       "      <td>27.6</td>\n",
       "      <td>30.0</td>\n",
       "      <td>35.0</td>\n",
       "      <td>12.6700</td>\n",
       "      <td>4.6900</td>\n",
       "    </tr>\n",
       "    <tr>\n",
       "      <th>8</th>\n",
       "      <td>450.0</td>\n",
       "      <td>27.6</td>\n",
       "      <td>30.0</td>\n",
       "      <td>35.1</td>\n",
       "      <td>14.0049</td>\n",
       "      <td>4.8438</td>\n",
       "    </tr>\n",
       "    <tr>\n",
       "      <th>9</th>\n",
       "      <td>500.0</td>\n",
       "      <td>28.5</td>\n",
       "      <td>30.7</td>\n",
       "      <td>36.2</td>\n",
       "      <td>14.2266</td>\n",
       "      <td>4.9594</td>\n",
       "    </tr>\n",
       "  </tbody>\n",
       "</table>\n",
       "</div>"
      ],
      "text/plain": [
       "   Weight  Length1  Length2  Length3   Height   Width\n",
       "0   242.0     23.2     25.4     30.0  11.5200  4.0200\n",
       "1   290.0     24.0     26.3     31.2  12.4800  4.3056\n",
       "2   340.0     23.9     26.5     31.1  12.3778  4.6961\n",
       "3   363.0     26.3     29.0     33.5  12.7300  4.4555\n",
       "4   430.0     26.5     29.0     34.0  12.4440  5.1340\n",
       "5   450.0     26.8     29.7     34.7  13.6024  4.9274\n",
       "6   500.0     26.8     29.7     34.5  14.1795  5.2785\n",
       "7   390.0     27.6     30.0     35.0  12.6700  4.6900\n",
       "8   450.0     27.6     30.0     35.1  14.0049  4.8438\n",
       "9   500.0     28.5     30.7     36.2  14.2266  4.9594"
      ]
     },
     "execution_count": 13,
     "metadata": {},
     "output_type": "execute_result"
    }
   ],
   "source": [
    "import pandas as pd\n",
    "df = pd.read_csv('Fish.csv')\n",
    "df.head(10)"
   ]
  },
  {
   "cell_type": "code",
   "execution_count": 14,
   "id": "5f2e35ad",
   "metadata": {
    "scrolled": true
   },
   "outputs": [
    {
     "data": {
      "text/plain": [
       "<AxesSubplot:>"
      ]
     },
     "execution_count": 14,
     "metadata": {},
     "output_type": "execute_result"
    },
    {
     "data": {
      "image/png": "[encoded data removed]",
      "text/plain": [
       "<Figure size 432x288 with 1 Axes>"
      ]
     },
     "metadata": {
      "needs_background": "light"
     },
     "output_type": "display_data"
    }
   ],
   "source": [
    "df.boxplot(column=['Weight'])"
   ]
  },
  {
   "cell_type": "code",
   "execution_count": 15,
   "id": "dd142994",
   "metadata": {},
   "outputs": [
    {
     "data": {
      "text/plain": [
       "(159, 6)"
      ]
     },
     "execution_count": 15,
     "metadata": {},
     "output_type": "execute_result"
    }
   ],
   "source": [
    "df.shape"
   ]
  },
  {
   "cell_type": "code",
   "execution_count": 16,
   "id": "e0b7cbde",
   "metadata": {},
   "outputs": [
    {
     "data": {
      "text/plain": [
       "(155, 6)"
      ]
     },
     "execution_count": 16,
     "metadata": {},
     "output_type": "execute_result"
    }
   ],
   "source": [
    "# max weight appears to be 1250; x > 1250 = outlier\n",
    "df_clean = df[df['Weight']<1250]\n",
    "df_clean.shape"
   ]
  },
  {
   "cell_type": "markdown",
   "id": "3a710331",
   "metadata": {},
   "source": [
    "**9. Create a correlation matrix. Which are the two variables that the strongest correlation with the target variable ‘Weight’?  10 points**"
   ]
  },
  {
   "cell_type": "code",
   "execution_count": 17,
   "id": "ad365f29",
   "metadata": {},
   "outputs": [
    {
     "name": "stdout",
     "output_type": "stream",
     "text": [
      "Correlation Matrix\n",
      "           Weight   Length1   Length2   Length3    Height     Width\n",
      "Weight   1.000000  0.890173  0.894415  0.902576  0.815237  0.925664\n",
      "Length1  0.890173  1.000000  0.999385  0.990205  0.688050  0.891260\n",
      "Length2  0.894415  0.999385  1.000000  0.992765  0.704041  0.897855\n",
      "Length3  0.902576  0.990205  0.992765  1.000000  0.768038  0.898315\n",
      "Height   0.815237  0.688050  0.704041  0.768038  1.000000  0.803268\n",
      "Width    0.925664  0.891260  0.897855  0.898315  0.803268  1.000000\n"
     ]
    }
   ],
   "source": [
    "print(\"Correlation Matrix\")\n",
    "print(df_clean.corr())"
   ]
  },
  {
   "cell_type": "code",
   "execution_count": 18,
   "id": "17442482",
   "metadata": {},
   "outputs": [
    {
     "data": {
      "text/plain": [
       "Height     0.815237\n",
       "Length1    0.890173\n",
       "Length2    0.894415\n",
       "Length3    0.902576\n",
       "Width      0.925664\n",
       "Weight     1.000000\n",
       "Name: Weight, dtype: float64"
      ]
     },
     "execution_count": 18,
     "metadata": {},
     "output_type": "execute_result"
    }
   ],
   "source": [
    "co = df_clean.corr()\n",
    "co.iloc[:,0].sort_values()"
   ]
  },
  {
   "cell_type": "markdown",
   "id": "cf08ac35",
   "metadata": {},
   "source": [
    "**Strongest correlation to weight:** \n",
    "1. Width\n",
    "2. Length3"
   ]
  },
  {
   "cell_type": "markdown",
   "id": "0e267712",
   "metadata": {},
   "source": [
    "**10. Split the data into training (80%) and testing (20%) datasets. 5 points**"
   ]
  },
  {
   "cell_type": "code",
   "execution_count": 20,
   "id": "5e12e062",
   "metadata": {},
   "outputs": [
    {
     "data": {
      "text/html": [
       "<div>\n",
       "<style scoped>\n",
       "    .dataframe tbody tr th:only-of-type {\n",
       "        vertical-align: middle;\n",
       "    }\n",
       "\n",
       "    .dataframe tbody tr th {\n",
       "        vertical-align: top;\n",
       "    }\n",
       "\n",
       "    .dataframe thead th {\n",
       "        text-align: right;\n",
       "    }\n",
       "</style>\n",
       "<table border=\"1\" class=\"dataframe\">\n",
       "  <thead>\n",
       "    <tr style=\"text-align: right;\">\n",
       "      <th></th>\n",
       "      <th>Width</th>\n",
       "      <th>Length3</th>\n",
       "    </tr>\n",
       "  </thead>\n",
       "  <tbody>\n",
       "    <tr>\n",
       "      <th>71</th>\n",
       "      <td>4.2340</td>\n",
       "      <td>29.0</td>\n",
       "    </tr>\n",
       "    <tr>\n",
       "      <th>69</th>\n",
       "      <td>3.6636</td>\n",
       "      <td>25.8</td>\n",
       "    </tr>\n",
       "    <tr>\n",
       "      <th>57</th>\n",
       "      <td>4.6816</td>\n",
       "      <td>30.8</td>\n",
       "    </tr>\n",
       "    <tr>\n",
       "      <th>81</th>\n",
       "      <td>2.7720</td>\n",
       "      <td>21.0</td>\n",
       "    </tr>\n",
       "    <tr>\n",
       "      <th>10</th>\n",
       "      <td>5.1042</td>\n",
       "      <td>36.2</td>\n",
       "    </tr>\n",
       "  </tbody>\n",
       "</table>\n",
       "</div>"
      ],
      "text/plain": [
       "     Width  Length3\n",
       "71  4.2340     29.0\n",
       "69  3.6636     25.8\n",
       "57  4.6816     30.8\n",
       "81  2.7720     21.0\n",
       "10  5.1042     36.2"
      ]
     },
     "execution_count": 20,
     "metadata": {},
     "output_type": "execute_result"
    }
   ],
   "source": [
    "import numpy as np\n",
    "x = pd.DataFrame(np.c_[df_clean['Width'], df_clean['Length3']], columns=['Width', 'Length3'])\n",
    "y = df_clean['Weight']\n",
    "\n",
    "from sklearn.model_selection import train_test_split\n",
    "x_train, x_test, y_train, y_test = train_test_split(x, y, test_size=0.2, random_state=5)\n",
    "x_train.head(5)"
   ]
  },
  {
   "cell_type": "markdown",
   "id": "f1787149",
   "metadata": {},
   "source": [
    "**11. Build a linear regression model with all the variables using the training data. Calculate the R-squared value with the testing data. 10 points**"
   ]
  },
  {
   "cell_type": "code",
   "execution_count": 21,
   "id": "10fbdd10",
   "metadata": {},
   "outputs": [
    {
     "data": {
      "text/plain": [
       "LinearRegression()"
      ]
     },
     "execution_count": 21,
     "metadata": {},
     "output_type": "execute_result"
    }
   ],
   "source": [
    "model_train = LinearRegression()\n",
    "model_train.fit(x_train, y_train)"
   ]
  },
  {
   "cell_type": "code",
   "execution_count": 22,
   "id": "c839af47",
   "metadata": {},
   "outputs": [
    {
     "name": "stdout",
     "output_type": "stream",
     "text": [
      "R-squared, test data:\n",
      "0.9043\n"
     ]
    }
   ],
   "source": [
    "print(\"R-squared, test data:\")\n",
    "model_train.fit(x_test, y_test)\n",
    "score_test = model_train.score(x_test, y_test)\n",
    "print('%.4f' % score_test)"
   ]
  },
  {
   "cell_type": "markdown",
   "id": "1f6f8939",
   "metadata": {},
   "source": [
    "**12. Continue to use the training data. Build a second regression model with on the two independent variables with the highest correlation coefficients with the target variable. What is the R-squared value of this new model? Get the intercept and slopes. Create a formula y = c+ax1+bx2 for this new model. 10 points**"
   ]
  },
  {
   "cell_type": "code",
   "execution_count": 29,
   "id": "5f9b3ad5",
   "metadata": {},
   "outputs": [
    {
     "data": {
      "text/plain": [
       "LinearRegression()"
      ]
     },
     "execution_count": 29,
     "metadata": {},
     "output_type": "execute_result"
    }
   ],
   "source": [
    "model_variables = LinearRegression()\n",
    "model_variables.fit(x_train, y_train)"
   ]
  },
  {
   "cell_type": "code",
   "execution_count": 31,
   "id": "459b182d",
   "metadata": {},
   "outputs": [
    {
     "name": "stdout",
     "output_type": "stream",
     "text": [
      "R-squared, new model:\n",
      "0.8766\n"
     ]
    }
   ],
   "source": [
    "print(\"R-squared, new model:\")\n",
    "score_variable = model_variables.score(x_train, y_train)\n",
    "print('%.4f' % score_variable)"
   ]
  },
  {
   "cell_type": "code",
   "execution_count": 32,
   "id": "4bc5f041",
   "metadata": {
    "scrolled": true
   },
   "outputs": [
    {
     "name": "stdout",
     "output_type": "stream",
     "text": [
      "Slope:\n",
      "[107.26910706  11.58316997]\n",
      "Intercept:\n",
      "-453.7134129313455\n"
     ]
    }
   ],
   "source": [
    "print(\"Slope:\")\n",
    "print(model_variables.coef_)\n",
    "\n",
    "print(\"Intercept:\")\n",
    "print(model_variables.intercept_)"
   ]
  },
  {
   "cell_type": "code",
   "execution_count": 33,
   "id": "ef035163",
   "metadata": {},
   "outputs": [
    {
     "name": "stdout",
     "output_type": "stream",
     "text": [
      "Formula:\n",
      "y = 107.26910706x + (-453.7134129313455)\n",
      "y = 11.58316997x + (--453.7134129313455)\n"
     ]
    }
   ],
   "source": [
    "print(\"Formula:\")\n",
    "print(\"y = 107.26910706x + (-453.7134129313455)\")\n",
    "print(\"y = 11.58316997x + (--453.7134129313455)\")"
   ]
  },
  {
   "cell_type": "markdown",
   "id": "9e4e37f0",
   "metadata": {},
   "source": [
    "**13. Can we use a linear regression model for data with categorical variables? If yes, use this dataset with a new variable ‘species’ , https://drive.google.com/file/d/1orAdlGxALpyfT-RD1ogdhpmb86L54JeV/view?usp=sharing  . Transform the data into all numeric features.  Instruction: https://michael-fuchs-python.netlify.app/2019/06/14/the-use-of-dummy-variables/. \n",
    "Reuse the code above to build a new model with all variables including these dummy variables. Do you think the variable ‘species’ affect the weight?   20 points**"
   ]
  },
  {
   "cell_type": "markdown",
   "id": "796765a3",
   "metadata": {},
   "source": [
    "We can create a linear regression with categorical variables, as long as it is transformed into a numerical equivalent (for instance, boolean values can be 0 for False and 1 for True). "
   ]
  },
  {
   "cell_type": "code",
   "execution_count": 24,
   "id": "a4368c00",
   "metadata": {},
   "outputs": [
    {
     "data": {
      "text/html": [
       "<div>\n",
       "<style scoped>\n",
       "    .dataframe tbody tr th:only-of-type {\n",
       "        vertical-align: middle;\n",
       "    }\n",
       "\n",
       "    .dataframe tbody tr th {\n",
       "        vertical-align: top;\n",
       "    }\n",
       "\n",
       "    .dataframe thead th {\n",
       "        text-align: right;\n",
       "    }\n",
       "</style>\n",
       "<table border=\"1\" class=\"dataframe\">\n",
       "  <thead>\n",
       "    <tr style=\"text-align: right;\">\n",
       "      <th></th>\n",
       "      <th>Species</th>\n",
       "      <th>Weight</th>\n",
       "      <th>Length1</th>\n",
       "      <th>Length2</th>\n",
       "      <th>Length3</th>\n",
       "      <th>Height</th>\n",
       "      <th>Width</th>\n",
       "    </tr>\n",
       "  </thead>\n",
       "  <tbody>\n",
       "    <tr>\n",
       "      <th>0</th>\n",
       "      <td>Bream</td>\n",
       "      <td>242.0</td>\n",
       "      <td>23.2</td>\n",
       "      <td>25.4</td>\n",
       "      <td>30.0</td>\n",
       "      <td>11.5200</td>\n",
       "      <td>4.0200</td>\n",
       "    </tr>\n",
       "    <tr>\n",
       "      <th>1</th>\n",
       "      <td>Bream</td>\n",
       "      <td>290.0</td>\n",
       "      <td>24.0</td>\n",
       "      <td>26.3</td>\n",
       "      <td>31.2</td>\n",
       "      <td>12.4800</td>\n",
       "      <td>4.3056</td>\n",
       "    </tr>\n",
       "    <tr>\n",
       "      <th>2</th>\n",
       "      <td>Bream</td>\n",
       "      <td>340.0</td>\n",
       "      <td>23.9</td>\n",
       "      <td>26.5</td>\n",
       "      <td>31.1</td>\n",
       "      <td>12.3778</td>\n",
       "      <td>4.6961</td>\n",
       "    </tr>\n",
       "    <tr>\n",
       "      <th>3</th>\n",
       "      <td>Bream</td>\n",
       "      <td>363.0</td>\n",
       "      <td>26.3</td>\n",
       "      <td>29.0</td>\n",
       "      <td>33.5</td>\n",
       "      <td>12.7300</td>\n",
       "      <td>4.4555</td>\n",
       "    </tr>\n",
       "    <tr>\n",
       "      <th>4</th>\n",
       "      <td>Bream</td>\n",
       "      <td>430.0</td>\n",
       "      <td>26.5</td>\n",
       "      <td>29.0</td>\n",
       "      <td>34.0</td>\n",
       "      <td>12.4440</td>\n",
       "      <td>5.1340</td>\n",
       "    </tr>\n",
       "  </tbody>\n",
       "</table>\n",
       "</div>"
      ],
      "text/plain": [
       "  Species  Weight  Length1  Length2  Length3   Height   Width\n",
       "0   Bream   242.0     23.2     25.4     30.0  11.5200  4.0200\n",
       "1   Bream   290.0     24.0     26.3     31.2  12.4800  4.3056\n",
       "2   Bream   340.0     23.9     26.5     31.1  12.3778  4.6961\n",
       "3   Bream   363.0     26.3     29.0     33.5  12.7300  4.4555\n",
       "4   Bream   430.0     26.5     29.0     34.0  12.4440  5.1340"
      ]
     },
     "execution_count": 24,
     "metadata": {},
     "output_type": "execute_result"
    }
   ],
   "source": [
    "df2 = pd.read_csv('Fish2.csv')\n",
    "df2.head(5)"
   ]
  },
  {
   "cell_type": "code",
   "execution_count": 25,
   "id": "c802a1ba",
   "metadata": {},
   "outputs": [],
   "source": [
    "species = ['object']\n",
    "species_cols = list(df2.select_dtypes(include=species).columns)\n",
    "species_data = df2[species_cols]\n",
    "species_vars = species_data.columns"
   ]
  },
  {
   "cell_type": "code",
   "execution_count": 26,
   "id": "8b337364",
   "metadata": {},
   "outputs": [],
   "source": [
    "for var in species_vars:\n",
    "    species_list = pd.get_dummies(df2[var], prefix=var)\n",
    "    df2=df2.join(species_list)"
   ]
  },
  {
   "cell_type": "code",
   "execution_count": 27,
   "id": "9159052f",
   "metadata": {},
   "outputs": [],
   "source": [
    "data_vars = df2.columns.values.tolist()\n",
    "to_keep=[i for i in data_vars if i not in species_vars]"
   ]
  },
  {
   "cell_type": "code",
   "execution_count": 35,
   "id": "c9e04a69",
   "metadata": {},
   "outputs": [
    {
     "data": {
      "text/html": [
       "<div>\n",
       "<style scoped>\n",
       "    .dataframe tbody tr th:only-of-type {\n",
       "        vertical-align: middle;\n",
       "    }\n",
       "\n",
       "    .dataframe tbody tr th {\n",
       "        vertical-align: top;\n",
       "    }\n",
       "\n",
       "    .dataframe thead th {\n",
       "        text-align: right;\n",
       "    }\n",
       "</style>\n",
       "<table border=\"1\" class=\"dataframe\">\n",
       "  <thead>\n",
       "    <tr style=\"text-align: right;\">\n",
       "      <th></th>\n",
       "      <th>Weight</th>\n",
       "      <th>Length1</th>\n",
       "      <th>Length2</th>\n",
       "      <th>Length3</th>\n",
       "      <th>Height</th>\n",
       "      <th>Width</th>\n",
       "      <th>Species_Bream</th>\n",
       "      <th>Species_Parkki</th>\n",
       "      <th>Species_Perch</th>\n",
       "      <th>Species_Pike</th>\n",
       "      <th>Species_Roach</th>\n",
       "      <th>Species_Smelt</th>\n",
       "      <th>Species_Whitefish</th>\n",
       "    </tr>\n",
       "  </thead>\n",
       "  <tbody>\n",
       "    <tr>\n",
       "      <th>0</th>\n",
       "      <td>242.0</td>\n",
       "      <td>23.2</td>\n",
       "      <td>25.4</td>\n",
       "      <td>30.0</td>\n",
       "      <td>11.5200</td>\n",
       "      <td>4.0200</td>\n",
       "      <td>1</td>\n",
       "      <td>0</td>\n",
       "      <td>0</td>\n",
       "      <td>0</td>\n",
       "      <td>0</td>\n",
       "      <td>0</td>\n",
       "      <td>0</td>\n",
       "    </tr>\n",
       "    <tr>\n",
       "      <th>1</th>\n",
       "      <td>290.0</td>\n",
       "      <td>24.0</td>\n",
       "      <td>26.3</td>\n",
       "      <td>31.2</td>\n",
       "      <td>12.4800</td>\n",
       "      <td>4.3056</td>\n",
       "      <td>1</td>\n",
       "      <td>0</td>\n",
       "      <td>0</td>\n",
       "      <td>0</td>\n",
       "      <td>0</td>\n",
       "      <td>0</td>\n",
       "      <td>0</td>\n",
       "    </tr>\n",
       "    <tr>\n",
       "      <th>2</th>\n",
       "      <td>340.0</td>\n",
       "      <td>23.9</td>\n",
       "      <td>26.5</td>\n",
       "      <td>31.1</td>\n",
       "      <td>12.3778</td>\n",
       "      <td>4.6961</td>\n",
       "      <td>1</td>\n",
       "      <td>0</td>\n",
       "      <td>0</td>\n",
       "      <td>0</td>\n",
       "      <td>0</td>\n",
       "      <td>0</td>\n",
       "      <td>0</td>\n",
       "    </tr>\n",
       "    <tr>\n",
       "      <th>3</th>\n",
       "      <td>363.0</td>\n",
       "      <td>26.3</td>\n",
       "      <td>29.0</td>\n",
       "      <td>33.5</td>\n",
       "      <td>12.7300</td>\n",
       "      <td>4.4555</td>\n",
       "      <td>1</td>\n",
       "      <td>0</td>\n",
       "      <td>0</td>\n",
       "      <td>0</td>\n",
       "      <td>0</td>\n",
       "      <td>0</td>\n",
       "      <td>0</td>\n",
       "    </tr>\n",
       "    <tr>\n",
       "      <th>4</th>\n",
       "      <td>430.0</td>\n",
       "      <td>26.5</td>\n",
       "      <td>29.0</td>\n",
       "      <td>34.0</td>\n",
       "      <td>12.4440</td>\n",
       "      <td>5.1340</td>\n",
       "      <td>1</td>\n",
       "      <td>0</td>\n",
       "      <td>0</td>\n",
       "      <td>0</td>\n",
       "      <td>0</td>\n",
       "      <td>0</td>\n",
       "      <td>0</td>\n",
       "    </tr>\n",
       "  </tbody>\n",
       "</table>\n",
       "</div>"
      ],
      "text/plain": [
       "   Weight  Length1  Length2  Length3   Height   Width  Species_Bream  \\\n",
       "0   242.0     23.2     25.4     30.0  11.5200  4.0200              1   \n",
       "1   290.0     24.0     26.3     31.2  12.4800  4.3056              1   \n",
       "2   340.0     23.9     26.5     31.1  12.3778  4.6961              1   \n",
       "3   363.0     26.3     29.0     33.5  12.7300  4.4555              1   \n",
       "4   430.0     26.5     29.0     34.0  12.4440  5.1340              1   \n",
       "\n",
       "   Species_Parkki  Species_Perch  Species_Pike  Species_Roach  Species_Smelt  \\\n",
       "0               0              0             0              0              0   \n",
       "1               0              0             0              0              0   \n",
       "2               0              0             0              0              0   \n",
       "3               0              0             0              0              0   \n",
       "4               0              0             0              0              0   \n",
       "\n",
       "   Species_Whitefish  \n",
       "0                  0  \n",
       "1                  0  \n",
       "2                  0  \n",
       "3                  0  \n",
       "4                  0  "
      ]
     },
     "execution_count": 35,
     "metadata": {},
     "output_type": "execute_result"
    }
   ],
   "source": [
    "df2_final = df2[to_keep]\n",
    "df2_final.columns.values\n",
    "df2_final.head(5)"
   ]
  },
  {
   "cell_type": "code",
   "execution_count": 40,
   "id": "25ebf175",
   "metadata": {},
   "outputs": [
    {
     "data": {
      "text/plain": [
       "LinearRegression()"
      ]
     },
     "execution_count": 40,
     "metadata": {},
     "output_type": "execute_result"
    }
   ],
   "source": [
    "x = pd.DataFrame(np.c_[df2_final['Species_Bream'], df2_final['Species_Parkki'], df2_final['Species_Perch'], df2_final['Species_Pike'], df2_final['Species_Roach'], df2_final['Species_Smelt'], df2_final['Species_Whitefish'], \n",
    "                df2_final['Length1'], df2_final['Length2'], df2_final['Length3'], df2_final['Height'], df2_final['Width']], \n",
    "                 columns=['Species_Bream', 'Species_Parkki', 'Species_Perch', 'Species_Pike', 'Species_Roach', 'Species_Smelt', 'Species_Whitefish', 'Length1', 'Length2', 'Length3', 'Height', 'Width'])\n",
    "y = df2_final['Weight']\n",
    "\n",
    "model_fish = LinearRegression()\n",
    "x_train, x_test, y_train, y_test = train_test_split(x, y, test_size=0.2, random_state=5)\n",
    "x_train.head(5)\n",
    "model_fish.fit(x_train, y_train)"
   ]
  },
  {
   "cell_type": "code",
   "execution_count": 42,
   "id": "54cc8591",
   "metadata": {},
   "outputs": [
    {
     "data": {
      "text/plain": [
       "Species_Smelt       -0.337109\n",
       "Species_Roach       -0.261784\n",
       "Species_Parkki      -0.186034\n",
       "Species_Perch       -0.033240\n",
       "Species_Whitefish    0.073625\n",
       "Species_Pike         0.310641\n",
       "Species_Bream        0.326795\n",
       "Height               0.724345\n",
       "Width                0.886507\n",
       "Length1              0.915712\n",
       "Length2              0.918618\n",
       "Length3              0.923044\n",
       "Weight               1.000000\n",
       "Name: Weight, dtype: float64"
      ]
     },
     "execution_count": 42,
     "metadata": {},
     "output_type": "execute_result"
    }
   ],
   "source": [
    "co_fish = df2_final.corr()\n",
    "co_fish.iloc[:,0].sort_values()"
   ]
  },
  {
   "cell_type": "markdown",
   "id": "3148464e",
   "metadata": {},
   "source": [
    "Based on the correlation data above, I believe that the species does have an affect on weight, as the different species has a higher correlation value than the other features for the fish. "
   ]
  }
 ],
 "metadata": {
  "kernelspec": {
   "display_name": "Python 3 (ipykernel)",
   "language": "python",
   "name": "python3"
  },
  "language_info": {
   "codemirror_mode": {
    "name": "ipython",
    "version": 3
   },
   "file_extension": ".py",
   "mimetype": "text/x-python",
   "name": "python",
   "nbconvert_exporter": "python",
   "pygments_lexer": "ipython3",
   "version": "3.9.12"
  }
 },
 "nbformat": 4,
 "nbformat_minor": 5
}
