{
 "cells": [
  {
   "cell_type": "code",
   "execution_count": 4,
   "id": "81de6e04",
   "metadata": {},
   "outputs": [
    {
     "data": {
      "text/plain": [
       "array([0, 1, 2, 3, 4, 5, 6, 7, 8, 9])"
      ]
     },
     "execution_count": 4,
     "metadata": {},
     "output_type": "execute_result"
    }
   ],
   "source": [
    "import numpy as np\n",
    "a = np.arange(0, 10) #one-dimensional array\n",
    "a"
   ]
  },
  {
   "cell_type": "code",
   "execution_count": 5,
   "id": "7c5cc158",
   "metadata": {},
   "outputs": [
    {
     "data": {
      "text/plain": [
       "array([[0, 1, 2, 3, 4],\n",
       "       [5, 6, 7, 8, 9]])"
      ]
     },
     "execution_count": 5,
     "metadata": {},
     "output_type": "execute_result"
    }
   ],
   "source": [
    "c = a.reshape(2,5) #creates a new, 2-d array from the declared existing array\n",
    "#2 = num of rows; 5 = num of cols\n",
    "c"
   ]
  },
  {
   "cell_type": "code",
   "execution_count": 9,
   "id": "c769d90a",
   "metadata": {},
   "outputs": [
    {
     "data": {
      "text/plain": [
       "array([[0, 1, 2, 3],\n",
       "       [0, 1, 2, 3]])"
      ]
     },
     "execution_count": 9,
     "metadata": {},
     "output_type": "execute_result"
    }
   ],
   "source": [
    "b = np.array([np.arange(4), np.arange(4)])\n",
    "#desired amt of rows contains in [] and separated by commas\n",
    "#this one has two bracket groups = 2 rows\n",
    "#columns explicitly declared\n",
    "b"
   ]
  },
  {
   "cell_type": "code",
   "execution_count": 11,
   "id": "aebebb1f",
   "metadata": {},
   "outputs": [
    {
     "data": {
      "text/plain": [
       "array([0, 1, 2, 3, 4])"
      ]
     },
     "execution_count": 11,
     "metadata": {},
     "output_type": "execute_result"
    }
   ],
   "source": [
    "np.arange(5) #another way to create a 1D array\n",
    "#num of cols explicitly declared; will auto pop. (0,5), exclusive"
   ]
  },
  {
   "cell_type": "code",
   "execution_count": 15,
   "id": "79304125",
   "metadata": {},
   "outputs": [
    {
     "data": {
      "text/plain": [
       "(10,)"
      ]
     },
     "execution_count": 15,
     "metadata": {},
     "output_type": "execute_result"
    }
   ],
   "source": [
    "a.shape\n",
    "#show shape of a 1D array\n",
    "#returns num of elements based on dimension, from 0; (x,) = one row"
   ]
  },
  {
   "cell_type": "code",
   "execution_count": 16,
   "id": "b4b39fb0",
   "metadata": {},
   "outputs": [
    {
     "data": {
      "text/plain": [
       "array([0, 1, 2])"
      ]
     },
     "execution_count": 16,
     "metadata": {},
     "output_type": "execute_result"
    }
   ],
   "source": [
    "np.arange(3,) #third way to create a 1D array"
   ]
  },
  {
   "cell_type": "code",
   "execution_count": 17,
   "id": "48f5624f",
   "metadata": {},
   "outputs": [
    {
     "data": {
      "text/plain": [
       "(2, 4)"
      ]
     },
     "execution_count": 17,
     "metadata": {},
     "output_type": "execute_result"
    }
   ],
   "source": [
    "b.shape\n",
    "#returns shape of array in mxn format "
   ]
  },
  {
   "cell_type": "code",
   "execution_count": 21,
   "id": "c00f4e98",
   "metadata": {},
   "outputs": [
    {
     "data": {
      "text/plain": [
       "[5, 6, 7, 8, 9]"
      ]
     },
     "execution_count": 21,
     "metadata": {},
     "output_type": "execute_result"
    }
   ],
   "source": [
    "d = list(range(5,10))\n",
    "d #creates iterator list btwn range of given ints"
   ]
  },
  {
   "cell_type": "code",
   "execution_count": 22,
   "id": "b0a80321",
   "metadata": {},
   "outputs": [
    {
     "data": {
      "text/plain": [
       "[0, 1, 2, 3, 4, 5, 6, 7, 8, 9, 10, 11, 12, 13, 14, 15, 16, 17, 18, 19]"
      ]
     },
     "execution_count": 22,
     "metadata": {},
     "output_type": "execute_result"
    }
   ],
   "source": [
    "listA = list(range(0,10))\n",
    "listB = list(range(10,20))\n",
    "listA + listB #concatenates both lists"
   ]
  },
  {
   "cell_type": "code",
   "execution_count": 25,
   "id": "84fc1781",
   "metadata": {},
   "outputs": [
    {
     "data": {
      "text/plain": [
       "(array([6, 7, 8, 9], dtype=int64),)"
      ]
     },
     "execution_count": 25,
     "metadata": {},
     "output_type": "execute_result"
    }
   ],
   "source": [
    "#can sort arrays by condition\n",
    "np.where(a>5) #np.where(condition containing name)"
   ]
  },
  {
   "cell_type": "code",
   "execution_count": 26,
   "id": "c2febd77",
   "metadata": {},
   "outputs": [
    {
     "data": {
      "text/plain": [
       "(array([1, 2, 3, 4, 5, 6, 7, 8, 9], dtype=int64),)"
      ]
     },
     "execution_count": 26,
     "metadata": {},
     "output_type": "execute_result"
    }
   ],
   "source": [
    "np.nonzero(a)"
   ]
  },
  {
   "cell_type": "code",
   "execution_count": 27,
   "id": "fa57b77a",
   "metadata": {},
   "outputs": [
    {
     "data": {
      "text/plain": [
       "array([[0, 1, 2, 3, 4],\n",
       "       [0, 1, 2, 3, 4]])"
      ]
     },
     "execution_count": 27,
     "metadata": {},
     "output_type": "execute_result"
    }
   ],
   "source": [
    "dd = np.array([np.arange(0,5), np.arange(0,5)])\n",
    "dd #np.array([np.arange(num range), np.arange(second range)]) -> one block, two rows defined"
   ]
  },
  {
   "cell_type": "code",
   "execution_count": 36,
   "id": "a7ea347b",
   "metadata": {},
   "outputs": [
    {
     "data": {
      "text/plain": [
       "array([[[ 0,  1,  2,  3,  4],\n",
       "        [ 5,  6,  7,  8,  9]],\n",
       "\n",
       "       [[10, 11, 12, 13, 14],\n",
       "        [15, 16, 17, 18, 19]]])"
      ]
     },
     "execution_count": 36,
     "metadata": {},
     "output_type": "execute_result"
    }
   ],
   "source": [
    "#how to declare a 3D array\n",
    "e = np.array(np.arange(0,20)).reshape(2,2,5) #creates an array from an existing 2D array\n",
    "e #num of blocks, rows and cols made evenly w/ given array"
   ]
  },
  {
   "cell_type": "code",
   "execution_count": 47,
   "id": "457a4cf1",
   "metadata": {},
   "outputs": [
    {
     "data": {
      "text/plain": [
       "array([[0, 1, 2, 3],\n",
       "       [0, 1, 2, 3],\n",
       "       [0, 1, 2, 3]])"
      ]
     },
     "execution_count": 47,
     "metadata": {},
     "output_type": "execute_result"
    }
   ],
   "source": [
    "f = np.array([np.arange(4), np.arange(4), np.arange(4)])\n",
    "f #2d array"
   ]
  },
  {
   "cell_type": "code",
   "execution_count": 37,
   "id": "1e36c05d",
   "metadata": {},
   "outputs": [
    {
     "data": {
      "text/plain": [
       "3"
      ]
     },
     "execution_count": 37,
     "metadata": {},
     "output_type": "execute_result"
    }
   ],
   "source": [
    "a[3] #accessing element w/ 1D array"
   ]
  },
  {
   "cell_type": "code",
   "execution_count": 41,
   "id": "2aa67304",
   "metadata": {},
   "outputs": [
    {
     "data": {
      "text/plain": [
       "2"
      ]
     },
     "execution_count": 41,
     "metadata": {},
     "output_type": "execute_result"
    }
   ],
   "source": [
    "b[1,2] #access element w/ 2D array\n",
    "#row num, index num"
   ]
  },
  {
   "cell_type": "code",
   "execution_count": 42,
   "id": "69899996",
   "metadata": {},
   "outputs": [
    {
     "data": {
      "text/plain": [
       "array([[2, 3],\n",
       "       [2, 3]])"
      ]
     },
     "execution_count": 42,
     "metadata": {},
     "output_type": "execute_result"
    }
   ],
   "source": [
    "b[::, 2:4:] #all rows, btwn intvl of columns\n",
    "#also slicing?"
   ]
  },
  {
   "cell_type": "code",
   "execution_count": 49,
   "id": "9084ec2b",
   "metadata": {},
   "outputs": [
    {
     "data": {
      "text/plain": [
       "18"
      ]
     },
     "execution_count": 49,
     "metadata": {},
     "output_type": "execute_result"
    }
   ],
   "source": [
    "e[1,1,3]\n",
    "#access element w/ 3D array\n",
    "#name[block num, row num, col num]"
   ]
  },
  {
   "cell_type": "code",
   "execution_count": 50,
   "id": "720a2013",
   "metadata": {},
   "outputs": [
    {
     "data": {
      "text/plain": [
       "array([[[ 0,  1,  2,  3,  4],\n",
       "        [ 5,  6,  7,  8,  9]],\n",
       "\n",
       "       [[10, 11, 12, 13, 14],\n",
       "        [15, 16, 17, 18, 19]]])"
      ]
     },
     "execution_count": 50,
     "metadata": {},
     "output_type": "execute_result"
    }
   ],
   "source": [
    "e[::,::] #two colons = all"
   ]
  },
  {
   "cell_type": "code",
   "execution_count": 52,
   "id": "7e732dff",
   "metadata": {},
   "outputs": [
    {
     "data": {
      "text/plain": [
       "array([5, 6, 7])"
      ]
     },
     "execution_count": 52,
     "metadata": {},
     "output_type": "execute_result"
    }
   ],
   "source": [
    "a[5:8] #slicing a 1D array; will return elements in this range\n",
    "#array a is now what is below"
   ]
  },
  {
   "cell_type": "code",
   "execution_count": 54,
   "id": "ecdf4dfb",
   "metadata": {},
   "outputs": [
    {
     "data": {
      "text/plain": [
       "array([5])"
      ]
     },
     "execution_count": 54,
     "metadata": {},
     "output_type": "execute_result"
    }
   ],
   "source": [
    "c_slice = a.copy()[5:6] #can also make a copy of the original and assign the slice as a new array\n",
    "c_slice"
   ]
  },
  {
   "cell_type": "code",
   "execution_count": 55,
   "id": "6580d20e",
   "metadata": {},
   "outputs": [
    {
     "data": {
      "text/plain": [
       "array([ 7, 17])"
      ]
     },
     "execution_count": 55,
     "metadata": {},
     "output_type": "execute_result"
    }
   ],
   "source": [
    "e[0:2, 1, 2] #slicing 3D array"
   ]
  },
  {
   "cell_type": "code",
   "execution_count": 60,
   "id": "2016534a",
   "metadata": {},
   "outputs": [
    {
     "data": {
      "text/plain": [
       "array([3, 3])"
      ]
     },
     "execution_count": 60,
     "metadata": {},
     "output_type": "execute_result"
    }
   ],
   "source": [
    "f_copy = f.copy()[1:5, 3]\n",
    "f_copy"
   ]
  },
  {
   "cell_type": "code",
   "execution_count": 61,
   "id": "c2efa484",
   "metadata": {},
   "outputs": [
    {
     "data": {
      "text/plain": [
       "array([[[ 4,  4,  4,  4,  4],\n",
       "        [ 4,  4,  4,  4,  4]],\n",
       "\n",
       "       [[10, 11, 12, 13, 14],\n",
       "        [15, 16, 17, 18, 19]]])"
      ]
     },
     "execution_count": 61,
     "metadata": {},
     "output_type": "execute_result"
    }
   ],
   "source": [
    "e[0] = 4\n",
    "e #reassignment; why is e still its original form after slicing"
   ]
  },
  {
   "cell_type": "code",
   "execution_count": 62,
   "id": "0bd04fe3",
   "metadata": {},
   "outputs": [
    {
     "data": {
      "text/plain": [
       "array([[[ 4,  4,  4,  4,  4],\n",
       "        [ 4,  4,  4,  4,  4]],\n",
       "\n",
       "       [[10, 11, 12, 20, 14],\n",
       "        [15, 16, 17, 18, 19]]])"
      ]
     },
     "execution_count": 62,
     "metadata": {},
     "output_type": "execute_result"
    }
   ],
   "source": [
    "e[1, 0, 3] = 20\n",
    "e #reassignment of a specific number in 3D array"
   ]
  },
  {
   "cell_type": "code",
   "execution_count": null,
   "id": "d5f8053b",
   "metadata": {},
   "outputs": [],
   "source": []
  }
 ],
 "metadata": {
  "kernelspec": {
   "display_name": "Python 3 (ipykernel)",
   "language": "python",
   "name": "python3"
  },
  "language_info": {
   "codemirror_mode": {
    "name": "ipython",
    "version": 3
   },
   "file_extension": ".py",
   "mimetype": "text/x-python",
   "name": "python",
   "nbconvert_exporter": "python",
   "pygments_lexer": "ipython3",
   "version": "3.9.12"
  }
 },
 "nbformat": 4,
 "nbformat_minor": 5
}
