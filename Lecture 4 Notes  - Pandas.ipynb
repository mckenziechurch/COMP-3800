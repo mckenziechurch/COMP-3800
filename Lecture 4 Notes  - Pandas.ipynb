{
 "cells": [
  {
   "cell_type": "code",
   "execution_count": null,
   "id": "d8d5ec53",
   "metadata": {},
   "outputs": [],
   "source": [
    "#download csv file\n",
    "import pandas as pd\n",
    "df = pd.read_csv('nameoffile')\n",
    "#df stands for data frame\n",
    "df.shape\n",
    "\n",
    "df.columns.tolist() #will show list of the imported data\n",
    "df.datatypes #shows data type of each col\n",
    "\n",
    "df.head(10) #shows first 10 rows of the data in table format\n",
    "df.tail(10) #shows last 10 rows\n",
    "\n",
    "#data cleaning\n",
    "\n",
    "cols = df.columns[25, 291] #create list of columns to drop\n",
    "dropped_info = df.drop(remove, inplace=True, axis=1) #inplace means keep original source and create new data frame for this step\n",
    "df.shape \n",
    "dropped_info.columns #verify if correct info dropped\n",
    "\n",
    "remove = ['hospital_beds_raion'] #to drop a whole col\n",
    "dropped_col = df.drop(remove, inplace=True, axis=0)\n",
    "dropped_col.shape #verify"
   ]
  },
  {
   "cell_type": "code",
   "execution_count": null,
   "id": "ad9a1319",
   "metadata": {},
   "outputs": [],
   "source": [
    "#address missing/null values - two methods\n",
    "#method 1\n",
    "df.isnull() #will return bool table to show which values are null\n",
    "df.isnull().sum() #gives amt of null val in each col\n",
    "\n",
    "#method 2 - get percentage of missing data in each col\n",
    "import numpy as np\n",
    "for cols in df.columns:#iterate each col and find nulls\n",
    "    pct_missing = (df[cols].isnull().sum())/df.shape[0]\n",
    "    print(cols, round(pct_missing, 2))\n"
   ]
  },
  {
   "cell_type": "code",
   "execution_count": null,
   "id": "e86a7dc1",
   "metadata": {},
   "outputs": [],
   "source": [
    "#address missing values - two methods\n",
    "#determine which cols you can drop\n",
    "#method 1 - drop w/ high percentage\n",
    "\n",
    "#method 2 - drop rows w/ missing values\n",
    "\n",
    "df.columns.dropna(axis=0, how='any', thresh=None, subset=None, inplace=False)\n",
    "\n",
    "#(axis, how, thresh)\n",
    "#any = if NA values are present, then drop\n",
    "#all = if ALL values are NA, drop\n",
    "#thresh = int, optional: req that many non-NA values\n",
    "\n",
    "#drop rows w/ over 5 missing values across cols\n",
    "\n",
    "df_lessmissingvalue = df.columns.dropna(axis=0, thresh=24)\n",
    "#29 columns - 5 columns = 24\n",
    "df_lessmissingvalue.shape #verify\n",
    "\n",
    "#drop rows if missing vals are present in important feature ['build-year']\n",
    "#drop all rows that don't have a build year\n",
    "\n",
    "df_lessmissingvalue2 = df_lessmissingvalue.dropna(axis = 0, subset=['build_year'])\n",
    "df_lessmissingvalue2.shape #verify\n",
    "\n",
    "#method 3 - replace missing values w/ zero or most frequent val\n",
    "#use for when not that many nulls exist in that col\n",
    "\n",
    "med = df_lessmissingvalue2['num_room'].median()\n",
    "print(med)\n",
    "df_lessmissingvalue2['num_room'].fillna(med, inplace=True)\n",
    "df_lessmissingvalue2['num_room'].na.sum() #should be 0"
   ]
  },
  {
   "cell_type": "code",
   "execution_count": null,
   "id": "efcd9c16",
   "metadata": {},
   "outputs": [],
   "source": [
    "#remove duplicates - use identifier \n",
    "#subset = key to determine where dupes exist\n",
    "#keep = when there are dupes, should keep first of last row?\n",
    "\n",
    "df_delduplicates = df_lessmissingvalue2.drop_duplicates(subset=['id'], keep='last')\n",
    "print(df_lessmissingvalue2.shape) #verify\n",
    "print(df_delduplicates.shape) #verify"
   ]
  },
  {
   "cell_type": "code",
   "execution_count": null,
   "id": "6771b2be",
   "metadata": {},
   "outputs": [],
   "source": [
    "#fix structural errors - features w/ wrong data type\n",
    "#ie, date isn't in DateTime data type\n",
    "\n",
    "#check if dtype is correct\n",
    "\n",
    "print(df_delduplicates['build_year'].dtype) #returns float, which is correct\n",
    "print(df_delduplicates['timestamp'].dtype) #dtype is object, which is wrong\n",
    "\n",
    "#change dtype of incorrect one\n",
    "\n",
    "df_delduplicates['timestamp_dt'] = pd.to_datetime(df_delduplicates['timestamp'], format='%Y-%m-%d')\n",
    "#specify which col to assign; use method pd.to_desireddtype; applicable col, format desired (regex)\n",
    "df_delduplicates['year'] = df_delduplicates['timestamp_dt'].dt.year #creat year col\n",
    "df_delduplicates['month'] = df_delduplicates['timestamp_dt'].dt.month #create month\n",
    "df_delduplicate['month'].value_counts() #shows how many houses sold in each month"
   ]
  },
  {
   "cell_type": "code",
   "execution_count": null,
   "id": "725d03ba",
   "metadata": {},
   "outputs": [],
   "source": [
    "#check valid inputs for categorical features\n",
    "#cat. features ex, product_type; should be limited to a few possible values\n",
    "#check what needs to be changed (the feature cols)\n",
    "\n",
    "df_delduplicates['product_type'].head(20) #or \n",
    "df_delduplicates['product_type'].value_counts()\n",
    "\n",
    "df_delduplicates['sub_area'].value_counts()\n",
    "\n",
    "#correct cases\n",
    "print(df_delduplicates['sub_area'].value_counts) #before\n",
    "df_delduplicates['sub_area'] = df_delduplicates['sub_area'].str.lower()\n",
    "print(df_delduplicates['sub_area'].value_counts) #after; should be less\n"
   ]
  },
  {
   "cell_type": "code",
   "execution_count": null,
   "id": "bd4ec298",
   "metadata": {},
   "outputs": [],
   "source": [
    "#numerical outliers\n",
    "#define max and min to remove outliers\n",
    "#method 1: empirical observation\n",
    "\n",
    "#method 2: boxplot\n",
    "df_nooutlier = df_delduplicates[df_delduplicates['life_sq']<1000]\n",
    "#define outlier ^ of certain col\n",
    "df_nooutlier.boxplot(column=['life_sq']) #create boxplot of that col\n",
    "#shouldn't have max outlier"
   ]
  }
 ],
 "metadata": {
  "kernelspec": {
   "display_name": "Python 3 (ipykernel)",
   "language": "python",
   "name": "python3"
  },
  "language_info": {
   "codemirror_mode": {
    "name": "ipython",
    "version": 3
   },
   "file_extension": ".py",
   "mimetype": "text/x-python",
   "name": "python",
   "nbconvert_exporter": "python",
   "pygments_lexer": "ipython3",
   "version": "3.9.12"
  }
 },
 "nbformat": 4,
 "nbformat_minor": 5
}
