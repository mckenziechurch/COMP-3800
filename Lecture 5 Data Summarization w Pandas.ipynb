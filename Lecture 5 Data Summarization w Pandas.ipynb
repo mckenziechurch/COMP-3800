{
 "cells": [
  {
   "cell_type": "markdown",
   "id": "64b7c092",
   "metadata": {},
   "source": [
    "## Data Summarization\n",
    "#### Using Excel & Python"
   ]
  },
  {
   "cell_type": "code",
   "execution_count": 1,
   "id": "2dbb01b9",
   "metadata": {},
   "outputs": [],
   "source": [
    "import pandas as pd\n",
    "df = pd.read_csv('webautomation_coursera.csv')"
   ]
  },
  {
   "cell_type": "code",
   "execution_count": 2,
   "id": "84150fe6",
   "metadata": {},
   "outputs": [
    {
     "data": {
      "text/plain": [
       "(242, 16)"
      ]
     },
     "execution_count": 2,
     "metadata": {},
     "output_type": "execute_result"
    }
   ],
   "source": [
    "df.shape"
   ]
  },
  {
   "cell_type": "code",
   "execution_count": 3,
   "id": "6f5f2b70",
   "metadata": {},
   "outputs": [
    {
     "data": {
      "text/plain": [
       "['url',\n",
       " 'title',\n",
       " 'associated-university-institution-company',\n",
       " 'type',\n",
       " 'image',\n",
       " 'category-subject-area',\n",
       " 'certificate-is-available',\n",
       " 'description',\n",
       " 'duration',\n",
       " 'language',\n",
       " 'level',\n",
       " 'prerequisites',\n",
       " 'price',\n",
       " 'rating',\n",
       " 'syllabus',\n",
       " 'timestamp']"
      ]
     },
     "execution_count": 3,
     "metadata": {},
     "output_type": "execute_result"
    }
   ],
   "source": [
    "df.columns.tolist()"
   ]
  },
  {
   "cell_type": "markdown",
   "id": "41f64caf",
   "metadata": {},
   "source": [
    "#### Basic Statistics w/ Pandas"
   ]
  },
  {
   "cell_type": "markdown",
   "id": "e5b36092",
   "metadata": {},
   "source": [
    "1. get basic descriptive statistics of a numeric feature"
   ]
  },
  {
   "cell_type": "code",
   "execution_count": null,
   "id": "1db35cd2",
   "metadata": {},
   "outputs": [],
   "source": [
    "df_nooutlier['life_sp'].describe()"
   ]
  },
  {
   "cell_type": "markdown",
   "id": "5e4b87c4",
   "metadata": {},
   "source": [
    "2. get another descriptive value of the feature"
   ]
  },
  {
   "cell_type": "code",
   "execution_count": null,
   "id": "a3e80a02",
   "metadata": {},
   "outputs": [],
   "source": [
    "print(\"Media\", sunspots.median(), \"\\n\") #choose a col w/ numeric values\n",
    "df['Total_Revenue'].describe() #will output stats such as count, mean, std, min, etc."
   ]
  },
  {
   "cell_type": "markdown",
   "id": "4924ef79",
   "metadata": {},
   "source": [
    "#### Data Aggregation: grouping data by value in a column(s)"
   ]
  },
  {
   "cell_type": "code",
   "execution_count": null,
   "id": "0bf9775a",
   "metadata": {},
   "outputs": [],
   "source": [
    "df_byitemtype = df.groupby('ItemType') #group by item type\n",
    "df_byitemtype['Total_Revenue'].sum()\n",
    "df.groupby(['Team', 'Position']) #grouping by more than one category"
   ]
  },
  {
   "cell_type": "markdown",
   "id": "23c173da",
   "metadata": {},
   "source": [
    "#### Pivot Tables: table of grouped values that aggregates the individual items of a more extensive table w/in one or more discrete categories"
   ]
  },
  {
   "cell_type": "code",
   "execution_count": null,
   "id": "2743e0a4",
   "metadata": {},
   "outputs": [],
   "source": [
    "pivot1 = pd.pivot_table(df, value = ['Total_Revenue'], index = ['ItemType'], column = ['Region'], aggfunc = 'sum', sort = True)\n",
    "#create a pivot table to aggregate data\n",
    "print(pivot1) #shows total revenue for each region by item type \n",
    "\n",
    "#Pivot table with both columns and indexes\n",
    "table2 = pd.pivot_table(df, index = ['Weather'], columns = ['Food'], values= 'Number', aggfunc=np.sum)\n",
    "\n",
    "#Pivot table with two values\n",
    "table3 = pd.pivot_table(df, index=['Weather'], values=['Number', 'Price'], aggfunc={'Price': np.mean, 'Number': np.sum})\n",
    "\n",
    "#Pivot table with totals\n",
    "table4 = pd.pivot_table(df, index=['Weather'], values=['Number', 'Price'], aggfunc={'Price': np.mean,'Number': np.sum}, margins=True)"
   ]
  },
  {
   "cell_type": "markdown",
   "id": "e0049460",
   "metadata": {},
   "source": [
    "#### Joining DataFrames"
   ]
  },
  {
   "cell_type": "code",
   "execution_count": null,
   "id": "bd256bfb",
   "metadata": {},
   "outputs": [],
   "source": [
    "#inner join selects rows from two tables, if and only if values match, for cols specified in the join condition\n",
    "address = pd.DataFrame({'EmpNr' : [5, 3, 9],'Dest' : ['Carrollton', 'Bremen', 'Villa Rica']})\n",
    "salary = pd.DataFrame({'EmpNr' : [5, 9, 7],'Amount' : [10, 5, 2.5]})\n",
    "print(address)\n",
    "print(salary)\n",
    "\n",
    "#another ex.\n",
    "dest_tips = pd.merge(address, salary, how='inner')\n",
    "print(dest_tips)\n",
    "\n",
    "inner_join = pd.merge(address, salary, how = 'inner')\n",
    "print(inner_join) #should return two rows"
   ]
  },
  {
   "cell_type": "code",
   "execution_count": null,
   "id": "c08e4c81",
   "metadata": {},
   "outputs": [],
   "source": [
    "#outer joins do not require a match and can potentially return more rows\n",
    "outer_join = pd.merge(address, salary, how='outer')\n",
    "print(outer_join) #should show 4 rows; can include null/NaN values"
   ]
  },
  {
   "cell_type": "markdown",
   "id": "19cc352a",
   "metadata": {},
   "source": [
    "#### Querying Data"
   ]
  },
  {
   "cell_type": "code",
   "execution_count": null,
   "id": "fb3ffa30",
   "metadata": {},
   "outputs": [],
   "source": [
    "#boolean indexing\n",
    "df_nooutlier = df_deldup[df_deldup['life_sq'] < 1000]\n",
    "\n",
    "#using loc/iloc; used more often (iloc = index)\n",
    "df_nooutlier.loc[8135:8949, 'life_sq']\n",
    "df_nooutlier.loc[(df_nooutlier['id']>8135)&(df_nooutlier['id']< 8391), 'life_sq']\n",
    "\n",
    "#using .query()\n",
    "df_nooutlier.query('id ==8059')\n",
    "df_nooutlier.query('life_sq < 30')"
   ]
  }
 ],
 "metadata": {
  "kernelspec": {
   "display_name": "Python 3 (ipykernel)",
   "language": "python",
   "name": "python3"
  },
  "language_info": {
   "codemirror_mode": {
    "name": "ipython",
    "version": 3
   },
   "file_extension": ".py",
   "mimetype": "text/x-python",
   "name": "python",
   "nbconvert_exporter": "python",
   "pygments_lexer": "ipython3",
   "version": "3.9.12"
  }
 },
 "nbformat": 4,
 "nbformat_minor": 5
}
