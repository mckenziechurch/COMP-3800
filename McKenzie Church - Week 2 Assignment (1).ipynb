{
 "cells": [
  {
   "cell_type": "code",
   "execution_count": 1,
   "id": "686321f5",
   "metadata": {},
   "outputs": [
    {
     "data": {
      "text/plain": [
       "['apple', 'mango', 'grape', 'orange']"
      ]
     },
     "execution_count": 1,
     "metadata": {},
     "output_type": "execute_result"
    }
   ],
   "source": [
    "list = [\"apple\", \"mango\", \"grape\", \"orange\"]\n",
    "list"
   ]
  },
  {
   "cell_type": "code",
   "execution_count": 3,
   "id": "56b36571",
   "metadata": {},
   "outputs": [
    {
     "data": {
      "text/plain": [
       "30117"
      ]
     },
     "execution_count": 3,
     "metadata": {},
     "output_type": "execute_result"
    }
   ],
   "source": [
    "cities = {\"Atlanta\":30311, \"Mableton\":30126, \"Carrollton\":30117, \"Temple\":30108}\n",
    "cities[\"Carrollton\"]"
   ]
  },
  {
   "cell_type": "code",
   "execution_count": 4,
   "id": "c633f0fd",
   "metadata": {},
   "outputs": [
    {
     "data": {
      "text/plain": [
       "0"
      ]
     },
     "execution_count": 4,
     "metadata": {},
     "output_type": "execute_result"
    }
   ],
   "source": [
    "housePrice = 0\n",
    "housePrice"
   ]
  },
  {
   "cell_type": "code",
   "execution_count": 6,
   "id": "d71b26cd",
   "metadata": {},
   "outputs": [
    {
     "name": "stdout",
     "output_type": "stream",
     "text": [
      "Enter your house size:100\n",
      "100000\n"
     ]
    }
   ],
   "source": [
    "houseSize = int(input(\"Enter your house size:\"))\n",
    "housePrice = 0\n",
    "if houseSize < 1000:\n",
    "    housePrice = 100000\n",
    "elif 1000 < houseSize < 1500:\n",
    "    housePrice = 150000\n",
    "elif houseSize > 3000:\n",
    "    housePrice = 400000\n",
    "print(housePrice)"
   ]
  },
  {
   "cell_type": "code",
   "execution_count": 7,
   "id": "e7fed0ca",
   "metadata": {},
   "outputs": [
    {
     "name": "stdout",
     "output_type": "stream",
     "text": [
      "0\n",
      "3\n",
      "6\n",
      "9\n",
      "12\n",
      "15\n",
      "18\n",
      "21\n",
      "24\n",
      "27\n",
      "30\n",
      "33\n",
      "36\n",
      "39\n",
      "42\n",
      "45\n",
      "48\n",
      "51\n",
      "54\n",
      "57\n",
      "60\n",
      "63\n",
      "66\n",
      "69\n",
      "72\n",
      "75\n",
      "78\n",
      "81\n",
      "84\n",
      "87\n",
      "90\n",
      "93\n",
      "96\n",
      "99\n",
      "102\n",
      "105\n",
      "108\n",
      "111\n",
      "114\n",
      "117\n"
     ]
    }
   ],
   "source": [
    "for i in range(0,40):\n",
    "    print(3 * i)"
   ]
  },
  {
   "cell_type": "code",
   "execution_count": 20,
   "id": "4abb4234",
   "metadata": {},
   "outputs": [
    {
     "ename": "KeyboardInterrupt",
     "evalue": "",
     "output_type": "error",
     "traceback": [
      "\u001b[1;31m---------------------------------------------------------------------------\u001b[0m",
      "\u001b[1;31mKeyboardInterrupt\u001b[0m                         Traceback (most recent call last)",
      "Input \u001b[1;32mIn [20]\u001b[0m, in \u001b[0;36m<cell line: 6>\u001b[1;34m()\u001b[0m\n\u001b[0;32m      4\u001b[0m         y \u001b[38;5;241m=\u001b[39m x\u001b[38;5;241m*\u001b[39m\u001b[38;5;241m*\u001b[39mn\n\u001b[0;32m      5\u001b[0m     \u001b[38;5;28;01mreturn\u001b[39;00m y\n\u001b[1;32m----> 6\u001b[0m \u001b[43mcalculatePower\u001b[49m\u001b[43m(\u001b[49m\u001b[38;5;241;43m9\u001b[39;49m\u001b[43m,\u001b[49m\u001b[38;5;241;43m5\u001b[39;49m\u001b[43m)\u001b[49m\n",
      "Input \u001b[1;32mIn [20]\u001b[0m, in \u001b[0;36mcalculatePower\u001b[1;34m(x, n)\u001b[0m\n\u001b[0;32m      1\u001b[0m \u001b[38;5;28;01mdef\u001b[39;00m \u001b[38;5;21mcalculatePower\u001b[39m(x,n):\n\u001b[0;32m      2\u001b[0m     y \u001b[38;5;241m=\u001b[39m \u001b[38;5;241m0\u001b[39m\n\u001b[1;32m----> 3\u001b[0m     \u001b[38;5;28;01mwhile\u001b[39;00m \u001b[38;5;241m0\u001b[39m\u001b[38;5;241m<\u001b[39mn\u001b[38;5;241m<\u001b[39m\u001b[38;5;241m6\u001b[39m \u001b[38;5;129;01mand\u001b[39;00m \u001b[43mx\u001b[49m\u001b[38;5;241;43m>\u001b[39;49m\u001b[38;5;241;43m0\u001b[39;49m:\n\u001b[0;32m      4\u001b[0m         y \u001b[38;5;241m=\u001b[39m x\u001b[38;5;241m*\u001b[39m\u001b[38;5;241m*\u001b[39mn\n\u001b[0;32m      5\u001b[0m     \u001b[38;5;28;01mreturn\u001b[39;00m y\n",
      "\u001b[1;31mKeyboardInterrupt\u001b[0m: "
     ]
    }
   ],
   "source": [
    "def calculatePower(x,n):\n",
    "    y = 0\n",
    "    while 0<n<6 and x>0:\n",
    "        y = x**n\n",
    "    return y\n",
    "calculatePower(9,5)\n",
    "#doesn't work using while loop?"
   ]
  },
  {
   "cell_type": "code",
   "execution_count": 21,
   "id": "f1d730f3",
   "metadata": {},
   "outputs": [
    {
     "data": {
      "text/plain": [
       "531441"
      ]
     },
     "execution_count": 21,
     "metadata": {},
     "output_type": "execute_result"
    }
   ],
   "source": [
    "def calcPower(x,n):\n",
    "    if n<0 or n>6 or x<0:\n",
    "        return 0\n",
    "    else:\n",
    "        return x**n\n",
    "calcPower(9,6)"
   ]
  },
  {
   "cell_type": "code",
   "execution_count": 22,
   "id": "65abdd37",
   "metadata": {},
   "outputs": [
    {
     "data": {
      "text/plain": [
       "0"
      ]
     },
     "execution_count": 22,
     "metadata": {},
     "output_type": "execute_result"
    }
   ],
   "source": [
    "calcPower(9,10)"
   ]
  },
  {
   "cell_type": "code",
   "execution_count": 31,
   "id": "5c948aac",
   "metadata": {},
   "outputs": [],
   "source": [
    "import math\n",
    "class Circle:\n",
    "    def __init__(self, radius):\n",
    "        self.radius = radius\n",
    "    def calculateArea(self):\n",
    "        rad = math.pi*(self.radius**2)\n",
    "        return rad\n",
    "    def calculatePerimeter(self):\n",
    "        perimeter = 2*(math.pi)*self.radius\n",
    "        return perimeter\n",
    "circle1 = Circle(5)\n",
    "#?"
   ]
  },
  {
   "cell_type": "code",
   "execution_count": 40,
   "id": "a5783950",
   "metadata": {},
   "outputs": [
    {
     "name": "stdout",
     "output_type": "stream",
     "text": [
      "1 eggs\n",
      "2 popcorn\n",
      "3 bananas\n",
      "4 kale\n",
      "Mission completed\n"
     ]
    }
   ],
   "source": [
    "groceries = {1: \"eggs\", 2:\"popcorn\", 3:\"bananas\", 4:\"kale\"}\n",
    "for x,y in groceries.items():\n",
    "    print(x, y)\n",
    "print(\"Mission completed\")\n"
   ]
  },
  {
   "cell_type": "code",
   "execution_count": 42,
   "id": "760aa5c2",
   "metadata": {},
   "outputs": [
    {
     "ename": "SyntaxError",
     "evalue": "invalid character '’' (U+2019) (1934832269.py, line 2)",
     "output_type": "error",
     "traceback": [
      "\u001b[1;36m  Input \u001b[1;32mIn [42]\u001b[1;36m\u001b[0m\n\u001b[1;33m    - DO not discuss your approaches or your code with colleagues. There are many ways to implement this assignment, and it is extremely easy to spot code that has been inspired by someone else’s code and to identify unauthorized collaborations.\u001b[0m\n\u001b[1;37m                                                                                                                                                                                                 ^\u001b[0m\n\u001b[1;31mSyntaxError\u001b[0m\u001b[1;31m:\u001b[0m invalid character '’' (U+2019)\n"
     ]
    }
   ],
   "source": [
    "THIS IS AN INDIVIDUAL ASSIGNMENT. YOU MAY NOT DISCUSS THIS ASSIGNMENT WITH ANYONE WITHIN OR OUTSIDE THE CLASS (except the instructor).\n",
    "- DO not discuss your approaches or your code with colleagues. There are many ways to implement this assignment, and it is extremely easy to spot code that has been inspired by someone else’s code and to identify unauthorized collaborations.\n",
    "- If you choose to utilize something you find online, cite that resource, but DO NOT share that resource with anyone else.\n",
    "By submitting this assignment, you certify that no unauthorized assistance has been received or given in the completion of this work.\n",
    "\n",
    "McKenzie Church"
   ]
  },
  {
   "cell_type": "code",
   "execution_count": null,
   "id": "f53e70fb",
   "metadata": {},
   "outputs": [],
   "source": []
  }
 ],
 "metadata": {
  "kernelspec": {
   "display_name": "Python 3 (ipykernel)",
   "language": "python",
   "name": "python3"
  },
  "language_info": {
   "codemirror_mode": {
    "name": "ipython",
    "version": 3
   },
   "file_extension": ".py",
   "mimetype": "text/x-python",
   "name": "python",
   "nbconvert_exporter": "python",
   "pygments_lexer": "ipython3",
   "version": "3.10.5"
  }
 },
 "nbformat": 4,
 "nbformat_minor": 5
}
