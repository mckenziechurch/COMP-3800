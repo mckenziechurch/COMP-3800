{
 "cells": [
  {
   "cell_type": "code",
   "execution_count": 1,
   "id": "11b343cf",
   "metadata": {},
   "outputs": [],
   "source": [
    "#can comment on code this way for short sentences"
   ]
  },
  {
   "cell_type": "markdown",
   "id": "5b20b537",
   "metadata": {},
   "source": [
    "# or this way for long paragraphs"
   ]
  },
  {
   "cell_type": "code",
   "execution_count": 2,
   "id": "efd592d9",
   "metadata": {},
   "outputs": [
    {
     "ename": "KeyboardInterrupt",
     "evalue": "Interrupted by user",
     "output_type": "error",
     "traceback": [
      "\u001b[1;31m---------------------------------------------------------------------------\u001b[0m",
      "\u001b[1;31mKeyboardInterrupt\u001b[0m                         Traceback (most recent call last)",
      "Input \u001b[1;32mIn [2]\u001b[0m, in \u001b[0;36m<cell line: 1>\u001b[1;34m()\u001b[0m\n\u001b[1;32m----> 1\u001b[0m score \u001b[38;5;241m=\u001b[39m \u001b[38;5;28mint\u001b[39m(\u001b[38;5;28;43minput\u001b[39;49m\u001b[43m(\u001b[49m\u001b[38;5;124;43m\"\u001b[39;49m\u001b[38;5;124;43mEnter your score:: \u001b[39;49m\u001b[38;5;124;43m\"\u001b[39;49m\u001b[43m)\u001b[49m)\n\u001b[0;32m      2\u001b[0m \u001b[38;5;28;01mif\u001b[39;00m score \u001b[38;5;241m>\u001b[39m \u001b[38;5;241m90\u001b[39m:\n\u001b[0;32m      3\u001b[0m     \u001b[38;5;28mprint\u001b[39m(\u001b[38;5;124m\"\u001b[39m\u001b[38;5;124mYour grade  is A.\u001b[39m\u001b[38;5;124m\"\u001b[39m)\n",
      "File \u001b[1;32m~\\AppData\\Local\\Programs\\Python\\Python310\\lib\\site-packages\\ipykernel\\kernelbase.py:1177\u001b[0m, in \u001b[0;36mKernel.raw_input\u001b[1;34m(self, prompt)\u001b[0m\n\u001b[0;32m   1173\u001b[0m \u001b[38;5;28;01mif\u001b[39;00m \u001b[38;5;129;01mnot\u001b[39;00m \u001b[38;5;28mself\u001b[39m\u001b[38;5;241m.\u001b[39m_allow_stdin:\n\u001b[0;32m   1174\u001b[0m     \u001b[38;5;28;01mraise\u001b[39;00m StdinNotImplementedError(\n\u001b[0;32m   1175\u001b[0m         \u001b[38;5;124m\"\u001b[39m\u001b[38;5;124mraw_input was called, but this frontend does not support input requests.\u001b[39m\u001b[38;5;124m\"\u001b[39m\n\u001b[0;32m   1176\u001b[0m     )\n\u001b[1;32m-> 1177\u001b[0m \u001b[38;5;28;01mreturn\u001b[39;00m \u001b[38;5;28;43mself\u001b[39;49m\u001b[38;5;241;43m.\u001b[39;49m\u001b[43m_input_request\u001b[49m\u001b[43m(\u001b[49m\n\u001b[0;32m   1178\u001b[0m \u001b[43m    \u001b[49m\u001b[38;5;28;43mstr\u001b[39;49m\u001b[43m(\u001b[49m\u001b[43mprompt\u001b[49m\u001b[43m)\u001b[49m\u001b[43m,\u001b[49m\n\u001b[0;32m   1179\u001b[0m \u001b[43m    \u001b[49m\u001b[38;5;28;43mself\u001b[39;49m\u001b[38;5;241;43m.\u001b[39;49m\u001b[43m_parent_ident\u001b[49m\u001b[43m[\u001b[49m\u001b[38;5;124;43m\"\u001b[39;49m\u001b[38;5;124;43mshell\u001b[39;49m\u001b[38;5;124;43m\"\u001b[39;49m\u001b[43m]\u001b[49m\u001b[43m,\u001b[49m\n\u001b[0;32m   1180\u001b[0m \u001b[43m    \u001b[49m\u001b[38;5;28;43mself\u001b[39;49m\u001b[38;5;241;43m.\u001b[39;49m\u001b[43mget_parent\u001b[49m\u001b[43m(\u001b[49m\u001b[38;5;124;43m\"\u001b[39;49m\u001b[38;5;124;43mshell\u001b[39;49m\u001b[38;5;124;43m\"\u001b[39;49m\u001b[43m)\u001b[49m\u001b[43m,\u001b[49m\n\u001b[0;32m   1181\u001b[0m \u001b[43m    \u001b[49m\u001b[43mpassword\u001b[49m\u001b[38;5;241;43m=\u001b[39;49m\u001b[38;5;28;43;01mFalse\u001b[39;49;00m\u001b[43m,\u001b[49m\n\u001b[0;32m   1182\u001b[0m \u001b[43m\u001b[49m\u001b[43m)\u001b[49m\n",
      "File \u001b[1;32m~\\AppData\\Local\\Programs\\Python\\Python310\\lib\\site-packages\\ipykernel\\kernelbase.py:1219\u001b[0m, in \u001b[0;36mKernel._input_request\u001b[1;34m(self, prompt, ident, parent, password)\u001b[0m\n\u001b[0;32m   1216\u001b[0m             \u001b[38;5;28;01mbreak\u001b[39;00m\n\u001b[0;32m   1217\u001b[0m \u001b[38;5;28;01mexcept\u001b[39;00m \u001b[38;5;167;01mKeyboardInterrupt\u001b[39;00m:\n\u001b[0;32m   1218\u001b[0m     \u001b[38;5;66;03m# re-raise KeyboardInterrupt, to truncate traceback\u001b[39;00m\n\u001b[1;32m-> 1219\u001b[0m     \u001b[38;5;28;01mraise\u001b[39;00m \u001b[38;5;167;01mKeyboardInterrupt\u001b[39;00m(\u001b[38;5;124m\"\u001b[39m\u001b[38;5;124mInterrupted by user\u001b[39m\u001b[38;5;124m\"\u001b[39m) \u001b[38;5;28;01mfrom\u001b[39;00m \u001b[38;5;28mNone\u001b[39m\n\u001b[0;32m   1220\u001b[0m \u001b[38;5;28;01mexcept\u001b[39;00m \u001b[38;5;167;01mException\u001b[39;00m:\n\u001b[0;32m   1221\u001b[0m     \u001b[38;5;28mself\u001b[39m\u001b[38;5;241m.\u001b[39mlog\u001b[38;5;241m.\u001b[39mwarning(\u001b[38;5;124m\"\u001b[39m\u001b[38;5;124mInvalid Message:\u001b[39m\u001b[38;5;124m\"\u001b[39m, exc_info\u001b[38;5;241m=\u001b[39m\u001b[38;5;28;01mTrue\u001b[39;00m)\n",
      "\u001b[1;31mKeyboardInterrupt\u001b[0m: Interrupted by user"
     ]
    }
   ],
   "source": [
    "score = int(input(\"Enter your score:: \"))\n",
    "if score > 90:\n",
    "    print(\"Your grade  is A.\")\n",
    "elif score>80:\n",
    "    print(\"Your grade  is B.\")\n",
    "elif score>70:\n",
    "    print(\"Your grade  is C.\")\n",
    "else: \n",
    "    print(\"Your grade  is F.\")\n",
    "    \n",
    "#how to condense this code?\n",
    "#does not cover if grade below zero or boundary values"
   ]
  },
  {
   "cell_type": "code",
   "execution_count": null,
   "id": "a048f5f3",
   "metadata": {},
   "outputs": [],
   "source": [
    "score = int(input(\"Enter your score:: \"))\n",
    "if score > 90:\n",
    "    grade = \"A\"\n",
    "\n",
    "#elif covers cases excluding case above, which makes so you don't have to create condition to exclude the above case\n",
    "#if using just plain 'if', excluding conditional is needed; using this way w/o exclusion will activate all lower cases (ie, grade is 80)\n",
    "#will print grade is a B, C and F\n",
    "#"
   ]
  },
  {
   "cell_type": "code",
   "execution_count": null,
   "id": "b8fbe615",
   "metadata": {},
   "outputs": [],
   "source": [
    "#while loop example\n",
    "\n",
    "score = int(input(\"Enter your score: \"))\n",
    "while score>0:   \n",
    "    print('Your score is', score)\n",
    "    score = int( input(\"Enter the next score: (0 to quit)\") )\n"
   ]
  },
  {
   "cell_type": "code",
   "execution_count": null,
   "id": "c0509e1f",
   "metadata": {},
   "outputs": [],
   "source": [
    "#for loop example\n",
    "\n",
    "score = int(input(\"Enter your score: \"))\n",
    "for i in range(0,20): \n",
    "    #for range, first number is included but last number isn't; this is 0 to 19\n",
    "    print('Your score is', score)\n",
    "    score = int( input(\"Enter the next score: (0 to quit)\") )\n"
   ]
  },
  {
   "cell_type": "code",
   "execution_count": null,
   "id": "b2c92e1d",
   "metadata": {},
   "outputs": [],
   "source": [
    "#for loop to iterate list/dictionary\n",
    "L = [1, 2, 3, 4]\n",
    "for i in L:\n",
    "    print (i)"
   ]
  },
  {
   "cell_type": "code",
   "execution_count": 3,
   "id": "91bc38be",
   "metadata": {},
   "outputs": [
    {
     "name": "stdout",
     "output_type": "stream",
     "text": [
      "1\n",
      "2\n",
      "3\n",
      "4\n"
     ]
    }
   ],
   "source": [
    "L = [1, 2, 3, 4]\n",
    "for i in range(0, len(L)):\n",
    "    print (L[i]) #this will print item"
   ]
  },
  {
   "cell_type": "code",
   "execution_count": 4,
   "id": "3fef43cf",
   "metadata": {},
   "outputs": [
    {
     "name": "stdout",
     "output_type": "stream",
     "text": [
      "1\n",
      "2\n",
      "3\n",
      "4\n"
     ]
    }
   ],
   "source": [
    "#create a function\n",
    "\n",
    "def function():\n",
    "    L = [1, 2, 3, 4]\n",
    "    for i in L:\n",
    "        print (i)\n",
    "function() #call the function"
   ]
  },
  {
   "cell_type": "code",
   "execution_count": 6,
   "id": "6eb62677",
   "metadata": {},
   "outputs": [
    {
     "name": "stdout",
     "output_type": "stream",
     "text": [
      "0\n",
      "9\n"
     ]
    },
    {
     "data": {
      "text/plain": [
       "362880"
      ]
     },
     "execution_count": 6,
     "metadata": {},
     "output_type": "execute_result"
    }
   ],
   "source": [
    "#non recursive ex\n",
    "def factorial(n):\n",
    "    for i in (0, n):\n",
    "        print(i)\n",
    "factorial (9)\n",
    "\n",
    "#recursive\n",
    "def factorial1(n):\n",
    "    if (n == 1 or n == 0):\n",
    "        return 1 #base case\n",
    "    else:\n",
    "        return n * factorial1(n-1) #recursive call\n",
    "factorial1(9)"
   ]
  },
  {
   "cell_type": "code",
   "execution_count": 7,
   "id": "893c592b",
   "metadata": {},
   "outputs": [
    {
     "data": {
      "text/plain": [
       "34"
      ]
     },
     "execution_count": 7,
     "metadata": {},
     "output_type": "execute_result"
    }
   ],
   "source": [
    "#fibonacci example for recursion\n",
    "def fibonacci(n):\n",
    "    if (n == 1 or n == 0):\n",
    "        return n #base case\n",
    "    else:\n",
    "        return  fibonacci(n-1) + fibonacci(n-2) #recursive call\n",
    "fibonacci(9)"
   ]
  },
  {
   "cell_type": "code",
   "execution_count": 8,
   "id": "656759e0",
   "metadata": {},
   "outputs": [
    {
     "name": "stdout",
     "output_type": "stream",
     "text": [
      "Yinning your grade is B\n",
      "Janera your grade is A\n"
     ]
    }
   ],
   "source": [
    "#classes and objects\n",
    "class Student:\n",
    "    def __init__(self, name, score):\n",
    "        self.name=name\n",
    "        self.score=score\n",
    "        \n",
    "    def calculateGrade(self):\n",
    "        grade=''\n",
    "        if self.score > 90:\n",
    "            grade = 'A'\n",
    "        elif self.score > 80:\n",
    "            grade = 'B'\n",
    "        elif self.score > 70:\n",
    "            grade = 'C'\n",
    "        else: \n",
    "            grade = 'F'\n",
    "        return grade\n",
    "    \n",
    "student1=Student('Yinning',90)\n",
    "student2=Student('Janera',95)\n",
    "\n",
    "L=[student1, student2]\n",
    "for i in L:\n",
    "    print(i.name, 'your grade is', i.calculateGrade())\n"
   ]
  },
  {
   "cell_type": "code",
   "execution_count": 11,
   "id": "f1069580",
   "metadata": {},
   "outputs": [
    {
     "data": {
      "text/plain": [
       "31.41592653589793"
      ]
     },
     "execution_count": 11,
     "metadata": {},
     "output_type": "execute_result"
    }
   ],
   "source": [
    "import math\n",
    "class Circle:\n",
    "    def __init__(self, radius):\n",
    "        self.radius = radius\n",
    "    def calculateArea(self):\n",
    "        rad = math.pi*(self.radius**2)\n",
    "        return rad\n",
    "    def calculatePerimeter(self):\n",
    "        perimeter = 2*(math.pi)*self.radius\n",
    "        return perimeter\n",
    "circle1 = Circle(5)\n",
    "circle1.calculateArea()\n",
    "circle1.calculatePerimeter()"
   ]
  },
  {
   "cell_type": "code",
   "execution_count": null,
   "id": "8369bd03",
   "metadata": {},
   "outputs": [],
   "source": []
  }
 ],
 "metadata": {
  "kernelspec": {
   "display_name": "Python 3 (ipykernel)",
   "language": "python",
   "name": "python3"
  },
  "language_info": {
   "codemirror_mode": {
    "name": "ipython",
    "version": 3
   },
   "file_extension": ".py",
   "mimetype": "text/x-python",
   "name": "python",
   "nbconvert_exporter": "python",
   "pygments_lexer": "ipython3",
   "version": "3.10.5"
  }
 },
 "nbformat": 4,
 "nbformat_minor": 5
}
