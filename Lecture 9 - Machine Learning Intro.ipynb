{
 "cells": [
  {
   "cell_type": "markdown",
   "id": "f778ca9c",
   "metadata": {},
   "source": [
    "### Machine Learning & Regression"
   ]
  },
  {
   "cell_type": "markdown",
   "id": "6c8a4bde",
   "metadata": {},
   "source": [
    "- *machine learning*: activity to acquire/discover patterns; explore and construct algorithms that can use historical data to make predictions on new input data\n",
    "\n",
    "**Types of Machine Learning**\n",
    "- *supervised*: task-driven; regression/classification\n",
    "    - *regression*: type of target variable -> continuous target variable (ie, housing price prediction)\n",
    "    - *classification*: type of target variable -> categorical target variable (ie, medical imaging)\n",
    "- *unsupervised*: data-driven; clustering/association\n",
    "    - no target variable\n",
    "    - semi-supervised has categorical target variable\n",
    "- *reinforcement*: algorithm learns to react to an environment; classification/control\n",
    "    - *classification*: categorical target variable\n",
    "    - control doesn't have target variable\n",
    "\n",
    "**Features v Labels**\n",
    "- *independent variables*: features; explanatory variables (ie, physical features of a flower, such a petal size, petal color, etc.)\n",
    "- *dependent variables*: label; target"
   ]
  },
  {
   "cell_type": "markdown",
   "id": "84c579a7",
   "metadata": {},
   "source": [
    "**Linear Regression**\n",
    "- *linear regression*: linear approach for modeling relationship btwn scalar *dependent* variable (y) and one+ explanatory/independent variables\n",
    "\n",
    "ie,"
   ]
  },
  {
   "cell_type": "code",
   "execution_count": 17,
   "id": "f663423b",
   "metadata": {},
   "outputs": [
    {
     "data": {
      "text/plain": [
       "[<matplotlib.lines.Line2D at 0x190a9e32fd0>]"
      ]
     },
     "execution_count": 17,
     "metadata": {},
     "output_type": "execute_result"
    },
    {
     "data": {
      "image/png": "[encoded data removed]",
      "text/plain": [
       "<Figure size 432x288 with 1 Axes>"
      ]
     },
     "metadata": {
      "needs_background": "light"
     },
     "output_type": "display_data"
    }
   ],
   "source": [
    "# 1. Generate the dataset\n",
    "import matplotlib.pyplot as plt\n",
    "from sklearn.linear_model import LinearRegression\n",
    "heights = [[1.6], [1.65], [1.7], [1.73], [1.8]]  # heights of a group\n",
    "weights = [[60], [65], [72.3], [75], [80]] # weights of these people\n",
    "\n",
    "# 2. Plot the data to see the trend.\n",
    "plt.title('Weights plotted against heights')\n",
    "plt.xlabel('Heights in meters')\n",
    "plt.ylabel('Weights in kilograms')\n",
    "plt.axis([1.5, 1.85, 50, 90])\n",
    "plt.grid(True)\n",
    "plt.plot(heights, weights, '.')\n"
   ]
  },
  {
   "cell_type": "code",
   "execution_count": 6,
   "id": "93d42f80",
   "metadata": {},
   "outputs": [
    {
     "data": {
      "text/plain": [
       "LinearRegression()"
      ]
     },
     "execution_count": 6,
     "metadata": {},
     "output_type": "execute_result"
    }
   ],
   "source": [
    "# use model to train data -> train w/ 2D array\n",
    "model2 = LinearRegression()\n",
    "model2.fit(heights, weights)"
   ]
  },
  {
   "cell_type": "code",
   "execution_count": 11,
   "id": "5d211dac",
   "metadata": {},
   "outputs": [
    {
     "data": {
      "text/plain": [
       "array([[81.20428816]])"
      ]
     },
     "execution_count": 11,
     "metadata": {},
     "output_type": "execute_result"
    }
   ],
   "source": [
    "# can now use data to make predictions -> prediction desired must be 2D array\n",
    "model2.predict([[1.80]]) # prediction for weight of someone who is 1.80 km"
   ]
  },
  {
   "cell_type": "code",
   "execution_count": 12,
   "id": "56248681",
   "metadata": {},
   "outputs": [
    {
     "data": {
      "text/plain": [
       "array([[81.20428816],\n",
       "       [96.70085763]])"
      ]
     },
     "execution_count": 12,
     "metadata": {},
     "output_type": "execute_result"
    }
   ],
   "source": [
    "# multiple predictions -> for two people\n",
    "# can also use np.reshape() to turn from 1D to 2D array\n",
    "model2.predict([[1.80], [1.95]])"
   ]
  },
  {
   "cell_type": "code",
   "execution_count": 13,
   "id": "5e6b7822",
   "metadata": {},
   "outputs": [
    {
     "data": {
      "text/plain": [
       "[<matplotlib.lines.Line2D at 0x190a93a2bb0>]"
      ]
     },
     "execution_count": 13,
     "metadata": {},
     "output_type": "execute_result"
    },
    {
     "data": {
      "image/png": "[encoded data removed]",
      "text/plain": [
       "<Figure size 432x288 with 1 Axes>"
      ]
     },
     "metadata": {
      "needs_background": "light"
     },
     "output_type": "display_data"
    }
   ],
   "source": [
    "# add line plot\n",
    "\n",
    "heights = [[1.6], [1.65], [1.7], [1.73], [1.8]]  # heights of a group\n",
    "weights = [[60], [65], [72.3], [75], [80]] # weights of these people\n",
    "\n",
    "# plot the dots\n",
    "plt.plot(heights, weights, '.') #actual data -> linear regression line\n",
    "plt.plot(heights, model2.predict(heights)) #predictive data using trained machine learning -> the dots\n",
    "\n",
    "\n",
    "# 2. Plot the data to see the trend \n",
    "plt.title('Weights plotted against heights')\n",
    "plt.xlabel('Heights in meters')\n",
    "plt.ylabel('Weights in kilograms')\n",
    "plt.axis([1.5, 1.85, 50, 90])\n",
    "plt.grid(True)\n",
    "plt.plot(heights, weights, '.')"
   ]
  },
  {
   "cell_type": "markdown",
   "id": "153d4bde",
   "metadata": {},
   "source": [
    "### Finding XY Equation for ML Model\n",
    "- find sum of distance from dots to line\n",
    "- evaluate if the prediction is correct: dots are closer to the line = more valid\n",
    "- more dots = better example\n",
    "\n",
    "**Examine Performance of ML -> Residual Sum of Squares**\n",
    "- *residual sum of square (RSS)*: measure amount of variance in data set\n",
    "    - will increase w/ more data points/dots\n",
    "    - decrease w/ less data points/dots\n",
    "    \n",
    "**R-Squared**\n",
    "- *total sum of squares*: variation from actual value from mean of data points; measure of variance for dependent variables\n",
    "    - value is between 0 and 1 (0% - 100%); larger = more accuracy"
   ]
  },
  {
   "cell_type": "code",
   "execution_count": 14,
   "id": "9c559c14",
   "metadata": {},
   "outputs": [
    {
     "data": {
      "text/plain": [
       "0.9790095965614152"
      ]
     },
     "execution_count": 14,
     "metadata": {},
     "output_type": "execute_result"
    }
   ],
   "source": [
    "# calculate R^2\n",
    "model2.score(heights, weights)"
   ]
  },
  {
   "cell_type": "code",
   "execution_count": 15,
   "id": "d8c98ce6",
   "metadata": {},
   "outputs": [
    {
     "data": {
      "text/plain": [
       "array([-104.75454545])"
      ]
     },
     "execution_count": 15,
     "metadata": {},
     "output_type": "execute_result"
    }
   ],
   "source": [
    "model2.intercept_ #returns 1D array"
   ]
  },
  {
   "cell_type": "code",
   "execution_count": 16,
   "id": "5e99b774",
   "metadata": {},
   "outputs": [
    {
     "data": {
      "text/plain": [
       "array([[103.31046312]])"
      ]
     },
     "execution_count": 16,
     "metadata": {},
     "output_type": "execute_result"
    }
   ],
   "source": [
    "model2.coef_ #returns 2D array -> this is the slope of the Linear Regression Line"
   ]
  },
  {
   "cell_type": "code",
   "execution_count": null,
   "id": "033ba9c8",
   "metadata": {},
   "outputs": [],
   "source": [
    "# outliers affect accuracy of prediction line"
   ]
  },
  {
   "cell_type": "code",
   "execution_count": 21,
   "id": "cf2ca8db",
   "metadata": {},
   "outputs": [
    {
     "name": "stdout",
     "output_type": "stream",
     "text": [
      "Residual sum of squares: %.2f\n"
     ]
    },
    {
     "data": {
      "text/plain": [
       "-24719.653567752997"
      ]
     },
     "execution_count": 21,
     "metadata": {},
     "output_type": "execute_result"
    }
   ],
   "source": [
    "# calculate RSS w/ training data\n",
    "import numpy as np\n",
    "print('Residual sum of squares: %.2f')\n",
    "np.sum((weights - model2.predict(heights) ** 2))"
   ]
  },
  {
   "cell_type": "code",
   "execution_count": 24,
   "id": "ad2fc1cd",
   "metadata": {},
   "outputs": [
    {
     "name": "stdout",
     "output_type": "stream",
     "text": [
      "R-squared: 0.9429\n"
     ]
    }
   ],
   "source": [
    "# evaluate the model w/ test data\n",
    "\n",
    "# test data\n",
    "heights_test = [[1.58], [1.62], [1.69], [1.76], [1.82]]\n",
    "weights_test = [[58], [63], [72], [73], [85]]\n",
    "\n",
    "# using scikit-learn to calculate R^2\n",
    "print('R-squared: %.4f'%model2.score(heights_test, weights_test))"
   ]
  },
  {
   "cell_type": "markdown",
   "id": "4ffecda3",
   "metadata": {},
   "source": [
    "The R-squared value, 0.9429 (94.29%) shows a good fit for test data."
   ]
  },
  {
   "cell_type": "code",
   "execution_count": null,
   "id": "042be254",
   "metadata": {},
   "outputs": [],
   "source": []
  }
 ],
 "metadata": {
  "kernelspec": {
   "display_name": "Python 3 (ipykernel)",
   "language": "python",
   "name": "python3"
  },
  "language_info": {
   "codemirror_mode": {
    "name": "ipython",
    "version": 3
   },
   "file_extension": ".py",
   "mimetype": "text/x-python",
   "name": "python",
   "nbconvert_exporter": "python",
   "pygments_lexer": "ipython3",
   "version": "3.9.12"
  }
 },
 "nbformat": 4,
 "nbformat_minor": 5
}
