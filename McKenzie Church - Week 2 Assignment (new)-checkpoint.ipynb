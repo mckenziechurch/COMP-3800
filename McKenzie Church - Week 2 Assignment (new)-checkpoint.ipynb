{
 "cells": [
  {
   "cell_type": "markdown",
   "id": "8137df78",
   "metadata": {},
   "source": [
    "#### 1 Define a list of fruit names and sort it."
   ]
  },
  {
   "cell_type": "code",
   "execution_count": 9,
   "id": "e78f930d",
   "metadata": {},
   "outputs": [
    {
     "data": {
      "text/plain": [
       "['apple', 'grape', 'kiwi', 'orange']"
      ]
     },
     "execution_count": 9,
     "metadata": {},
     "output_type": "execute_result"
    }
   ],
   "source": [
    "fruits = [\"grape\", \"orange\", \"kiwi\", \"apple\"]\n",
    "fruits.sort()\n",
    "fruits"
   ]
  },
  {
   "cell_type": "markdown",
   "id": "df416fd2",
   "metadata": {},
   "source": [
    "#### 2 Define a dictionary with cities as keys and zip codes as the values. Print the zip code for city Carrollton."
   ]
  },
  {
   "cell_type": "code",
   "execution_count": 10,
   "id": "c40f65a7",
   "metadata": {},
   "outputs": [
    {
     "name": "stdout",
     "output_type": "stream",
     "text": [
      "30117\n"
     ]
    }
   ],
   "source": [
    "cities = {'Atlanta':30311, 'Carrollton':30117, 'Mableton':30126, 'Bremen':30108}\n",
    "print(cities['Carrollton'])"
   ]
  },
  {
   "cell_type": "markdown",
   "id": "73eb4a83",
   "metadata": {},
   "source": [
    "#### 3 Write if-else statements to suggest house price depending on the size of the house. For example, if the house is under 1000 square feet, the price is 100,000. if the house is between 1000 square feet and 1500 square feet, the price is 150,000. If the house is over 3000 square feet, the price is 400,000."
   ]
  },
  {
   "cell_type": "code",
   "execution_count": 22,
   "id": "681d066a",
   "metadata": {},
   "outputs": [],
   "source": [
    "def calculateHousePrice(houseSize):\n",
    "    if houseSize < 1000:\n",
    "        housePrice = 100000\n",
    "    elif 1000 < houseSize < 1500:\n",
    "        housePrice = 150000\n",
    "    elif houseSize > 3000:\n",
    "        housePrice = 400000\n",
    "    else:\n",
    "        housePrice = 0\n",
    "        print(\"Your house price is not currently specified.\")\n",
    "    message = \"Your house price is: \" + str(housePrice)\n",
    "    return message"
   ]
  },
  {
   "cell_type": "markdown",
   "id": "6e8cf310",
   "metadata": {},
   "source": [
    "##### Test Lower Bound: \n",
    "**a.** houseSize == 0\n",
    "**b.** houseSize == 1000\n",
    "**c.** houseSize > 1000"
   ]
  },
  {
   "cell_type": "code",
   "execution_count": 49,
   "id": "a11e36c0",
   "metadata": {},
   "outputs": [
    {
     "name": "stdout",
     "output_type": "stream",
     "text": [
      "a. Your house price is: 100000\n",
      "Your house price is not currently specified.\n",
      "b. Your house price is: 0\n",
      "c. Your house price is: 150000\n"
     ]
    }
   ],
   "source": [
    "#a\n",
    "a = calculateHousePrice(0)\n",
    "print(\"a. \" + a)\n",
    "\n",
    "#b\n",
    "b = calculateHousePrice(1000)\n",
    "print(\"b. \" + b)\n",
    "\n",
    "#c\n",
    "c = calculateHousePrice(1001)\n",
    "print(\"c. \" + c)"
   ]
  },
  {
   "cell_type": "markdown",
   "id": "6fd7314c",
   "metadata": {},
   "source": [
    "##### Test Middle Bounds: \n",
    "**a.** houseSize == 1500\n",
    "**b.** houseSize < 1500\n",
    "**c.** houseSize > 1500, Boundary"
   ]
  },
  {
   "cell_type": "code",
   "execution_count": 50,
   "id": "a83d677a",
   "metadata": {},
   "outputs": [
    {
     "name": "stdout",
     "output_type": "stream",
     "text": [
      "Your house price is not currently specified.\n",
      "a. Your house price is: 0\n",
      "b. Your house price is: 150000\n",
      "Your house price is not currently specified.\n",
      "c. Your house price is: 0\n"
     ]
    }
   ],
   "source": [
    "#a\n",
    "a = calculateHousePrice(1500)\n",
    "print(\"a. \" + a)\n",
    "\n",
    "#b\n",
    "b = calculateHousePrice(1499)\n",
    "print(\"b. \" + b)\n",
    "\n",
    "#c\n",
    "c = calculateHousePrice(1501)\n",
    "print(\"c. \" + c)"
   ]
  },
  {
   "cell_type": "markdown",
   "id": "7837071d",
   "metadata": {},
   "source": [
    "##### Test Upper Bound: \n",
    "**a.** houseSize == 3000\n",
    "**b.** houseSize < 3000\n",
    "**c.** houseSize > 3000"
   ]
  },
  {
   "cell_type": "code",
   "execution_count": 51,
   "id": "c1ad3312",
   "metadata": {},
   "outputs": [
    {
     "name": "stdout",
     "output_type": "stream",
     "text": [
      "Your house price is not currently specified.\n",
      "a. Your house price is: 0\n",
      "Your house price is not currently specified.\n",
      "b. Your house price is: 0\n",
      "c. Your house price is: 400000\n"
     ]
    }
   ],
   "source": [
    "#a\n",
    "a = calculateHousePrice(3000)\n",
    "print(\"a. \" + a)\n",
    "\n",
    "#b\n",
    "b = calculateHousePrice(2999)\n",
    "print(\"b. \" + b)\n",
    "\n",
    "#c\n",
    "c = calculateHousePrice(3001)\n",
    "print(\"c. \" + c)"
   ]
  },
  {
   "cell_type": "markdown",
   "id": "f21654b9",
   "metadata": {},
   "source": [
    "#### 4 Write a loop statement to print out multiples of 3 up to 40."
   ]
  },
  {
   "cell_type": "code",
   "execution_count": 35,
   "id": "ad544de1",
   "metadata": {},
   "outputs": [
    {
     "name": "stdout",
     "output_type": "stream",
     "text": [
      "3\n",
      "6\n",
      "9\n",
      "12\n",
      "15\n",
      "18\n",
      "21\n",
      "24\n",
      "27\n",
      "30\n",
      "33\n",
      "36\n",
      "39\n"
     ]
    }
   ],
   "source": [
    "for i in range(3, 41, 3):\n",
    "    print(i)"
   ]
  },
  {
   "cell_type": "markdown",
   "id": "2050d847",
   "metadata": {},
   "source": [
    "#### 5 Write a function to calculate x^n, 0<n<8, x>0. Use this function to find 9 to the power 6, 9^6. You can use either a non-recursive function or a recursive function"
   ]
  },
  {
   "cell_type": "code",
   "execution_count": 41,
   "id": "321cfc13",
   "metadata": {},
   "outputs": [],
   "source": [
    "def calculatePower(x, y):\n",
    "    x = int(input(\"Enter preferred base integer between 0 and 8: \"))\n",
    "    y = int(input(\"Enter preferred power integer: \"))\n",
    "    if 0 < y < 8 and x > 0:\n",
    "        solution = x**y\n",
    "        print(\"Your solution is \" + str(solution))\n",
    "    elif y < 0 or y > 8 or x < 0:\n",
    "        print(\"Your integer is not within the designated range.\")\n",
    "        calculatePower(x,y)\n",
    "    else:\n",
    "        print(\"Something must have went wrong somewhere, sorry.\")\n",
    "        calculatePower(x,y)"
   ]
  },
  {
   "cell_type": "markdown",
   "id": "48db336b",
   "metadata": {},
   "source": [
    "##### Test Zeros: \n",
    "**a.** Boundary, x > 0, n == 0\n",
    "**b.** Boundary, x < 0, n > 0\n",
    "**c.** Boundary, x == 0, n < 0"
   ]
  },
  {
   "cell_type": "code",
   "execution_count": 52,
   "id": "44c85624",
   "metadata": {},
   "outputs": [
    {
     "name": "stdout",
     "output_type": "stream",
     "text": [
      "Enter preferred base integer between 0 and 8: 1\n",
      "Enter preferred power integer: 0\n",
      "Something must have went wrong somewhere, sorry.\n",
      "Enter preferred base integer between 0 and 8: -1\n",
      "Enter preferred power integer: 1\n",
      "Your integer is not within the designated range.\n",
      "Enter preferred base integer between 0 and 8: 0\n",
      "Enter preferred power integer: -1\n",
      "Your integer is not within the designated range.\n",
      "Enter preferred base integer between 0 and 8: 9\n",
      "Enter preferred power integer: 6\n",
      "Your solution is 531441\n"
     ]
    }
   ],
   "source": [
    "#a\n",
    "a = calculatePower(x, y)"
   ]
  },
  {
   "cell_type": "markdown",
   "id": "ad0ad554",
   "metadata": {},
   "source": [
    "##### Test Upper Bound: (correct num at end)\n",
    "**a.** x < 0, n == 8\n",
    "**b.** x == 0, n < 8\n",
    "**c.** x > 0, n > 8"
   ]
  },
  {
   "cell_type": "code",
   "execution_count": 53,
   "id": "ff79f4f7",
   "metadata": {},
   "outputs": [
    {
     "name": "stdout",
     "output_type": "stream",
     "text": [
      "Enter preferred base integer between 0 and 8: -1\n",
      "Enter preferred power integer: 8\n",
      "Your integer is not within the designated range.\n",
      "Enter preferred base integer between 0 and 8: 0\n",
      "Enter preferred power integer: 7\n",
      "Something must have went wrong somewhere, sorry.\n",
      "Enter preferred base integer between 0 and 8: 1\n",
      "Enter preferred power integer: 9\n",
      "Your integer is not within the designated range.\n",
      "Enter preferred base integer between 0 and 8: 9\n",
      "Enter preferred power integer: 6\n",
      "Your solution is 531441\n"
     ]
    }
   ],
   "source": [
    "calculatePower(x,y)"
   ]
  },
  {
   "cell_type": "markdown",
   "id": "fa1ed8ef",
   "metadata": {},
   "source": [
    "#### 6 Write a class circle. It has radius as its attribute. It also has two methods, CalculateArea, and CalculateParameter. Create an instance(object) of this class"
   ]
  },
  {
   "cell_type": "code",
   "execution_count": 57,
   "id": "91117a82",
   "metadata": {},
   "outputs": [],
   "source": [
    "import math\n",
    "class Circle:\n",
    "    def __init__(self, radius):\n",
    "        self.radius = radius\n",
    "    def calculateArea(self):\n",
    "        area = math.pi*(self.radius**2)\n",
    "        return area\n",
    "    def calculatePerimeter(self):\n",
    "        perimeter = 2*(math.pi)*self.radius\n",
    "        return perimeter"
   ]
  },
  {
   "cell_type": "markdown",
   "id": "91a48a64",
   "metadata": {},
   "source": [
    "##### Test circle area: "
   ]
  },
  {
   "cell_type": "code",
   "execution_count": 60,
   "id": "fd9be2b9",
   "metadata": {},
   "outputs": [
    {
     "data": {
      "text/plain": [
       "78.53981633974483"
      ]
     },
     "execution_count": 60,
     "metadata": {},
     "output_type": "execute_result"
    }
   ],
   "source": [
    "circle = Circle(5)\n",
    "circle.calculateArea()"
   ]
  },
  {
   "cell_type": "markdown",
   "id": "34769776",
   "metadata": {},
   "source": [
    "##### Test circle perimeter:"
   ]
  },
  {
   "cell_type": "code",
   "execution_count": 61,
   "id": "b0b9002a",
   "metadata": {},
   "outputs": [
    {
     "data": {
      "text/plain": [
       "12.566370614359172"
      ]
     },
     "execution_count": 61,
     "metadata": {},
     "output_type": "execute_result"
    }
   ],
   "source": [
    "circle = Circle(2)\n",
    "circle.calculatePerimeter()"
   ]
  },
  {
   "cell_type": "markdown",
   "id": "70845556",
   "metadata": {},
   "source": [
    "#### 7 Define a dictionary. Write a loop statement to pop up and print an item (both the key and the value) until it is empty. Print “Mission completed” when the task is done."
   ]
  },
  {
   "cell_type": "code",
   "execution_count": 73,
   "id": "39cccea4",
   "metadata": {},
   "outputs": [
    {
     "ename": "TypeError",
     "evalue": "'list' object is not callable",
     "output_type": "error",
     "traceback": [
      "\u001b[1;31m---------------------------------------------------------------------------\u001b[0m",
      "\u001b[1;31mTypeError\u001b[0m                                 Traceback (most recent call last)",
      "Input \u001b[1;32mIn [73]\u001b[0m, in \u001b[0;36m<cell line: 9>\u001b[1;34m()\u001b[0m\n\u001b[0;32m      6\u001b[0m         groceries\u001b[38;5;241m.\u001b[39mpop(x)\n\u001b[0;32m      7\u001b[0m     \u001b[38;5;28mprint\u001b[39m(\u001b[38;5;124m\"\u001b[39m\u001b[38;5;124mMission completed\u001b[39m\u001b[38;5;124m\"\u001b[39m)\n\u001b[1;32m----> 9\u001b[0m \u001b[43mprintAndPop\u001b[49m\u001b[43m(\u001b[49m\u001b[43m)\u001b[49m\n",
      "Input \u001b[1;32mIn [73]\u001b[0m, in \u001b[0;36mprintAndPop\u001b[1;34m()\u001b[0m\n\u001b[0;32m      3\u001b[0m \u001b[38;5;28;01mdef\u001b[39;00m \u001b[38;5;21mprintAndPop\u001b[39m():\n\u001b[1;32m----> 4\u001b[0m     \u001b[38;5;28;01mfor\u001b[39;00m x,y \u001b[38;5;129;01min\u001b[39;00m \u001b[38;5;28;43mlist\u001b[39;49m\u001b[43m(\u001b[49m\u001b[43mgroceries\u001b[49m\u001b[38;5;241;43m.\u001b[39;49m\u001b[43mkeys\u001b[49m\u001b[43m(\u001b[49m\u001b[43m)\u001b[49m\u001b[43m)\u001b[49m:\n\u001b[0;32m      5\u001b[0m         \u001b[38;5;28mprint\u001b[39m(x, y)\n\u001b[0;32m      6\u001b[0m         groceries\u001b[38;5;241m.\u001b[39mpop(x)\n",
      "\u001b[1;31mTypeError\u001b[0m: 'list' object is not callable"
     ]
    }
   ],
   "source": [
    "groceries = {1:\"milk\", 2:\"bread\", 3:\"eggs\", 4:\"juice\"}\n",
    "\n",
    "def printAndPop():\n",
    "    for x,y in list(groceries.keys()):\n",
    "        print(x, y)\n",
    "        groceries.pop(x)\n",
    "    print(\"Mission completed\")\n",
    "    \n",
    "printAndPop()"
   ]
  },
  {
   "cell_type": "markdown",
   "id": "5f539ddf",
   "metadata": {},
   "source": [
    "THIS IS AN INDIVIDUAL ASSIGNMENT. YOU MAY NOT DISCUSS THIS ASSIGNMENT WITH ANYONE WITHIN OR OUTSIDE THE CLASS (except the instructor).\n",
    "- DO not discuss your approaches or your code with colleagues. There are many ways to implement this assignment, and it is extremely easy to spot code that has been inspired by someone else’s code and to identify unauthorized collaborations.\n",
    "- If you choose to utilize something you find online, cite that resource, but DO NOT share that resource with anyone else.\n",
    "By submitting this assignment, you certify that no unauthorized assistance has been received or given in the completion of this work.\n",
    "\n",
    "McKenzie Church"
   ]
  },
  {
   "cell_type": "code",
   "execution_count": null,
   "id": "03f0b7f1",
   "metadata": {},
   "outputs": [],
   "source": []
  }
 ],
 "metadata": {
  "kernelspec": {
   "display_name": "Python 3 (ipykernel)",
   "language": "python",
   "name": "python3"
  },
  "language_info": {
   "codemirror_mode": {
    "name": "ipython",
    "version": 3
   },
   "file_extension": ".py",
   "mimetype": "text/x-python",
   "name": "python",
   "nbconvert_exporter": "python",
   "pygments_lexer": "ipython3",
   "version": "3.10.5"
  }
 },
 "nbformat": 4,
 "nbformat_minor": 5
}
