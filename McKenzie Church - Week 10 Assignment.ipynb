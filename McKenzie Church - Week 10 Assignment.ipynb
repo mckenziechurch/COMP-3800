{
 "cells": [
  {
   "cell_type": "markdown",
   "id": "5f708a87",
   "metadata": {},
   "source": [
    "**1. The black dot is the new instance we are going to predict with K-nearest Neighbour. Using Euclidean Distance, calculate its distances to its 3 nearest neighbors. What is the shape of this dot if k=3? What would be its shapes if k = 5?    10 points**"
   ]
  },
  {
   "cell_type": "code",
   "execution_count": 23,
   "id": "85451d57",
   "metadata": {},
   "outputs": [
    {
     "name": "stdout",
     "output_type": "stream",
     "text": [
      "First Nearest:\n",
      "0.7071067811865476\n",
      "Second Nearest:\n",
      "0.7071067811865476\n",
      "Third Nearest:\n",
      "0.7071067811865476\n"
     ]
    }
   ],
   "source": [
    "import math\n",
    "import numpy as np\n",
    "import pandas as pd\n",
    "# sqrt( (x1-x2)^2 + (y1-y2)^2 )\n",
    "x_true = np.array([[0.5], [1], [2.1], [2.5], [2.5]])\n",
    "y_true = np.array([[1.5], [2], [2.6], [0.5], [2]])\n",
    "x_false = np.array([[1.5], [1.9], [2], [3.1], [3.6]])\n",
    "y_false = np.array([[0.5], [0], [2], [2], [1]])\n",
    "x_y_ukn = np.array([[1], [1]])\n",
    "\n",
    "def distance(x1, x2, y1, y2):\n",
    "    distance = math.sqrt(((x1 - x2)**2) + ((y1 - y2)**2))\n",
    "    return distance\n",
    "\n",
    "# k = 3\n",
    "print(\"First Nearest:\")\n",
    "near_1 = distance(x_true[0], x_y_ukn[0], y_true[0], x_y_ukn[1])\n",
    "print(near_1)\n",
    "\n",
    "print(\"Second Nearest:\")\n",
    "near_2 = distance(x_true[1], x_y_ukn[0], y_true[1], x_y_ukn[1])\n",
    "print(near_1)\n",
    "\n",
    "print(\"Third Nearest:\")\n",
    "near_3 = distance(x_false[0], x_y_ukn[0], y_false[0], x_y_ukn[1])\n",
    "print(near_1)"
   ]
  },
  {
   "cell_type": "markdown",
   "id": "99a55b9c",
   "metadata": {},
   "source": [
    "If k=3, the shape of the dot would be a triangle since out of the k-nearest, most of them are triangles.\n",
    "If k=5, the shape of the dot would be a circle since out of the k-nearest, most of them are circles."
   ]
  },
  {
   "cell_type": "markdown",
   "id": "7f9f79ff",
   "metadata": {},
   "source": [
    "**2. Download the dataset for this assignment at, https://drive.google.com/file/d/1HCvBMHk1Xc1deEFJF3TrT7GOEmAACbUN/view?usp=sharing.  This is the dataset of 100 patients’ records with their diagnostic result. The variable ‘diagnosis_result’ is the target variable, malignant (M) or benign (B). Check the number of null values. Drop the column ‘id’. Replace the target variable with numerical values, 1 for malignant, 0 for benign.  10 points**"
   ]
  },
  {
   "cell_type": "code",
   "execution_count": 24,
   "id": "55f3091d",
   "metadata": {},
   "outputs": [
    {
     "data": {
      "text/html": [
       "<div>\n",
       "<style scoped>\n",
       "    .dataframe tbody tr th:only-of-type {\n",
       "        vertical-align: middle;\n",
       "    }\n",
       "\n",
       "    .dataframe tbody tr th {\n",
       "        vertical-align: top;\n",
       "    }\n",
       "\n",
       "    .dataframe thead th {\n",
       "        text-align: right;\n",
       "    }\n",
       "</style>\n",
       "<table border=\"1\" class=\"dataframe\">\n",
       "  <thead>\n",
       "    <tr style=\"text-align: right;\">\n",
       "      <th></th>\n",
       "      <th>id</th>\n",
       "      <th>radius</th>\n",
       "      <th>texture</th>\n",
       "      <th>perimeter</th>\n",
       "      <th>area</th>\n",
       "      <th>smoothness</th>\n",
       "      <th>compactness</th>\n",
       "      <th>symmetry</th>\n",
       "      <th>fractal_dimension</th>\n",
       "      <th>target_M</th>\n",
       "    </tr>\n",
       "  </thead>\n",
       "  <tbody>\n",
       "    <tr>\n",
       "      <th>0</th>\n",
       "      <td>1</td>\n",
       "      <td>23</td>\n",
       "      <td>12</td>\n",
       "      <td>151</td>\n",
       "      <td>954</td>\n",
       "      <td>0.143</td>\n",
       "      <td>0.278</td>\n",
       "      <td>0.242</td>\n",
       "      <td>0.079</td>\n",
       "      <td>1</td>\n",
       "    </tr>\n",
       "    <tr>\n",
       "      <th>1</th>\n",
       "      <td>2</td>\n",
       "      <td>9</td>\n",
       "      <td>13</td>\n",
       "      <td>133</td>\n",
       "      <td>1326</td>\n",
       "      <td>0.143</td>\n",
       "      <td>0.079</td>\n",
       "      <td>0.181</td>\n",
       "      <td>0.057</td>\n",
       "      <td>0</td>\n",
       "    </tr>\n",
       "    <tr>\n",
       "      <th>2</th>\n",
       "      <td>3</td>\n",
       "      <td>21</td>\n",
       "      <td>27</td>\n",
       "      <td>130</td>\n",
       "      <td>1203</td>\n",
       "      <td>0.125</td>\n",
       "      <td>0.160</td>\n",
       "      <td>0.207</td>\n",
       "      <td>0.060</td>\n",
       "      <td>1</td>\n",
       "    </tr>\n",
       "    <tr>\n",
       "      <th>3</th>\n",
       "      <td>4</td>\n",
       "      <td>14</td>\n",
       "      <td>16</td>\n",
       "      <td>78</td>\n",
       "      <td>386</td>\n",
       "      <td>0.070</td>\n",
       "      <td>0.284</td>\n",
       "      <td>0.260</td>\n",
       "      <td>0.097</td>\n",
       "      <td>1</td>\n",
       "    </tr>\n",
       "    <tr>\n",
       "      <th>4</th>\n",
       "      <td>5</td>\n",
       "      <td>9</td>\n",
       "      <td>19</td>\n",
       "      <td>135</td>\n",
       "      <td>1297</td>\n",
       "      <td>0.141</td>\n",
       "      <td>0.133</td>\n",
       "      <td>0.181</td>\n",
       "      <td>0.059</td>\n",
       "      <td>1</td>\n",
       "    </tr>\n",
       "  </tbody>\n",
       "</table>\n",
       "</div>"
      ],
      "text/plain": [
       "   id  radius  texture  perimeter  area  smoothness  compactness  symmetry  \\\n",
       "0   1      23       12        151   954       0.143        0.278     0.242   \n",
       "1   2       9       13        133  1326       0.143        0.079     0.181   \n",
       "2   3      21       27        130  1203       0.125        0.160     0.207   \n",
       "3   4      14       16         78   386       0.070        0.284     0.260   \n",
       "4   5       9       19        135  1297       0.141        0.133     0.181   \n",
       "\n",
       "   fractal_dimension  target_M  \n",
       "0              0.079         1  \n",
       "1              0.057         0  \n",
       "2              0.060         1  \n",
       "3              0.097         1  \n",
       "4              0.059         1  "
      ]
     },
     "execution_count": 24,
     "metadata": {},
     "output_type": "execute_result"
    }
   ],
   "source": [
    "df = pd.read_csv('Prostate_Cancer.csv')\n",
    "df = df.rename(columns={'diagnosis_result': 'target'})\n",
    "df_new = pd.get_dummies(df, columns=['target'], drop_first=True)\n",
    "df_new.head(5)"
   ]
  },
  {
   "cell_type": "code",
   "execution_count": 25,
   "id": "83f5f359",
   "metadata": {},
   "outputs": [
    {
     "data": {
      "text/plain": [
       "['radius',\n",
       " 'texture',\n",
       " 'perimeter',\n",
       " 'area',\n",
       " 'smoothness',\n",
       " 'compactness',\n",
       " 'symmetry',\n",
       " 'fractal_dimension',\n",
       " 'target_M']"
      ]
     },
     "execution_count": 25,
     "metadata": {},
     "output_type": "execute_result"
    }
   ],
   "source": [
    "new_df = df_new.drop('id', axis=1)\n",
    "new_df.columns.tolist()"
   ]
  },
  {
   "cell_type": "markdown",
   "id": "bf0e88af",
   "metadata": {},
   "source": [
    "**3. Use boxplot and ANOVA test to check the relationship between the features and the target variable. Drop the columns that show no significant difference between the group ‘M’ and group ‘B’.  10 points**"
   ]
  },
  {
   "cell_type": "code",
   "execution_count": 26,
   "id": "d37709f0",
   "metadata": {
    "scrolled": false
   },
   "outputs": [
    {
     "data": {
      "image/png": "[encoded data removed]",
      "text/plain": [
       "<Figure size 1080x1584 with 8 Axes>"
      ]
     },
     "metadata": {
      "needs_background": "light"
     },
     "output_type": "display_data"
    }
   ],
   "source": [
    "import seaborn as sns\n",
    "import matplotlib.pyplot as plt\n",
    "cols = ['radius', 'texture', 'perimeter', 'area', 'smoothness', 'compactness', 'symmetry', 'fractal_dimension']\n",
    "fig=plt.figure(figsize=(15, 22))\n",
    "\n",
    "for i in range(len(cols)):\n",
    "    column=cols[i]\n",
    "    sub=fig.add_subplot(6, 3, i+1)\n",
    "    sns.boxplot(x='target_M',y=column, data=new_df)"
   ]
  },
  {
   "cell_type": "code",
   "execution_count": 27,
   "id": "fae4e141",
   "metadata": {
    "scrolled": true
   },
   "outputs": [
    {
     "name": "stdout",
     "output_type": "stream",
     "text": [
      "[ 3.16831102  0.49280187 57.32217182 45.34674542  3.98264084 34.86033569\n",
      "  5.62717089  0.0065575 ]\n",
      "[0.07817949 0.48434404 0.         0.         0.04874705 0.00000005\n",
      " 0.01963757 0.93562431]\n"
     ]
    }
   ],
   "source": [
    "# ANOVA\n",
    "from sklearn.feature_selection import SelectKBest, f_classif\n",
    "x = new_df.loc[:, cols]\n",
    "y = new_df.loc[:, 'target_M']\n",
    "\n",
    "\n",
    "fs = SelectKBest(score_func=f_classif, k='all')  # call the method\n",
    "FeaturesS = fs.fit(x, y)    # train the model\n",
    "np.set_printoptions(suppress = True)\n",
    "print(FeaturesS.scores_)    # print out the scores \n",
    "print(FeaturesS.pvalues_)"
   ]
  },
  {
   "cell_type": "markdown",
   "id": "8506e69c",
   "metadata": {},
   "source": [
    "**Columns to drop -> affect the target in the same way (reduce dimension of the df)**\n",
    "low F-score and a p-value higher than 0.05\n",
    "- radius\n",
    "- texture\n",
    "- fractal_dimension"
   ]
  },
  {
   "cell_type": "code",
   "execution_count": 28,
   "id": "045fb4ad",
   "metadata": {},
   "outputs": [
    {
     "data": {
      "text/plain": [
       "['perimeter', 'area', 'smoothness', 'compactness', 'symmetry', 'target_M']"
      ]
     },
     "execution_count": 28,
     "metadata": {},
     "output_type": "execute_result"
    }
   ],
   "source": [
    "sig_df = new_df.drop(['texture', 'fractal_dimension', 'radius'], axis=1)\n",
    "sig_df.columns.tolist()"
   ]
  },
  {
   "cell_type": "markdown",
   "id": "ffcc838c",
   "metadata": {},
   "source": [
    "**4. Use correlation analysis to drop the columns that have strong correlation relationship with the others.  10 points**"
   ]
  },
  {
   "cell_type": "code",
   "execution_count": 29,
   "id": "91025bd5",
   "metadata": {
    "scrolled": true
   },
   "outputs": [
    {
     "name": "stdout",
     "output_type": "stream",
     "text": [
      "             perimeter      area  smoothness  compactness  symmetry  target_M\n",
      "perimeter     1.000000  0.976648    0.269442     0.527542  0.195539  0.607498\n",
      "area          0.976648  1.000000    0.208438     0.424950  0.110435  0.562444\n",
      "smoothness    0.269442  0.208438    1.000000     0.465723  0.424203  0.197616\n",
      "compactness   0.527542  0.424950    0.465723     1.000000  0.681123  0.512234\n",
      "symmetry      0.195539  0.110435    0.424203     0.681123  1.000000  0.233028\n",
      "target_M      0.607498  0.562444    0.197616     0.512234  0.233028  1.000000\n"
     ]
    }
   ],
   "source": [
    "print(sig_df.corr())"
   ]
  },
  {
   "cell_type": "markdown",
   "id": "3ba5dffc",
   "metadata": {},
   "source": [
    "Perimeter has the highest correlation to the target and the highest F-score. Area has the highest correlation to perimeter and these variables are algebraically related (using the same numbers, radius, to calculate), therefore their correlation to the target is about the same. We can shrink the dataframe by choosing only one of these variables to keep, rather than both.\n",
    "\n",
    "Since area is less related to the target, let's drop that one."
   ]
  },
  {
   "cell_type": "code",
   "execution_count": 30,
   "id": "5a1e417c",
   "metadata": {},
   "outputs": [
    {
     "data": {
      "text/plain": [
       "['perimeter', 'smoothness', 'compactness', 'symmetry', 'target_M']"
      ]
     },
     "execution_count": 30,
     "metadata": {},
     "output_type": "execute_result"
    }
   ],
   "source": [
    "# drop the area col.\n",
    "correl_df = sig_df.drop('area', axis=1)\n",
    "correl_df.columns.tolist()"
   ]
  },
  {
   "cell_type": "markdown",
   "id": "9b5da848",
   "metadata": {},
   "source": [
    "**5. Explain in your own words why feature scaling is important to the KNN algorithm.  Normalize all the features.  10 points**"
   ]
  },
  {
   "cell_type": "markdown",
   "id": "4e842aca",
   "metadata": {},
   "source": [
    "Feature scaling is important for the KNN algorithm because outliers in the dataset will directly affect the Euclidean distance, which will affect the k-nearest neighbor value, since this algorithm relies on the x-values."
   ]
  },
  {
   "cell_type": "code",
   "execution_count": 31,
   "id": "06a5b149",
   "metadata": {},
   "outputs": [
    {
     "data": {
      "text/plain": [
       "array([[0.825     , 1.        , 0.78175896, 0.63313609],\n",
       "       [0.675     , 1.        , 0.13355049, 0.27218935],\n",
       "       [0.65      , 0.75342466, 0.39739414, 0.4260355 ],\n",
       "       [0.21666667, 0.        , 0.80130293, 0.73964497],\n",
       "       [0.69166667, 0.97260274, 0.30944625, 0.27218935],\n",
       "       [0.25833333, 0.79452055, 0.42996743, 0.43786982],\n",
       "       [0.56666667, 0.34246575, 0.23127036, 0.26035503],\n",
       "       [0.31666667, 0.67123288, 0.41368078, 0.50295858],\n",
       "       [0.3       , 0.78082192, 0.50488599, 0.59171598],\n",
       "       [0.26666667, 0.67123288, 0.65798046, 0.40236686],\n",
       "       [0.425     , 0.16438356, 0.09446254, 0.10650888],\n",
       "       [0.43333333, 0.36986301, 0.29641694, 0.28994083],\n",
       "       [0.66666667, 0.36986301, 0.67752443, 0.62130178],\n",
       "       [0.43333333, 0.19178082, 0.2019544 , 0.29585799],\n",
       "       [0.35      , 0.5890411 , 0.62214984, 0.4260355 ],\n",
       "       [0.375     , 0.60273973, 0.39739414, 0.56213018],\n",
       "       [0.35833333, 0.39726027, 0.11074919, 0.14201183],\n",
       "       [0.46666667, 0.64383562, 0.53420195, 0.47928994],\n",
       "       [0.65      , 0.38356164, 0.21172638, 0.13609467],\n",
       "       [0.29166667, 0.38356164, 0.14006515, 0.31952663],\n",
       "       [0.28333333, 0.52054795, 0.28990228, 0.36686391],\n",
       "       [0.06666667, 0.43835616, 0.08794788, 0.27810651],\n",
       "       [0.425     , 0.50684932, 0.5732899 , 0.69230769],\n",
       "       [0.70833333, 0.32876712, 0.20846906, 0.24852071],\n",
       "       [0.48333333, 0.57534247, 0.35179153, 0.38461538],\n",
       "       [0.53333333, 0.67123288, 0.61889251, 1.        ],\n",
       "       [0.375     , 0.47945205, 0.48534202, 0.53254438],\n",
       "       [0.58333333, 0.32876712, 0.2247557 , 0.20710059],\n",
       "       [0.41666667, 0.52054795, 0.42996743, 0.34319527],\n",
       "       [0.525     , 0.38356164, 0.25407166, 0.23076923],\n",
       "       [0.60833333, 0.49315068, 0.49185668, 0.49112426],\n",
       "       [0.21666667, 0.56164384, 0.3713355 , 0.56213018],\n",
       "       [0.50833333, 0.68493151, 0.36482085, 0.53254438],\n",
       "       [0.63333333, 0.32876712, 0.43648208, 0.29585799],\n",
       "       [0.45833333, 0.46575342, 0.38436482, 0.38461538],\n",
       "       [0.48333333, 0.35616438, 0.31270358, 0.32544379],\n",
       "       [0.35      , 0.38356164, 0.23452769, 0.31952663],\n",
       "       [0.25833333, 0.2739726 , 0.        , 0.07100592],\n",
       "       [0.36666667, 0.32876712, 0.04234528, 0.13017751],\n",
       "       [0.3       , 0.43835616, 0.28664495, 0.21893491],\n",
       "       [0.28333333, 0.16438356, 0.07166124, 0.25443787],\n",
       "       [0.16666667, 0.7260274 , 0.27361564, 0.32544379],\n",
       "       [0.63333333, 0.28767123, 0.58957655, 0.56804734],\n",
       "       [0.29166667, 0.46575342, 0.34527687, 0.36686391],\n",
       "       [0.275     , 0.36986301, 0.21824104, 0.23668639],\n",
       "       [0.6       , 0.54794521, 0.4267101 , 0.33136095],\n",
       "       [0.        , 0.21917808, 0.06840391, 0.24852071],\n",
       "       [0.28333333, 0.63013699, 0.27687296, 0.46153846],\n",
       "       [0.21666667, 0.45205479, 0.17263844, 0.19526627],\n",
       "       [0.29166667, 0.24657534, 0.12703583, 0.27218935],\n",
       "       [0.19166667, 0.21917808, 0.03908795, 0.0887574 ],\n",
       "       [0.29166667, 0.09589041, 0.07491857, 0.        ],\n",
       "       [0.2       , 0.17808219, 0.03257329, 0.30769231],\n",
       "       [0.56666667, 0.61643836, 0.36156352, 0.43786982],\n",
       "       [0.375     , 0.28767123, 0.10749186, 0.15976331],\n",
       "       [0.175     , 0.34246575, 0.05537459, 0.33727811],\n",
       "       [0.61666667, 0.47945205, 0.28990228, 0.33727811],\n",
       "       [0.36666667, 0.60273973, 0.32247557, 0.40236686],\n",
       "       [0.25833333, 0.15068493, 0.        , 0.27810651],\n",
       "       [0.01666667, 0.38356164, 0.04885993, 0.19526627],\n",
       "       [0.10833333, 0.5890411 , 0.14006515, 0.82248521],\n",
       "       [0.025     , 0.73972603, 0.16938111, 0.28402367],\n",
       "       [0.36666667, 0.47945205, 0.53094463, 0.35502959],\n",
       "       [0.05833333, 0.09589041, 0.16286645, 0.58579882],\n",
       "       [0.25833333, 0.57534247, 0.28664495, 0.33136095],\n",
       "       [0.375     , 0.64383562, 0.35830619, 0.35502959],\n",
       "       [0.06666667, 0.46575342, 0.13029316, 0.21893491],\n",
       "       [0.16666667, 0.15068493, 0.02931596, 0.10059172],\n",
       "       [0.05833333, 0.50684932, 0.33550489, 0.44970414],\n",
       "       [0.24166667, 0.38356164, 0.04560261, 0.14201183],\n",
       "       [0.6       , 0.2739726 , 0.21172638, 0.13609467],\n",
       "       [0.05833333, 0.38356164, 0.37459283, 0.32544379],\n",
       "       [0.51666667, 0.50684932, 0.4723127 , 0.34319527],\n",
       "       [0.31666667, 0.42465753, 0.29315961, 0.18343195],\n",
       "       [0.225     , 0.30136986, 0.09771987, 0.21893491],\n",
       "       [0.43333333, 0.30136986, 0.14983713, 0.26627219],\n",
       "       [0.3       , 0.80821918, 0.21824104, 0.62130178],\n",
       "       [0.56666667, 0.50684932, 0.57654723, 0.47337278],\n",
       "       [0.76666667, 0.80821918, 1.        , 0.92307692],\n",
       "       [0.25833333, 0.39726027, 0.18566775, 0.21893491],\n",
       "       [0.18333333, 0.54794521, 0.18241042, 0.28994083],\n",
       "       [0.28333333, 0.52054795, 0.37785016, 0.34911243],\n",
       "       [1.        , 0.49315068, 0.74592834, 0.28402367],\n",
       "       [0.64166667, 0.71232877, 0.45928339, 0.16568047],\n",
       "       [0.20833333, 0.36986301, 0.11074919, 0.43195266],\n",
       "       [0.575     , 0.39726027, 0.21824104, 0.46153846],\n",
       "       [0.35      , 0.32876712, 0.19869707, 0.43195266],\n",
       "       [0.58333333, 0.2739726 , 0.27035831, 0.35502959],\n",
       "       [0.23333333, 0.24657534, 0.18241042, 0.34319527],\n",
       "       [0.36666667, 0.5890411 , 0.31270358, 0.4556213 ],\n",
       "       [0.35833333, 0.2739726 , 0.15635179, 0.20118343],\n",
       "       [0.4       , 0.30136986, 0.21498371, 0.21893491],\n",
       "       [0.275     , 0.05479452, 0.04234528, 0.02366864],\n",
       "       [0.29166667, 0.43835616, 0.14332248, 0.17159763],\n",
       "       [0.4       , 0.46575342, 0.38110749, 0.30177515],\n",
       "       [0.66666667, 0.28767123, 0.3029316 , 0.44378698],\n",
       "       [0.21666667, 0.47945205, 0.10749186, 0.32544379],\n",
       "       [0.08333333, 0.43835616, 0.04885993, 0.        ],\n",
       "       [0.18333333, 0.2739726 , 0.12052117, 0.15976331],\n",
       "       [0.35      , 0.38356164, 0.247557  , 0.31360947]])"
      ]
     },
     "execution_count": 31,
     "metadata": {},
     "output_type": "execute_result"
    }
   ],
   "source": [
    "# identify the features \n",
    "# can get more than two features\n",
    "x_final = correl_df.loc[:, ['perimeter', 'smoothness', 'compactness', 'symmetry']]\n",
    "\n",
    "# import libraries\n",
    "from sklearn.preprocessing import MinMaxScaler\n",
    "\n",
    "# normalize\n",
    "nor_x= MinMaxScaler()    \n",
    "x_scaled= nor_x.fit_transform(x_final) \n",
    "x_scaled"
   ]
  },
  {
   "cell_type": "code",
   "execution_count": 32,
   "id": "140d9f31",
   "metadata": {},
   "outputs": [
    {
     "name": "stdout",
     "output_type": "stream",
     "text": [
      "Min:\n",
      "0.0\n",
      "Max:\n",
      "1.0\n"
     ]
    }
   ],
   "source": [
    "print(\"Min:\")\n",
    "print(x_scaled.min())\n",
    "print(\"Max:\")\n",
    "print(x_scaled.max())"
   ]
  },
  {
   "cell_type": "markdown",
   "id": "c02b13da",
   "metadata": {},
   "source": [
    "**6. Build a K-Nearest Neighbor model with k = 3. Use a 10 folds cross validation to obtain the average accuracy score for a KNN model when k=3.  10 points**"
   ]
  },
  {
   "cell_type": "code",
   "execution_count": 33,
   "id": "730c5af2",
   "metadata": {},
   "outputs": [
    {
     "name": "stdout",
     "output_type": "stream",
     "text": [
      "[0.7 0.8 1.  1.  0.9 0.8 0.7 0.9 0.8 0.9]\n"
     ]
    }
   ],
   "source": [
    "# KNN model - cross val.\n",
    "from sklearn.neighbors import KNeighborsClassifier \n",
    "from sklearn.model_selection import cross_val_score\n",
    "model1 = KNeighborsClassifier(n_neighbors=3)\n",
    "\n",
    "cv_scores = cross_val_score(model1, x_scaled, y, cv=10, scoring='accuracy')\n",
    "print(cv_scores)"
   ]
  },
  {
   "cell_type": "code",
   "execution_count": 34,
   "id": "556c235e",
   "metadata": {},
   "outputs": [
    {
     "name": "stdout",
     "output_type": "stream",
     "text": [
      "0.85\n"
     ]
    }
   ],
   "source": [
    "print(cv_scores.mean())"
   ]
  },
  {
   "cell_type": "markdown",
   "id": "2eafb255",
   "metadata": {},
   "source": [
    "**7.  Set up k values to odd numbers from 1 to 15.  Explain why k shall not be even numbers in this case.  10 points**"
   ]
  },
  {
   "cell_type": "code",
   "execution_count": 35,
   "id": "fb9a6847",
   "metadata": {},
   "outputs": [
    {
     "name": "stdout",
     "output_type": "stream",
     "text": [
      "[1, 3, 5, 7, 9, 11, 13]\n"
     ]
    }
   ],
   "source": [
    "k_values = []\n",
    "for i in range(1, 15):\n",
    "    if i%2 !=0: \n",
    "        k_values.append(i)\n",
    "print(k_values)"
   ]
  },
  {
   "cell_type": "markdown",
   "id": "3e603597",
   "metadata": {},
   "source": [
    "For this instance, an even k is not optimal because we have an even number of variables, in which case choosing the most optimal k could result in a tie for the optimal k. When it is odd, this guarantees that only one k would be the most optimal one, rather than risk of a tie between two."
   ]
  },
  {
   "cell_type": "markdown",
   "id": "83a520a4",
   "metadata": {},
   "source": [
    "**8. Build KNN prediction models with the preset k-values. Use cross validation to obtain the average accuracy scores for the KNN models. Find the optimal k.  20 points**"
   ]
  },
  {
   "cell_type": "code",
   "execution_count": 36,
   "id": "2f4de09b",
   "metadata": {
    "scrolled": true
   },
   "outputs": [
    {
     "name": "stdout",
     "output_type": "stream",
     "text": [
      "      k  accuracy\n",
      "0   1.0      0.77\n",
      "1   3.0      0.85\n",
      "2   5.0      0.85\n",
      "3   7.0      0.83\n",
      "4   9.0      0.85\n",
      "5  11.0      0.86\n",
      "6  13.0      0.85\n"
     ]
    }
   ],
   "source": [
    "k_accuracy_scores = [] \n",
    "\n",
    "for k in k_values:\n",
    "    knn = KNeighborsClassifier(n_neighbors=k)\n",
    "    cv_scores=cross_val_score(knn, x_scaled, y, cv=10, scoring='accuracy')\n",
    "    k_accuracy_scores.append(cv_scores.mean()) \n",
    "\n",
    "# accuracy score for every k value w/ cross validation\n",
    "df_k_scores = pd.DataFrame(data = np.c_[k_values, k_accuracy_scores], columns = ['k', 'accuracy']) \n",
    "\n",
    "print(df_k_scores)"
   ]
  },
  {
   "cell_type": "markdown",
   "id": "6e765849",
   "metadata": {},
   "source": [
    "**Optimal K**\n",
    "- *this is the k w/ the highest accuracy score*?"
   ]
  },
  {
   "cell_type": "markdown",
   "id": "7585f8c8",
   "metadata": {},
   "source": [
    "The optimal k is the k-value that produces the highest accuracy score. In this case, it appears that the highest accuracy score results when the k = 11.0."
   ]
  },
  {
   "cell_type": "markdown",
   "id": "000d95e6",
   "metadata": {},
   "source": [
    "**9. Besides accuracy, there are other metrics to evaluate a classification model, which is especially helpful when the data is imbalanced. Learn about precision, recall, and f1 score with the materials below. Change the scoring option for cross validation to f1. Did the optimal k value change? 10 points**"
   ]
  },
  {
   "cell_type": "code",
   "execution_count": 37,
   "id": "420ec6e3",
   "metadata": {},
   "outputs": [
    {
     "name": "stdout",
     "output_type": "stream",
     "text": [
      "      k        f1\n",
      "0   1.0  0.801724\n",
      "1   3.0  0.888015\n",
      "2   5.0  0.886925\n",
      "3   7.0  0.862639\n",
      "4   9.0  0.881803\n",
      "5  11.0  0.888280\n",
      "6  13.0  0.880705\n"
     ]
    }
   ],
   "source": [
    "# F1 = 2 * (precision * recall) / (precision + recall)\n",
    "from sklearn.metrics import f1_score\n",
    "k_accuracy_scores = [] \n",
    "\n",
    "for k in k_values:\n",
    "    knn = KNeighborsClassifier(n_neighbors=k)\n",
    "    cv_scores=cross_val_score(knn, x_scaled, y, cv=10, scoring='f1')\n",
    "    k_accuracy_scores.append(cv_scores.mean()) \n",
    "\n",
    "# accuracy score for every k value w/ cross validation\n",
    "df_k_scores = pd.DataFrame(data = np.c_[k_values, k_accuracy_scores], columns = ['k', 'f1']) \n",
    "\n",
    "print(df_k_scores)"
   ]
  },
  {
   "cell_type": "markdown",
   "id": "149d8637",
   "metadata": {},
   "source": [
    "The optimal k value for f1 score and accuracy score in cross validation are different. The f1 scores appear to be slightly lower than the accuracy scores. Here, the optimal k appears to be when k=11.0, which is still the same optimal k as the accuracy, but the scores themselves are different."
   ]
  },
  {
   "cell_type": "code",
   "execution_count": null,
   "id": "57477e1c",
   "metadata": {},
   "outputs": [],
   "source": []
  }
 ],
 "metadata": {
  "kernelspec": {
   "display_name": "Python 3 (ipykernel)",
   "language": "python",
   "name": "python3"
  },
  "language_info": {
   "codemirror_mode": {
    "name": "ipython",
    "version": 3
   },
   "file_extension": ".py",
   "mimetype": "text/x-python",
   "name": "python",
   "nbconvert_exporter": "python",
   "pygments_lexer": "ipython3",
   "version": "3.9.12"
  }
 },
 "nbformat": 4,
 "nbformat_minor": 5
}
