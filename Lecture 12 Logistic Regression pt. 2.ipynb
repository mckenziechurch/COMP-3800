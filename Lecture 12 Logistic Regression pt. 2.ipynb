{
 "cells": [
  {
   "cell_type": "markdown",
   "id": "d77ea520",
   "metadata": {},
   "source": [
    "### ANOVA F-Test for Selecting Numerical Features\n",
    "- analysis of variance is collection of statistical models and associated estimation procedures used to analyze differences among means\n",
    "- larger F-score = better -> more relevant to target var.\n",
    "- p-value < 0.05 = better -> less statistical difference btwn the groups"
   ]
  },
  {
   "cell_type": "code",
   "execution_count": 1,
   "id": "53d74028",
   "metadata": {
    "scrolled": false
   },
   "outputs": [
    {
     "name": "stdout",
     "output_type": "stream",
     "text": [
      "<class 'pandas.core.frame.DataFrame'>\n",
      "RangeIndex: 294 entries, 0 to 293\n",
      "Data columns (total 14 columns):\n",
      " #   Column    Non-Null Count  Dtype  \n",
      "---  ------    --------------  -----  \n",
      " 0   age       294 non-null    int64  \n",
      " 1   sex       294 non-null    int64  \n",
      " 2   cp        294 non-null    int64  \n",
      " 3   trestbps  293 non-null    float64\n",
      " 4   chol      271 non-null    float64\n",
      " 5   fbs       286 non-null    float64\n",
      " 6   restecg   293 non-null    float64\n",
      " 7   thalach   293 non-null    float64\n",
      " 8   exang     293 non-null    float64\n",
      " 9   oldpeak   294 non-null    float64\n",
      " 10  slope     104 non-null    float64\n",
      " 11  ca        3 non-null      float64\n",
      " 12  thal      28 non-null     float64\n",
      " 13  target    294 non-null    int64  \n",
      "dtypes: float64(10), int64(4)\n",
      "memory usage: 32.3 KB\n"
     ]
    }
   ],
   "source": [
    "from sklearn.feature_selection import SelectKBest, f_classif, chi2\n",
    "import pandas as pd\n",
    "import numpy as np\n",
    "import seaborn as sns\n",
    "import matplotlib.pyplot as plt\n",
    "from sklearn.model_selection import train_test_split\n",
    "from sklearn.linear_model import LogisticRegression\n",
    "from sklearn.metrics import log_loss, roc_auc_score, recall_score, precision_score\n",
    ", average_precision_score, f1_score, classification_report, accuracy_score\n",
    ", plot_roc_curve, plot_precision_recall_curve, plot_confusion_matrix\n",
    "\n",
    "# load and prepare data\n",
    "df = pd.read_csv('data.csv', na_values='?')\n",
    "df = df.rename(columns={'num       ': 'target'})\n",
    "df['target'].value_counts(dropna=False)\n",
    "df.info()"
   ]
  },
  {
   "cell_type": "code",
   "execution_count": 2,
   "id": "eb8ecb3d",
   "metadata": {},
   "outputs": [
    {
     "name": "stdout",
     "output_type": "stream",
     "text": [
      "<class 'pandas.core.frame.DataFrame'>\n",
      "Int64Index: 261 entries, 0 to 293\n",
      "Data columns (total 11 columns):\n",
      " #   Column    Non-Null Count  Dtype  \n",
      "---  ------    --------------  -----  \n",
      " 0   age       261 non-null    int64  \n",
      " 1   sex       261 non-null    int64  \n",
      " 2   cp        261 non-null    int64  \n",
      " 3   trestbps  261 non-null    float64\n",
      " 4   chol      261 non-null    float64\n",
      " 5   fbs       261 non-null    float64\n",
      " 6   restecg   261 non-null    float64\n",
      " 7   thalach   261 non-null    float64\n",
      " 8   exang     261 non-null    float64\n",
      " 9   oldpeak   261 non-null    float64\n",
      " 10  target    261 non-null    int64  \n",
      "dtypes: float64(7), int64(4)\n",
      "memory usage: 24.5 KB\n"
     ]
    }
   ],
   "source": [
    "df = df.drop(['slope', 'ca', 'thal'], axis=1)\n",
    "df = df.dropna().copy()\n",
    "df.info() #recheck"
   ]
  },
  {
   "cell_type": "code",
   "execution_count": 3,
   "id": "f3a08c54",
   "metadata": {},
   "outputs": [
    {
     "name": "stdout",
     "output_type": "stream",
     "text": [
      "F-Score:\n",
      "[  6.82632116   5.8238516   12.91406861  35.0095821  121.87191614]\n",
      "P-value:\n",
      "[0.00950736 0.01650507 0.00039027 0.00000001 0.        ]\n"
     ]
    }
   ],
   "source": [
    "# x = numerical variables\n",
    "x = df.loc[:, ['age', 'trestbps', 'chol', 'thalach', 'oldpeak']]\n",
    "y = df.loc[:, 'target']\n",
    "\n",
    "fs = SelectKBest(score_func=f_classif, k='all')  # call the method\n",
    "bestFeatures = fs.fit(x, y)    # train the model\n",
    "np.set_printoptions(suppress = True)\n",
    "print(\"F-Score:\")\n",
    "print(bestFeatures.scores_)    # print out the scores \n",
    "print(\"P-value:\")\n",
    "print(bestFeatures.pvalues_) # remove numrical variable w/ p-value larger than 0.05"
   ]
  },
  {
   "cell_type": "code",
   "execution_count": 4,
   "id": "b0451936",
   "metadata": {},
   "outputs": [
    {
     "data": {
      "image/png": "[encoded data removed]",
      "text/plain": [
       "<Figure size 1152x576 with 5 Axes>"
      ]
     },
     "metadata": {
      "needs_background": "light"
     },
     "output_type": "display_data"
    }
   ],
   "source": [
    "# Categorical Features vs. Target -  Grouped Bar Chart or Stacked Bar Chart\n",
    "cat_list=['sex','cp', 'fbs', 'restecg','exang']\n",
    "fig=plt.figure(figsize=(16,8))\n",
    "for i in range(len(cat_list)):\n",
    "    column=cat_list[i]\n",
    "    sub=fig.add_subplot(2,3,i+1)\n",
    "    chart=sns.countplot(x=column, hue='target', data=df)"
   ]
  },
  {
   "cell_type": "markdown",
   "id": "ff1acd2d",
   "metadata": {},
   "source": [
    "### Chi-Squared Test for Selecting Categorical Variables\n",
    "- determine whether there is stat. significant difference btwn expected frequencies and observed frequencies in one or more categories\n",
    "- smaller value means not much sig. difference -> lower value = better\n",
    "- determined as a ratio \n",
    "- same standard for p-value as above -> should be smaller than 0.05 (ideal)\n",
    "- larger than 0.05 = less to no significant diff."
   ]
  },
  {
   "cell_type": "code",
   "execution_count": 5,
   "id": "af8b2b6a",
   "metadata": {},
   "outputs": [
    {
     "name": "stdout",
     "output_type": "stream",
     "text": [
      "Chi-squared score:\n",
      "[  4.29633702  20.65657842 214.00321364   7.72294782   0.09613185\n",
      "  55.39491131]\n",
      "P-value:\n",
      "[0.03819455 0.00000549 0.         0.00545233 0.75652189 0.        ]\n"
     ]
    }
   ],
   "source": [
    "# x = categorical variables\n",
    "x = df.loc[:, ['sex', 'cp', 'chol', 'fbs', 'restecg','exang']]\n",
    "y = df.loc[:, 'target']\n",
    "\n",
    "chi = SelectKBest(score_func=chi2, k='all')\n",
    "catFeatures = chi.fit(x, y)\n",
    "print(\"Chi-squared score:\")\n",
    "print(catFeatures.scores_)\n",
    "print(\"P-value:\")\n",
    "print(catFeatures.pvalues_)"
   ]
  },
  {
   "cell_type": "markdown",
   "id": "a454766d",
   "metadata": {},
   "source": [
    "- The chi squared value of 214 represents the variable with the least significant difference, so category 'chol' is very\n",
    "significant to the target\n",
    "- the p-value 0.757 is too large, which means that there is NO SIGNIFICANCE -> we must drop this column! "
   ]
  },
  {
   "cell_type": "code",
   "execution_count": 6,
   "id": "b4ba56a0",
   "metadata": {},
   "outputs": [
    {
     "name": "stdout",
     "output_type": "stream",
     "text": [
      "[0.03819455 0.00000549 0.         0.00545233 0.75652189 0.        ]\n"
     ]
    }
   ],
   "source": [
    "print(catFeatures.pvalues_)"
   ]
  },
  {
   "cell_type": "code",
   "execution_count": 7,
   "id": "d5beae24",
   "metadata": {},
   "outputs": [
    {
     "data": {
      "text/html": [
       "<div>\n",
       "<style scoped>\n",
       "    .dataframe tbody tr th:only-of-type {\n",
       "        vertical-align: middle;\n",
       "    }\n",
       "\n",
       "    .dataframe tbody tr th {\n",
       "        vertical-align: top;\n",
       "    }\n",
       "\n",
       "    .dataframe thead th {\n",
       "        text-align: right;\n",
       "    }\n",
       "</style>\n",
       "<table border=\"1\" class=\"dataframe\">\n",
       "  <thead>\n",
       "    <tr style=\"text-align: right;\">\n",
       "      <th></th>\n",
       "      <th>age</th>\n",
       "      <th>sex</th>\n",
       "      <th>cp</th>\n",
       "      <th>trestbps</th>\n",
       "      <th>chol</th>\n",
       "      <th>fbs</th>\n",
       "      <th>thalach</th>\n",
       "      <th>exang</th>\n",
       "      <th>oldpeak</th>\n",
       "      <th>target</th>\n",
       "    </tr>\n",
       "  </thead>\n",
       "  <tbody>\n",
       "    <tr>\n",
       "      <th>0</th>\n",
       "      <td>28</td>\n",
       "      <td>1</td>\n",
       "      <td>2</td>\n",
       "      <td>130.0</td>\n",
       "      <td>132.0</td>\n",
       "      <td>0.0</td>\n",
       "      <td>185.0</td>\n",
       "      <td>0.0</td>\n",
       "      <td>0.0</td>\n",
       "      <td>0</td>\n",
       "    </tr>\n",
       "    <tr>\n",
       "      <th>1</th>\n",
       "      <td>29</td>\n",
       "      <td>1</td>\n",
       "      <td>2</td>\n",
       "      <td>120.0</td>\n",
       "      <td>243.0</td>\n",
       "      <td>0.0</td>\n",
       "      <td>160.0</td>\n",
       "      <td>0.0</td>\n",
       "      <td>0.0</td>\n",
       "      <td>0</td>\n",
       "    </tr>\n",
       "    <tr>\n",
       "      <th>3</th>\n",
       "      <td>30</td>\n",
       "      <td>0</td>\n",
       "      <td>1</td>\n",
       "      <td>170.0</td>\n",
       "      <td>237.0</td>\n",
       "      <td>0.0</td>\n",
       "      <td>170.0</td>\n",
       "      <td>0.0</td>\n",
       "      <td>0.0</td>\n",
       "      <td>0</td>\n",
       "    </tr>\n",
       "    <tr>\n",
       "      <th>4</th>\n",
       "      <td>31</td>\n",
       "      <td>0</td>\n",
       "      <td>2</td>\n",
       "      <td>100.0</td>\n",
       "      <td>219.0</td>\n",
       "      <td>0.0</td>\n",
       "      <td>150.0</td>\n",
       "      <td>0.0</td>\n",
       "      <td>0.0</td>\n",
       "      <td>0</td>\n",
       "    </tr>\n",
       "    <tr>\n",
       "      <th>5</th>\n",
       "      <td>32</td>\n",
       "      <td>0</td>\n",
       "      <td>2</td>\n",
       "      <td>105.0</td>\n",
       "      <td>198.0</td>\n",
       "      <td>0.0</td>\n",
       "      <td>165.0</td>\n",
       "      <td>0.0</td>\n",
       "      <td>0.0</td>\n",
       "      <td>0</td>\n",
       "    </tr>\n",
       "  </tbody>\n",
       "</table>\n",
       "</div>"
      ],
      "text/plain": [
       "   age  sex  cp  trestbps   chol  fbs  thalach  exang  oldpeak  target\n",
       "0   28    1   2     130.0  132.0  0.0    185.0    0.0      0.0       0\n",
       "1   29    1   2     120.0  243.0  0.0    160.0    0.0      0.0       0\n",
       "3   30    0   1     170.0  237.0  0.0    170.0    0.0      0.0       0\n",
       "4   31    0   2     100.0  219.0  0.0    150.0    0.0      0.0       0\n",
       "5   32    0   2     105.0  198.0  0.0    165.0    0.0      0.0       0"
      ]
     },
     "execution_count": 7,
     "metadata": {},
     "output_type": "execute_result"
    }
   ],
   "source": [
    "df_dropped = df.drop('restecg', axis=1)\n",
    "df_dropped.head(5)"
   ]
  },
  {
   "cell_type": "markdown",
   "id": "a8cecda7",
   "metadata": {},
   "source": [
    "### Dummy Variables\n",
    "- *dummy variable*: numerical variable used in regression analysis to represent subgroups of sample in your study"
   ]
  },
  {
   "cell_type": "code",
   "execution_count": 8,
   "id": "bdc3144a",
   "metadata": {},
   "outputs": [
    {
     "data": {
      "text/html": [
       "<div>\n",
       "<style scoped>\n",
       "    .dataframe tbody tr th:only-of-type {\n",
       "        vertical-align: middle;\n",
       "    }\n",
       "\n",
       "    .dataframe tbody tr th {\n",
       "        vertical-align: top;\n",
       "    }\n",
       "\n",
       "    .dataframe thead th {\n",
       "        text-align: right;\n",
       "    }\n",
       "</style>\n",
       "<table border=\"1\" class=\"dataframe\">\n",
       "  <thead>\n",
       "    <tr style=\"text-align: right;\">\n",
       "      <th></th>\n",
       "      <th>age</th>\n",
       "      <th>trestbps</th>\n",
       "      <th>chol</th>\n",
       "      <th>thalach</th>\n",
       "      <th>oldpeak</th>\n",
       "      <th>target</th>\n",
       "      <th>sex_1</th>\n",
       "      <th>cp_2</th>\n",
       "      <th>cp_3</th>\n",
       "      <th>cp_4</th>\n",
       "      <th>fbs_1.0</th>\n",
       "      <th>exang_1.0</th>\n",
       "    </tr>\n",
       "  </thead>\n",
       "  <tbody>\n",
       "    <tr>\n",
       "      <th>0</th>\n",
       "      <td>28</td>\n",
       "      <td>130.0</td>\n",
       "      <td>132.0</td>\n",
       "      <td>185.0</td>\n",
       "      <td>0.0</td>\n",
       "      <td>0</td>\n",
       "      <td>1</td>\n",
       "      <td>1</td>\n",
       "      <td>0</td>\n",
       "      <td>0</td>\n",
       "      <td>0</td>\n",
       "      <td>0</td>\n",
       "    </tr>\n",
       "    <tr>\n",
       "      <th>1</th>\n",
       "      <td>29</td>\n",
       "      <td>120.0</td>\n",
       "      <td>243.0</td>\n",
       "      <td>160.0</td>\n",
       "      <td>0.0</td>\n",
       "      <td>0</td>\n",
       "      <td>1</td>\n",
       "      <td>1</td>\n",
       "      <td>0</td>\n",
       "      <td>0</td>\n",
       "      <td>0</td>\n",
       "      <td>0</td>\n",
       "    </tr>\n",
       "    <tr>\n",
       "      <th>3</th>\n",
       "      <td>30</td>\n",
       "      <td>170.0</td>\n",
       "      <td>237.0</td>\n",
       "      <td>170.0</td>\n",
       "      <td>0.0</td>\n",
       "      <td>0</td>\n",
       "      <td>0</td>\n",
       "      <td>0</td>\n",
       "      <td>0</td>\n",
       "      <td>0</td>\n",
       "      <td>0</td>\n",
       "      <td>0</td>\n",
       "    </tr>\n",
       "    <tr>\n",
       "      <th>4</th>\n",
       "      <td>31</td>\n",
       "      <td>100.0</td>\n",
       "      <td>219.0</td>\n",
       "      <td>150.0</td>\n",
       "      <td>0.0</td>\n",
       "      <td>0</td>\n",
       "      <td>0</td>\n",
       "      <td>1</td>\n",
       "      <td>0</td>\n",
       "      <td>0</td>\n",
       "      <td>0</td>\n",
       "      <td>0</td>\n",
       "    </tr>\n",
       "    <tr>\n",
       "      <th>5</th>\n",
       "      <td>32</td>\n",
       "      <td>105.0</td>\n",
       "      <td>198.0</td>\n",
       "      <td>165.0</td>\n",
       "      <td>0.0</td>\n",
       "      <td>0</td>\n",
       "      <td>0</td>\n",
       "      <td>1</td>\n",
       "      <td>0</td>\n",
       "      <td>0</td>\n",
       "      <td>0</td>\n",
       "      <td>0</td>\n",
       "    </tr>\n",
       "  </tbody>\n",
       "</table>\n",
       "</div>"
      ],
      "text/plain": [
       "   age  trestbps   chol  thalach  oldpeak  target  sex_1  cp_2  cp_3  cp_4  \\\n",
       "0   28     130.0  132.0    185.0      0.0       0      1     1     0     0   \n",
       "1   29     120.0  243.0    160.0      0.0       0      1     1     0     0   \n",
       "3   30     170.0  237.0    170.0      0.0       0      0     0     0     0   \n",
       "4   31     100.0  219.0    150.0      0.0       0      0     1     0     0   \n",
       "5   32     105.0  198.0    165.0      0.0       0      0     1     0     0   \n",
       "\n",
       "   fbs_1.0  exang_1.0  \n",
       "0        0          0  \n",
       "1        0          0  \n",
       "3        0          0  \n",
       "4        0          0  \n",
       "5        0          0  "
      ]
     },
     "execution_count": 8,
     "metadata": {},
     "output_type": "execute_result"
    }
   ],
   "source": [
    "# transform categorical variables to dummy variables\n",
    "df_withdummies = pd.get_dummies(df_dropped, columns=['sex','cp', 'fbs','exang'], drop_first=True)\n",
    "# drop_first = drop the first option for the category -> in our example, we don't need separate cols for each sex -> we can \n",
    "# merge this col into one\n",
    "# we want to use 1 for female, 0 for male; same case for cp\n",
    "# find a way to reduce number of dummy variable needed\n",
    "df_withdummies.head()"
   ]
  },
  {
   "cell_type": "markdown",
   "id": "840eb228",
   "metadata": {},
   "source": [
    "- w/ the sex, if it is 0 we can assume it must be male since that's the only other choice\n",
    "- can assume all three (2 - 4) cp = 0 means that cp_1 is 1"
   ]
  },
  {
   "cell_type": "markdown",
   "id": "996f93f2",
   "metadata": {},
   "source": [
    "### Split & Balance the Data\n",
    "- *split*: split into test and training data\n",
    "- *balance*: when the target sample is too small (ie, large amount of people had heart attack, small amount DID NOT have\n",
    "heart attack), so we cannot accurately use this data; **balance the testing data**; adding to the testing data (manipulate the data), so we must do this only after splitting\n",
    "- must stratify the target data to ensure that proportion stays the same after splitting"
   ]
  },
  {
   "cell_type": "code",
   "execution_count": 9,
   "id": "47022aea",
   "metadata": {},
   "outputs": [],
   "source": [
    "# split the data\n",
    "x = df_withdummies.loc[:, df_withdummies.columns!='target'] # get dummies that don't match target\n",
    "y = df_withdummies['target']\n",
    "\n",
    "# split the data 80%, 20% ratio for separating testing and training\n",
    "# need stratify when target var is CATEGORICAL -> keep same proportion/ratio of positive and negative cases when separating\n",
    "x_train, x_test, y_train, y_test = train_test_split(x, y, test_size=0.2, random_state=0, stratify=y)  # declare method"
   ]
  },
  {
   "cell_type": "code",
   "execution_count": 10,
   "id": "1e7b6ad0",
   "metadata": {},
   "outputs": [
    {
     "name": "stdout",
     "output_type": "stream",
     "text": [
      "Training Shapes:\n",
      "(208, 11)\n",
      "(208,)\n"
     ]
    }
   ],
   "source": [
    "# must check shape of data -> training data should have same num of rows, test = cols\n",
    "print(\"Training Shapes:\")\n",
    "print(x_train.shape)\n",
    "print(y_train.shape)"
   ]
  },
  {
   "cell_type": "code",
   "execution_count": 11,
   "id": "ed99976f",
   "metadata": {},
   "outputs": [
    {
     "name": "stdout",
     "output_type": "stream",
     "text": [
      "Testing Shapes:\n",
      "(53, 11)\n",
      "(53,)\n"
     ]
    }
   ],
   "source": [
    "print(\"Testing Shapes:\")\n",
    "print(x_test.shape)\n",
    "print(y_test.shape)"
   ]
  },
  {
   "cell_type": "code",
   "execution_count": 15,
   "id": "b8e4281b",
   "metadata": {},
   "outputs": [],
   "source": [
    "# balance the training data\n",
    "from imblearn.over_sampling import SMOTE\n",
    "\n",
    "os = SMOTE(random_state=0)  # call the method\n",
    "\n",
    "oversampled_x,oversampled_y=os.fit_resample(x_train, y_train)"
   ]
  },
  {
   "cell_type": "code",
   "execution_count": 16,
   "id": "70703d70",
   "metadata": {},
   "outputs": [
    {
     "name": "stdout",
     "output_type": "stream",
     "text": [
      "Training shape:\n",
      "(208, 11)\n",
      "Oversample shape:\n",
      "(260, 11)\n"
     ]
    }
   ],
   "source": [
    "print(\"Training shape:\")\n",
    "print(x_train.shape)\n",
    "print(\"Oversample shape:\")\n",
    "print(oversampled_x.shape)"
   ]
  },
  {
   "cell_type": "code",
   "execution_count": 18,
   "id": "a8c0c4c0",
   "metadata": {},
   "outputs": [
    {
     "data": {
      "text/html": [
       "<style>#sk-container-id-1 {color: black;background-color: white;}#sk-container-id-1 pre{padding: 0;}#sk-container-id-1 div.sk-toggleable {background-color: white;}#sk-container-id-1 label.sk-toggleable__label {cursor: pointer;display: block;width: 100%;margin-bottom: 0;padding: 0.3em;box-sizing: border-box;text-align: center;}#sk-container-id-1 label.sk-toggleable__label-arrow:before {content: \"▸\";float: left;margin-right: 0.25em;color: #696969;}#sk-container-id-1 label.sk-toggleable__label-arrow:hover:before {color: black;}#sk-container-id-1 div.sk-estimator:hover label.sk-toggleable__label-arrow:before {color: black;}#sk-container-id-1 div.sk-toggleable__content {max-height: 0;max-width: 0;overflow: hidden;text-align: left;background-color: #f0f8ff;}#sk-container-id-1 div.sk-toggleable__content pre {margin: 0.2em;color: black;border-radius: 0.25em;background-color: #f0f8ff;}#sk-container-id-1 input.sk-toggleable__control:checked~div.sk-toggleable__content {max-height: 200px;max-width: 100%;overflow: auto;}#sk-container-id-1 input.sk-toggleable__control:checked~label.sk-toggleable__label-arrow:before {content: \"▾\";}#sk-container-id-1 div.sk-estimator input.sk-toggleable__control:checked~label.sk-toggleable__label {background-color: #d4ebff;}#sk-container-id-1 div.sk-label input.sk-toggleable__control:checked~label.sk-toggleable__label {background-color: #d4ebff;}#sk-container-id-1 input.sk-hidden--visually {border: 0;clip: rect(1px 1px 1px 1px);clip: rect(1px, 1px, 1px, 1px);height: 1px;margin: -1px;overflow: hidden;padding: 0;position: absolute;width: 1px;}#sk-container-id-1 div.sk-estimator {font-family: monospace;background-color: #f0f8ff;border: 1px dotted black;border-radius: 0.25em;box-sizing: border-box;margin-bottom: 0.5em;}#sk-container-id-1 div.sk-estimator:hover {background-color: #d4ebff;}#sk-container-id-1 div.sk-parallel-item::after {content: \"\";width: 100%;border-bottom: 1px solid gray;flex-grow: 1;}#sk-container-id-1 div.sk-label:hover label.sk-toggleable__label {background-color: #d4ebff;}#sk-container-id-1 div.sk-serial::before {content: \"\";position: absolute;border-left: 1px solid gray;box-sizing: border-box;top: 0;bottom: 0;left: 50%;z-index: 0;}#sk-container-id-1 div.sk-serial {display: flex;flex-direction: column;align-items: center;background-color: white;padding-right: 0.2em;padding-left: 0.2em;position: relative;}#sk-container-id-1 div.sk-item {position: relative;z-index: 1;}#sk-container-id-1 div.sk-parallel {display: flex;align-items: stretch;justify-content: center;background-color: white;position: relative;}#sk-container-id-1 div.sk-item::before, #sk-container-id-1 div.sk-parallel-item::before {content: \"\";position: absolute;border-left: 1px solid gray;box-sizing: border-box;top: 0;bottom: 0;left: 50%;z-index: -1;}#sk-container-id-1 div.sk-parallel-item {display: flex;flex-direction: column;z-index: 1;position: relative;background-color: white;}#sk-container-id-1 div.sk-parallel-item:first-child::after {align-self: flex-end;width: 50%;}#sk-container-id-1 div.sk-parallel-item:last-child::after {align-self: flex-start;width: 50%;}#sk-container-id-1 div.sk-parallel-item:only-child::after {width: 0;}#sk-container-id-1 div.sk-dashed-wrapped {border: 1px dashed gray;margin: 0 0.4em 0.5em 0.4em;box-sizing: border-box;padding-bottom: 0.4em;background-color: white;}#sk-container-id-1 div.sk-label label {font-family: monospace;font-weight: bold;display: inline-block;line-height: 1.2em;}#sk-container-id-1 div.sk-label-container {text-align: center;}#sk-container-id-1 div.sk-container {/* jupyter's `normalize.less` sets `[hidden] { display: none; }` but bootstrap.min.css set `[hidden] { display: none !important; }` so we also need the `!important` here to be able to override the default hidden behavior on the sphinx rendered scikit-learn.org. See: https://github.com/scikit-learn/scikit-learn/issues/21755 */display: inline-block !important;position: relative;}#sk-container-id-1 div.sk-text-repr-fallback {display: none;}</style><div id=\"sk-container-id-1\" class=\"sk-top-container\"><div class=\"sk-text-repr-fallback\"><pre>LogisticRegression(max_iter=2000, penalty=&#x27;none&#x27;)</pre><b>In a Jupyter environment, please rerun this cell to show the HTML representation or trust the notebook. <br />On GitHub, the HTML representation is unable to render, please try loading this page with nbviewer.org.</b></div><div class=\"sk-container\" hidden><div class=\"sk-item\"><div class=\"sk-estimator sk-toggleable\"><input class=\"sk-toggleable__control sk-hidden--visually\" id=\"sk-estimator-id-1\" type=\"checkbox\" checked><label for=\"sk-estimator-id-1\" class=\"sk-toggleable__label sk-toggleable__label-arrow\">LogisticRegression</label><div class=\"sk-toggleable__content\"><pre>LogisticRegression(max_iter=2000, penalty=&#x27;none&#x27;)</pre></div></div></div></div></div>"
      ],
      "text/plain": [
       "LogisticRegression(max_iter=2000, penalty='none')"
      ]
     },
     "execution_count": 18,
     "metadata": {},
     "output_type": "execute_result"
    }
   ],
   "source": [
    "# build prediction model\n",
    "LogRegression = LogisticRegression(penalty='none', max_iter=2000)\n",
    "LogRegression.fit(oversampled_x, oversampled_y.values.ravel())\n",
    "\n",
    "# By default, max_iter =100, and you do not have to set this parameter.\n",
    "# However, if it reports an error 'ConvergenceWarning: lbfgs failed to converge (status = 1)', \n",
    "# set up max_iter to a higher value. "
   ]
  },
  {
   "cell_type": "code",
   "execution_count": 21,
   "id": "d7e9e91f",
   "metadata": {},
   "outputs": [],
   "source": [
    "# predict the test data\n",
    "test_pred = LogRegression.predict(x_test)"
   ]
  },
  {
   "cell_type": "code",
   "execution_count": 24,
   "id": "b890ef12",
   "metadata": {},
   "outputs": [
    {
     "ename": "NameError",
     "evalue": "name 'accuracy_score' is not defined",
     "output_type": "error",
     "traceback": [
      "\u001b[1;31m---------------------------------------------------------------------------\u001b[0m",
      "\u001b[1;31mNameError\u001b[0m                                 Traceback (most recent call last)",
      "Input \u001b[1;32mIn [24]\u001b[0m, in \u001b[0;36m<cell line: 3>\u001b[1;34m()\u001b[0m\n\u001b[0;32m      1\u001b[0m \u001b[38;5;66;03m# Accuracy score - evaluate the model\u001b[39;00m\n\u001b[0;32m      2\u001b[0m \u001b[38;5;28;01mfrom\u001b[39;00m \u001b[38;5;21;01msklearn\u001b[39;00m \u001b[38;5;28;01mimport\u001b[39;00m metrics\n\u001b[1;32m----> 3\u001b[0m \u001b[43maccuracy_score\u001b[49m(y_test, test_pred)\n",
      "\u001b[1;31mNameError\u001b[0m: name 'accuracy_score' is not defined"
     ]
    }
   ],
   "source": [
    "# Accuracy score - evaluate the model\n",
    "accuracy_score(y_test, test_pred)"
   ]
  },
  {
   "cell_type": "code",
   "execution_count": 25,
   "id": "568f126f",
   "metadata": {},
   "outputs": [
    {
     "data": {
      "text/plain": [
       "<sklearn.metrics._plot.confusion_matrix.ConfusionMatrixDisplay at 0x1e2532481c0>"
      ]
     },
     "execution_count": 25,
     "metadata": {},
     "output_type": "execute_result"
    },
    {
     "data": {
      "image/png": "[encoded data removed]",
      "text/plain": [
       "<Figure size 432x288 with 2 Axes>"
      ]
     },
     "metadata": {
      "needs_background": "light"
     },
     "output_type": "display_data"
    }
   ],
   "source": [
    "# view the model\n",
    "from sklearn.metrics import ConfusionMatrixDisplay\n",
    "ConfusionMatrixDisplay.from_estimator(LogRegression, x_test, y_test)\n",
    "\n",
    "# x = predicted num, y = test num\n",
    "# if they are the same, then it is accurate"
   ]
  },
  {
   "cell_type": "code",
   "execution_count": 26,
   "id": "e22083fe",
   "metadata": {},
   "outputs": [
    {
     "name": "stdout",
     "output_type": "stream",
     "text": [
      "[-0.18455711]\n"
     ]
    },
    {
     "data": {
      "text/html": [
       "<div>\n",
       "<style scoped>\n",
       "    .dataframe tbody tr th:only-of-type {\n",
       "        vertical-align: middle;\n",
       "    }\n",
       "\n",
       "    .dataframe tbody tr th {\n",
       "        vertical-align: top;\n",
       "    }\n",
       "\n",
       "    .dataframe thead th {\n",
       "        text-align: right;\n",
       "    }\n",
       "</style>\n",
       "<table border=\"1\" class=\"dataframe\">\n",
       "  <thead>\n",
       "    <tr style=\"text-align: right;\">\n",
       "      <th></th>\n",
       "      <th>variable</th>\n",
       "      <th>coefficient</th>\n",
       "    </tr>\n",
       "  </thead>\n",
       "  <tbody>\n",
       "    <tr>\n",
       "      <th>0</th>\n",
       "      <td>age</td>\n",
       "      <td>0.003810</td>\n",
       "    </tr>\n",
       "    <tr>\n",
       "      <th>1</th>\n",
       "      <td>trestbps</td>\n",
       "      <td>-0.009390</td>\n",
       "    </tr>\n",
       "    <tr>\n",
       "      <th>2</th>\n",
       "      <td>chol</td>\n",
       "      <td>0.005442</td>\n",
       "    </tr>\n",
       "    <tr>\n",
       "      <th>3</th>\n",
       "      <td>thalach</td>\n",
       "      <td>-0.005955</td>\n",
       "    </tr>\n",
       "    <tr>\n",
       "      <th>4</th>\n",
       "      <td>oldpeak</td>\n",
       "      <td>1.746136</td>\n",
       "    </tr>\n",
       "    <tr>\n",
       "      <th>5</th>\n",
       "      <td>sex_1</td>\n",
       "      <td>1.542631</td>\n",
       "    </tr>\n",
       "    <tr>\n",
       "      <th>6</th>\n",
       "      <td>cp_2</td>\n",
       "      <td>-3.697050</td>\n",
       "    </tr>\n",
       "    <tr>\n",
       "      <th>7</th>\n",
       "      <td>cp_3</td>\n",
       "      <td>-2.146769</td>\n",
       "    </tr>\n",
       "    <tr>\n",
       "      <th>8</th>\n",
       "      <td>cp_4</td>\n",
       "      <td>-1.011550</td>\n",
       "    </tr>\n",
       "    <tr>\n",
       "      <th>9</th>\n",
       "      <td>fbs_1.0</td>\n",
       "      <td>2.217911</td>\n",
       "    </tr>\n",
       "    <tr>\n",
       "      <th>10</th>\n",
       "      <td>exang_1.0</td>\n",
       "      <td>0.299354</td>\n",
       "    </tr>\n",
       "  </tbody>\n",
       "</table>\n",
       "</div>"
      ],
      "text/plain": [
       "     variable  coefficient\n",
       "0         age     0.003810\n",
       "1    trestbps    -0.009390\n",
       "2        chol     0.005442\n",
       "3     thalach    -0.005955\n",
       "4     oldpeak     1.746136\n",
       "5       sex_1     1.542631\n",
       "6        cp_2    -3.697050\n",
       "7        cp_3    -2.146769\n",
       "8        cp_4    -1.011550\n",
       "9     fbs_1.0     2.217911\n",
       "10  exang_1.0     0.299354"
      ]
     },
     "execution_count": 26,
     "metadata": {},
     "output_type": "execute_result"
    }
   ],
   "source": [
    "# get intercepts and coef.\n",
    "print(LogRegression.intercept_)\n",
    "pd.DataFrame(data={'variable': x_train.columns, 'coefficient': LogRegression.coef_[0]})"
   ]
  },
  {
   "cell_type": "code",
   "execution_count": null,
   "id": "0c47d8fc",
   "metadata": {},
   "outputs": [],
   "source": []
  }
 ],
 "metadata": {
  "kernelspec": {
   "display_name": "Python 3 (ipykernel)",
   "language": "python",
   "name": "python3"
  },
  "language_info": {
   "codemirror_mode": {
    "name": "ipython",
    "version": 3
   },
   "file_extension": ".py",
   "mimetype": "text/x-python",
   "name": "python",
   "nbconvert_exporter": "python",
   "pygments_lexer": "ipython3",
   "version": "3.9.12"
  }
 },
 "nbformat": 4,
 "nbformat_minor": 5
}
