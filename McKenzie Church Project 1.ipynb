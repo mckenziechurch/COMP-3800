{
 "cells": [
  {
   "cell_type": "code",
   "execution_count": 76,
   "id": "e768dc95",
   "metadata": {},
   "outputs": [
    {
     "data": {
      "text/plain": [
       "(156, 9)"
      ]
     },
     "execution_count": 76,
     "metadata": {},
     "output_type": "execute_result"
    }
   ],
   "source": [
    "import numpy as np\n",
    "import pandas as pd \n",
    "from matplotlib import pyplot as plt\n",
    "df = pd.read_csv('2019.csv')\n",
    "df.shape"
   ]
  },
  {
   "cell_type": "code",
   "execution_count": 77,
   "id": "8b803ce4",
   "metadata": {},
   "outputs": [
    {
     "data": {
      "text/html": [
       "<div>\n",
       "<style scoped>\n",
       "    .dataframe tbody tr th:only-of-type {\n",
       "        vertical-align: middle;\n",
       "    }\n",
       "\n",
       "    .dataframe tbody tr th {\n",
       "        vertical-align: top;\n",
       "    }\n",
       "\n",
       "    .dataframe thead th {\n",
       "        text-align: right;\n",
       "    }\n",
       "</style>\n",
       "<table border=\"1\" class=\"dataframe\">\n",
       "  <thead>\n",
       "    <tr style=\"text-align: right;\">\n",
       "      <th></th>\n",
       "      <th>Overall rank</th>\n",
       "      <th>Country or region</th>\n",
       "      <th>Score</th>\n",
       "      <th>GDP per capita</th>\n",
       "      <th>Social support</th>\n",
       "      <th>Healthy life expectancy</th>\n",
       "      <th>Freedom to make life choices</th>\n",
       "      <th>Generosity</th>\n",
       "      <th>Perceptions of corruption</th>\n",
       "    </tr>\n",
       "  </thead>\n",
       "  <tbody>\n",
       "    <tr>\n",
       "      <th>0</th>\n",
       "      <td>1</td>\n",
       "      <td>Finland</td>\n",
       "      <td>7.769</td>\n",
       "      <td>1.340</td>\n",
       "      <td>1.587</td>\n",
       "      <td>0.986</td>\n",
       "      <td>0.596</td>\n",
       "      <td>0.153</td>\n",
       "      <td>0.393</td>\n",
       "    </tr>\n",
       "    <tr>\n",
       "      <th>1</th>\n",
       "      <td>2</td>\n",
       "      <td>Denmark</td>\n",
       "      <td>7.600</td>\n",
       "      <td>1.383</td>\n",
       "      <td>1.573</td>\n",
       "      <td>0.996</td>\n",
       "      <td>0.592</td>\n",
       "      <td>0.252</td>\n",
       "      <td>0.410</td>\n",
       "    </tr>\n",
       "    <tr>\n",
       "      <th>2</th>\n",
       "      <td>3</td>\n",
       "      <td>Norway</td>\n",
       "      <td>7.554</td>\n",
       "      <td>1.488</td>\n",
       "      <td>1.582</td>\n",
       "      <td>1.028</td>\n",
       "      <td>0.603</td>\n",
       "      <td>0.271</td>\n",
       "      <td>0.341</td>\n",
       "    </tr>\n",
       "    <tr>\n",
       "      <th>3</th>\n",
       "      <td>4</td>\n",
       "      <td>Iceland</td>\n",
       "      <td>7.494</td>\n",
       "      <td>1.380</td>\n",
       "      <td>1.624</td>\n",
       "      <td>1.026</td>\n",
       "      <td>0.591</td>\n",
       "      <td>0.354</td>\n",
       "      <td>0.118</td>\n",
       "    </tr>\n",
       "    <tr>\n",
       "      <th>4</th>\n",
       "      <td>5</td>\n",
       "      <td>Netherlands</td>\n",
       "      <td>7.488</td>\n",
       "      <td>1.396</td>\n",
       "      <td>1.522</td>\n",
       "      <td>0.999</td>\n",
       "      <td>0.557</td>\n",
       "      <td>0.322</td>\n",
       "      <td>0.298</td>\n",
       "    </tr>\n",
       "    <tr>\n",
       "      <th>5</th>\n",
       "      <td>6</td>\n",
       "      <td>Switzerland</td>\n",
       "      <td>7.480</td>\n",
       "      <td>1.452</td>\n",
       "      <td>1.526</td>\n",
       "      <td>1.052</td>\n",
       "      <td>0.572</td>\n",
       "      <td>0.263</td>\n",
       "      <td>0.343</td>\n",
       "    </tr>\n",
       "    <tr>\n",
       "      <th>6</th>\n",
       "      <td>7</td>\n",
       "      <td>Sweden</td>\n",
       "      <td>7.343</td>\n",
       "      <td>1.387</td>\n",
       "      <td>1.487</td>\n",
       "      <td>1.009</td>\n",
       "      <td>0.574</td>\n",
       "      <td>0.267</td>\n",
       "      <td>0.373</td>\n",
       "    </tr>\n",
       "    <tr>\n",
       "      <th>7</th>\n",
       "      <td>8</td>\n",
       "      <td>New Zealand</td>\n",
       "      <td>7.307</td>\n",
       "      <td>1.303</td>\n",
       "      <td>1.557</td>\n",
       "      <td>1.026</td>\n",
       "      <td>0.585</td>\n",
       "      <td>0.330</td>\n",
       "      <td>0.380</td>\n",
       "    </tr>\n",
       "    <tr>\n",
       "      <th>8</th>\n",
       "      <td>9</td>\n",
       "      <td>Canada</td>\n",
       "      <td>7.278</td>\n",
       "      <td>1.365</td>\n",
       "      <td>1.505</td>\n",
       "      <td>1.039</td>\n",
       "      <td>0.584</td>\n",
       "      <td>0.285</td>\n",
       "      <td>0.308</td>\n",
       "    </tr>\n",
       "    <tr>\n",
       "      <th>9</th>\n",
       "      <td>10</td>\n",
       "      <td>Austria</td>\n",
       "      <td>7.246</td>\n",
       "      <td>1.376</td>\n",
       "      <td>1.475</td>\n",
       "      <td>1.016</td>\n",
       "      <td>0.532</td>\n",
       "      <td>0.244</td>\n",
       "      <td>0.226</td>\n",
       "    </tr>\n",
       "  </tbody>\n",
       "</table>\n",
       "</div>"
      ],
      "text/plain": [
       "   Overall rank Country or region  Score  GDP per capita  Social support  \\\n",
       "0             1           Finland  7.769           1.340           1.587   \n",
       "1             2           Denmark  7.600           1.383           1.573   \n",
       "2             3            Norway  7.554           1.488           1.582   \n",
       "3             4           Iceland  7.494           1.380           1.624   \n",
       "4             5       Netherlands  7.488           1.396           1.522   \n",
       "5             6       Switzerland  7.480           1.452           1.526   \n",
       "6             7            Sweden  7.343           1.387           1.487   \n",
       "7             8       New Zealand  7.307           1.303           1.557   \n",
       "8             9            Canada  7.278           1.365           1.505   \n",
       "9            10           Austria  7.246           1.376           1.475   \n",
       "\n",
       "   Healthy life expectancy  Freedom to make life choices  Generosity  \\\n",
       "0                    0.986                         0.596       0.153   \n",
       "1                    0.996                         0.592       0.252   \n",
       "2                    1.028                         0.603       0.271   \n",
       "3                    1.026                         0.591       0.354   \n",
       "4                    0.999                         0.557       0.322   \n",
       "5                    1.052                         0.572       0.263   \n",
       "6                    1.009                         0.574       0.267   \n",
       "7                    1.026                         0.585       0.330   \n",
       "8                    1.039                         0.584       0.285   \n",
       "9                    1.016                         0.532       0.244   \n",
       "\n",
       "   Perceptions of corruption  \n",
       "0                      0.393  \n",
       "1                      0.410  \n",
       "2                      0.341  \n",
       "3                      0.118  \n",
       "4                      0.298  \n",
       "5                      0.343  \n",
       "6                      0.373  \n",
       "7                      0.380  \n",
       "8                      0.308  \n",
       "9                      0.226  "
      ]
     },
     "execution_count": 77,
     "metadata": {},
     "output_type": "execute_result"
    }
   ],
   "source": [
    "df.head(10)"
   ]
  },
  {
   "cell_type": "markdown",
   "id": "790c7e56",
   "metadata": {},
   "source": [
    "**1. Problem statements. \n",
    "Load the data (It should have at least 100 rows.) and get familiar with it. Describe the data source and include its link. 5 points**\n",
    "\n",
    "This dataset called 'World Happiness Report' rates the happiness of the citizens of different countries based on six categories, including life expectancy, freedom to make life choices and generosity. This particular set is the report for the year of 2019 for 156 countries. \n",
    "Link: https://www.kaggle.com/datasets/unsdsn/world-happiness?select=2019.csv"
   ]
  },
  {
   "cell_type": "markdown",
   "id": "cef68e6d",
   "metadata": {},
   "source": [
    "**List out three questions you want to investigate from this dataset. These questions could be a trend, a comparison between different groups of a categorical feature, a relationship between two variables, or a distribution of a numerical variable.  5 points**"
   ]
  },
  {
   "cell_type": "markdown",
   "id": "858c88c2",
   "metadata": {},
   "source": [
    "1. Which top 5 countries have the highest score for generosity? Create a bar chart for this.\n",
    "2. What is the average life expectancy for all countries evaluated?\n",
    "3. How many countries have a GDP between 0.5 and 1.0? Which countries? List these countries from least Happiness Score to greatest. "
   ]
  },
  {
   "cell_type": "markdown",
   "id": "56e8724b",
   "metadata": {},
   "source": [
    "**2. Data cleaning.**\n",
    "\n",
    "**Follow the data cleaning steps to clean the data. a. Drop any unwanted features if necessary. b. Address any missing values. c. Remove duplicates if necessary. d. Check the data type of each column. e. For categorical variables, check if there are any inconsistent inputs. d. For numeric variables, check any outliers.  20 points**"
   ]
  },
  {
   "cell_type": "markdown",
   "id": "718ff2d4",
   "metadata": {},
   "source": [
    "**a. Drop any unwanted features if necessary**"
   ]
  },
  {
   "cell_type": "code",
   "execution_count": 78,
   "id": "491189d7",
   "metadata": {},
   "outputs": [
    {
     "data": {
      "text/plain": [
       "Overall rank                    0\n",
       "Country or region               0\n",
       "Score                           0\n",
       "GDP per capita                  0\n",
       "Social support                  0\n",
       "Healthy life expectancy         0\n",
       "Freedom to make life choices    0\n",
       "Generosity                      0\n",
       "Perceptions of corruption       0\n",
       "dtype: int64"
      ]
     },
     "execution_count": 78,
     "metadata": {},
     "output_type": "execute_result"
    }
   ],
   "source": [
    "#no null present\n",
    "df.isnull().sum()"
   ]
  },
  {
   "cell_type": "code",
   "execution_count": 79,
   "id": "eddc223b",
   "metadata": {},
   "outputs": [
    {
     "data": {
      "text/plain": [
       "['Overall rank',\n",
       " 'Country or region',\n",
       " 'Score',\n",
       " 'GDP per capita',\n",
       " 'Social support',\n",
       " 'Healthy life expectancy',\n",
       " 'Freedom to make life choices',\n",
       " 'Generosity']"
      ]
     },
     "execution_count": 79,
     "metadata": {},
     "output_type": "execute_result"
    }
   ],
   "source": [
    "remove = ['Perceptions of corruption']\n",
    "new_df = df.drop(remove, inplace=False, axis=1)\n",
    "new_df.columns.tolist()"
   ]
  },
  {
   "cell_type": "markdown",
   "id": "7a52d8d3",
   "metadata": {},
   "source": [
    "**b. Address any missing values**"
   ]
  },
  {
   "cell_type": "code",
   "execution_count": 80,
   "id": "203ca38d",
   "metadata": {},
   "outputs": [
    {
     "data": {
      "text/plain": [
       "(156, 8)"
      ]
     },
     "execution_count": 80,
     "metadata": {},
     "output_type": "execute_result"
    }
   ],
   "source": [
    "#no missing values found - same no. of rows\n",
    "new_df.columns.dropna()\n",
    "new_df.shape"
   ]
  },
  {
   "cell_type": "markdown",
   "id": "e2457537",
   "metadata": {},
   "source": [
    "**c. Remove duplicates if necessary**"
   ]
  },
  {
   "cell_type": "code",
   "execution_count": 81,
   "id": "eb2cd310",
   "metadata": {},
   "outputs": [
    {
     "data": {
      "text/plain": [
       "(156, 8)"
      ]
     },
     "execution_count": 81,
     "metadata": {},
     "output_type": "execute_result"
    }
   ],
   "source": [
    "new_df_nodups = new_df.drop_duplicates()\n",
    "new_df_nodups.shape\n",
    "#no duplicates found"
   ]
  },
  {
   "cell_type": "markdown",
   "id": "f584994e",
   "metadata": {},
   "source": [
    "**d. Check the data type of each column**"
   ]
  },
  {
   "cell_type": "code",
   "execution_count": 82,
   "id": "b80efd6a",
   "metadata": {},
   "outputs": [
    {
     "data": {
      "text/plain": [
       "Overall rank                      int64\n",
       "Country or region                object\n",
       "Score                           float64\n",
       "GDP per capita                  float64\n",
       "Social support                  float64\n",
       "Healthy life expectancy         float64\n",
       "Freedom to make life choices    float64\n",
       "Generosity                      float64\n",
       "dtype: object"
      ]
     },
     "execution_count": 82,
     "metadata": {},
     "output_type": "execute_result"
    }
   ],
   "source": [
    "new_df_nodups.dtypes"
   ]
  },
  {
   "cell_type": "markdown",
   "id": "0b8680ff",
   "metadata": {},
   "source": [
    "**e. For categorical variables, check if there are any inconsistent inputs**"
   ]
  },
  {
   "cell_type": "code",
   "execution_count": 83,
   "id": "8ee9e207",
   "metadata": {},
   "outputs": [],
   "source": [
    "#what are 'inconsistent inputs'?"
   ]
  },
  {
   "cell_type": "markdown",
   "id": "5d7e1a06",
   "metadata": {},
   "source": [
    "**f. For numeric variables, check any outliers**"
   ]
  },
  {
   "cell_type": "code",
   "execution_count": 84,
   "id": "c9eb93ed",
   "metadata": {},
   "outputs": [
    {
     "data": {
      "text/plain": [
       "(140, 8)"
      ]
     },
     "execution_count": 84,
     "metadata": {},
     "output_type": "execute_result"
    }
   ],
   "source": [
    "new_df_no_outlier = new_df_nodups[new_df_nodups['Score']>4.000]\n",
    "new_df_no_outlier.shape"
   ]
  },
  {
   "cell_type": "code",
   "execution_count": 85,
   "id": "8b952339",
   "metadata": {},
   "outputs": [
    {
     "data": {
      "text/plain": [
       "<AxesSubplot:>"
      ]
     },
     "execution_count": 85,
     "metadata": {},
     "output_type": "execute_result"
    },
    {
     "data": {
      "image/png": "[encoded data removed]",
      "text/plain": [
       "<Figure size 432x288 with 1 Axes>"
      ]
     },
     "metadata": {
      "needs_background": "light"
     },
     "output_type": "display_data"
    }
   ],
   "source": [
    "new_df_no_outlier.boxplot(column=['Score'])"
   ]
  },
  {
   "cell_type": "markdown",
   "id": "994cb5e3",
   "metadata": {},
   "source": [
    "**3. Exploratory data Analysis and Interpretation of the results.** \n",
    "**Question A:  20 points for each question\n",
    "Process the data. Generate the result you want.\n",
    "Create a graph to visualize the result. \n",
    "Interpret the result. Explain your findings.**"
   ]
  },
  {
   "cell_type": "markdown",
   "id": "26cd17fa",
   "metadata": {},
   "source": [
    "**a. Process the data. Generate the result you want.**"
   ]
  },
  {
   "cell_type": "markdown",
   "id": "98cf8f6e",
   "metadata": {},
   "source": [
    "1. Which top 5 countries have the highest score for generosity? Create a bar chart for this.\n",
    "2. What is the average life expectancy for all countries evaluated?\n",
    "3. How many countries have a GDP between 0.5 and 1.0? Which countries? List these countries from least Happiness Score to greatest. "
   ]
  },
  {
   "cell_type": "code",
   "execution_count": 86,
   "id": "244616ce",
   "metadata": {},
   "outputs": [
    {
     "data": {
      "text/html": [
       "<div>\n",
       "<style scoped>\n",
       "    .dataframe tbody tr th:only-of-type {\n",
       "        vertical-align: middle;\n",
       "    }\n",
       "\n",
       "    .dataframe tbody tr th {\n",
       "        vertical-align: top;\n",
       "    }\n",
       "\n",
       "    .dataframe thead th {\n",
       "        text-align: right;\n",
       "    }\n",
       "</style>\n",
       "<table border=\"1\" class=\"dataframe\">\n",
       "  <thead>\n",
       "    <tr style=\"text-align: right;\">\n",
       "      <th></th>\n",
       "      <th>Overall rank</th>\n",
       "      <th>Country or region</th>\n",
       "      <th>Score</th>\n",
       "      <th>GDP per capita</th>\n",
       "      <th>Social support</th>\n",
       "      <th>Healthy life expectancy</th>\n",
       "      <th>Freedom to make life choices</th>\n",
       "      <th>Generosity</th>\n",
       "      <th>Perceptions of corruption</th>\n",
       "    </tr>\n",
       "  </thead>\n",
       "  <tbody>\n",
       "    <tr>\n",
       "      <th>130</th>\n",
       "      <td>131</td>\n",
       "      <td>Myanmar</td>\n",
       "      <td>4.360</td>\n",
       "      <td>0.710</td>\n",
       "      <td>1.181</td>\n",
       "      <td>0.555</td>\n",
       "      <td>0.525</td>\n",
       "      <td>0.566</td>\n",
       "      <td>0.172</td>\n",
       "    </tr>\n",
       "    <tr>\n",
       "      <th>91</th>\n",
       "      <td>92</td>\n",
       "      <td>Indonesia</td>\n",
       "      <td>5.192</td>\n",
       "      <td>0.931</td>\n",
       "      <td>1.203</td>\n",
       "      <td>0.660</td>\n",
       "      <td>0.491</td>\n",
       "      <td>0.498</td>\n",
       "      <td>0.028</td>\n",
       "    </tr>\n",
       "    <tr>\n",
       "      <th>146</th>\n",
       "      <td>147</td>\n",
       "      <td>Haiti</td>\n",
       "      <td>3.597</td>\n",
       "      <td>0.323</td>\n",
       "      <td>0.688</td>\n",
       "      <td>0.449</td>\n",
       "      <td>0.026</td>\n",
       "      <td>0.419</td>\n",
       "      <td>0.110</td>\n",
       "    </tr>\n",
       "    <tr>\n",
       "      <th>21</th>\n",
       "      <td>22</td>\n",
       "      <td>Malta</td>\n",
       "      <td>6.726</td>\n",
       "      <td>1.300</td>\n",
       "      <td>1.520</td>\n",
       "      <td>0.999</td>\n",
       "      <td>0.564</td>\n",
       "      <td>0.375</td>\n",
       "      <td>0.151</td>\n",
       "    </tr>\n",
       "    <tr>\n",
       "      <th>120</th>\n",
       "      <td>121</td>\n",
       "      <td>Kenya</td>\n",
       "      <td>4.509</td>\n",
       "      <td>0.512</td>\n",
       "      <td>0.983</td>\n",
       "      <td>0.581</td>\n",
       "      <td>0.431</td>\n",
       "      <td>0.372</td>\n",
       "      <td>0.053</td>\n",
       "    </tr>\n",
       "  </tbody>\n",
       "</table>\n",
       "</div>"
      ],
      "text/plain": [
       "     Overall rank Country or region  Score  GDP per capita  Social support  \\\n",
       "130           131           Myanmar  4.360           0.710           1.181   \n",
       "91             92         Indonesia  5.192           0.931           1.203   \n",
       "146           147             Haiti  3.597           0.323           0.688   \n",
       "21             22             Malta  6.726           1.300           1.520   \n",
       "120           121             Kenya  4.509           0.512           0.983   \n",
       "\n",
       "     Healthy life expectancy  Freedom to make life choices  Generosity  \\\n",
       "130                    0.555                         0.525       0.566   \n",
       "91                     0.660                         0.491       0.498   \n",
       "146                    0.449                         0.026       0.419   \n",
       "21                     0.999                         0.564       0.375   \n",
       "120                    0.581                         0.431       0.372   \n",
       "\n",
       "     Perceptions of corruption  \n",
       "130                      0.172  \n",
       "91                       0.028  \n",
       "146                      0.110  \n",
       "21                       0.151  \n",
       "120                      0.053  "
      ]
     },
     "execution_count": 86,
     "metadata": {},
     "output_type": "execute_result"
    }
   ],
   "source": [
    "#1. Which top 5 countries have the highest score for generosity?\n",
    "top_five = df.nlargest(5, 'Generosity')\n",
    "top_five"
   ]
  },
  {
   "cell_type": "code",
   "execution_count": 87,
   "id": "5e2042b7",
   "metadata": {
    "scrolled": true
   },
   "outputs": [
    {
     "data": {
      "text/plain": [
       "<function matplotlib.pyplot.show(close=None, block=None)>"
      ]
     },
     "execution_count": 87,
     "metadata": {},
     "output_type": "execute_result"
    },
    {
     "data": {
      "image/png": "[encoded data removed]",
      "text/plain": [
       "<Figure size 432x288 with 1 Axes>"
      ]
     },
     "metadata": {
      "needs_background": "light"
     },
     "output_type": "display_data"
    }
   ],
   "source": [
    "plt.bar(top_five.iloc[:,1], top_five.iloc[:,2])\n",
    "plt.xlabel('Country')\n",
    "plt.ylabel('Generosity')\n",
    "plt.title('Top 5 Most Generous Countries in 2019')\n",
    "plt.yticks(np.arange(0,8,0.5))\n",
    "\n",
    "plt.show"
   ]
  },
  {
   "cell_type": "code",
   "execution_count": 88,
   "id": "9106eb7f",
   "metadata": {},
   "outputs": [
    {
     "data": {
      "text/html": [
       "<div>\n",
       "<style scoped>\n",
       "    .dataframe tbody tr th:only-of-type {\n",
       "        vertical-align: middle;\n",
       "    }\n",
       "\n",
       "    .dataframe tbody tr th {\n",
       "        vertical-align: top;\n",
       "    }\n",
       "\n",
       "    .dataframe thead th {\n",
       "        text-align: right;\n",
       "    }\n",
       "</style>\n",
       "<table border=\"1\" class=\"dataframe\">\n",
       "  <thead>\n",
       "    <tr style=\"text-align: right;\">\n",
       "      <th></th>\n",
       "      <th>Overall rank</th>\n",
       "      <th>Country or region</th>\n",
       "      <th>Score</th>\n",
       "      <th>GDP per capita</th>\n",
       "      <th>Social support</th>\n",
       "      <th>Healthy life expectancy</th>\n",
       "      <th>Freedom to make life choices</th>\n",
       "      <th>Generosity</th>\n",
       "      <th>Perceptions of corruption</th>\n",
       "    </tr>\n",
       "  </thead>\n",
       "  <tbody>\n",
       "    <tr>\n",
       "      <th>81</th>\n",
       "      <td>82</td>\n",
       "      <td>Greece</td>\n",
       "      <td>5.287</td>\n",
       "      <td>1.181</td>\n",
       "      <td>1.156</td>\n",
       "      <td>0.999</td>\n",
       "      <td>0.067</td>\n",
       "      <td>0.000</td>\n",
       "      <td>0.034</td>\n",
       "    </tr>\n",
       "    <tr>\n",
       "      <th>147</th>\n",
       "      <td>148</td>\n",
       "      <td>Botswana</td>\n",
       "      <td>3.488</td>\n",
       "      <td>1.041</td>\n",
       "      <td>1.145</td>\n",
       "      <td>0.538</td>\n",
       "      <td>0.455</td>\n",
       "      <td>0.025</td>\n",
       "      <td>0.100</td>\n",
       "    </tr>\n",
       "    <tr>\n",
       "      <th>89</th>\n",
       "      <td>90</td>\n",
       "      <td>Azerbaijan</td>\n",
       "      <td>5.208</td>\n",
       "      <td>1.043</td>\n",
       "      <td>1.147</td>\n",
       "      <td>0.769</td>\n",
       "      <td>0.351</td>\n",
       "      <td>0.035</td>\n",
       "      <td>0.182</td>\n",
       "    </tr>\n",
       "    <tr>\n",
       "      <th>88</th>\n",
       "      <td>89</td>\n",
       "      <td>Morocco</td>\n",
       "      <td>5.208</td>\n",
       "      <td>0.801</td>\n",
       "      <td>0.782</td>\n",
       "      <td>0.782</td>\n",
       "      <td>0.418</td>\n",
       "      <td>0.036</td>\n",
       "      <td>0.076</td>\n",
       "    </tr>\n",
       "    <tr>\n",
       "      <th>41</th>\n",
       "      <td>42</td>\n",
       "      <td>Lithuania</td>\n",
       "      <td>6.149</td>\n",
       "      <td>1.238</td>\n",
       "      <td>1.515</td>\n",
       "      <td>0.818</td>\n",
       "      <td>0.291</td>\n",
       "      <td>0.043</td>\n",
       "      <td>0.042</td>\n",
       "    </tr>\n",
       "  </tbody>\n",
       "</table>\n",
       "</div>"
      ],
      "text/plain": [
       "     Overall rank Country or region  Score  GDP per capita  Social support  \\\n",
       "81             82            Greece  5.287           1.181           1.156   \n",
       "147           148          Botswana  3.488           1.041           1.145   \n",
       "89             90        Azerbaijan  5.208           1.043           1.147   \n",
       "88             89           Morocco  5.208           0.801           0.782   \n",
       "41             42         Lithuania  6.149           1.238           1.515   \n",
       "\n",
       "     Healthy life expectancy  Freedom to make life choices  Generosity  \\\n",
       "81                     0.999                         0.067       0.000   \n",
       "147                    0.538                         0.455       0.025   \n",
       "89                     0.769                         0.351       0.035   \n",
       "88                     0.782                         0.418       0.036   \n",
       "41                     0.818                         0.291       0.043   \n",
       "\n",
       "     Perceptions of corruption  \n",
       "81                       0.034  \n",
       "147                      0.100  \n",
       "89                       0.182  \n",
       "88                       0.076  \n",
       "41                       0.042  "
      ]
     },
     "execution_count": 88,
     "metadata": {},
     "output_type": "execute_result"
    }
   ],
   "source": [
    "# Which are the bottom 5 countries for generosity?\n",
    "lowest_5 = df.nsmallest(5, 'Generosity')\n",
    "lowest_5"
   ]
  },
  {
   "cell_type": "code",
   "execution_count": 89,
   "id": "3c1698cf",
   "metadata": {
    "scrolled": true
   },
   "outputs": [
    {
     "data": {
      "text/plain": [
       "<function matplotlib.pyplot.show(close=None, block=None)>"
      ]
     },
     "execution_count": 89,
     "metadata": {},
     "output_type": "execute_result"
    },
    {
     "data": {
      "image/png": "[encoded data removed]",
      "text/plain": [
       "<Figure size 432x288 with 1 Axes>"
      ]
     },
     "metadata": {
      "needs_background": "light"
     },
     "output_type": "display_data"
    }
   ],
   "source": [
    "plt.bar(lowest_5.iloc[:,1], lowest_5.iloc[:,2])\n",
    "plt.xlabel('Country')\n",
    "plt.ylabel('Generosity')\n",
    "plt.title('Bottom 5 Most Generous Countries in 2019')\n",
    "plt.yticks(np.arange(0,8,0.5))\n",
    "\n",
    "plt.show"
   ]
  },
  {
   "cell_type": "markdown",
   "id": "e58f1feb",
   "metadata": {},
   "source": [
    "Overall, it appears that the top 5 *most* generous countries are Myanmar, Indonesia, Haiti, Malta and Kenya, while the 5 *least* generous countries are Greece, Botswana, Azerbaijan, Morocco and Lithuania.\n",
    "\n",
    "For the top 5 most generous countries, Haiti and Malta appear to be outliers, with Haiti being the lowest and Malta being the highest. This means that overall, Malta is the most generous country out of the 156 evaluated countries in the dataset.\n",
    "\n",
    "For the 5 least generous countries, Botswana and Lithuania are outliers, with Botswana being the least generous country and Lithuania being more generous that the other 4. Overall, this lands Botswana being the lest generous country out of the 156 evaluated countries in the dataset. \n",
    "\n",
    "Let's try out correlations for the next question!"
   ]
  },
  {
   "cell_type": "code",
   "execution_count": 100,
   "id": "cea62948",
   "metadata": {},
   "outputs": [
    {
     "data": {
      "text/plain": [
       "0.7252435897435898"
      ]
     },
     "execution_count": 100,
     "metadata": {},
     "output_type": "execute_result"
    }
   ],
   "source": [
    "#2. What is the average life expectancy for all countries evaluated?\n",
    "life = df['Healthy life expectancy']\n",
    "avg_life = life.mean()\n",
    "avg_life"
   ]
  },
  {
   "cell_type": "markdown",
   "id": "ca1a99ae",
   "metadata": {},
   "source": [
    "For all countries evaluated, there is a 0.725 value for Healthy life expectancy. \n",
    "\n",
    "ask about the value/units for the numbers in the dataset.."
   ]
  },
  {
   "cell_type": "code",
   "execution_count": 109,
   "id": "82b719f9",
   "metadata": {
    "scrolled": true
   },
   "outputs": [
    {
     "data": {
      "image/png": "[encoded data removed]",
      "text/plain": [
       "<Figure size 432x288 with 1 Axes>"
      ]
     },
     "metadata": {
      "needs_background": "light"
     },
     "output_type": "display_data"
    }
   ],
   "source": [
    "#let's see if there is a correlation between Healthy life expectancy and Social support\n",
    "df_life = df['Healthy life expectancy']\n",
    "df_social = df['Social support']\n",
    "\n",
    "x = df_life.values\n",
    "plt.xlabel('Healthy life expectancy')\n",
    "y = df_social.values\n",
    "plt.ylabel('Social support')\n",
    "plt.title('Healthy life expectancy vs Social support')\n",
    "#each dot represents a country\n",
    "\n",
    "plt.scatter(x, y, marker='o', color='c')\n",
    "plt.show()"
   ]
  },
  {
   "cell_type": "markdown",
   "id": "9551e82e",
   "metadata": {},
   "source": [
    "reference: https://www.khanacademy.org/math/ap-statistics/bivariate-data-ap/scatterplots-correlation/a/describing-scatterplots-form-direction-strength-outliers\n",
    "\n",
    "This scatterplot evaluates Healthy life expectancy vs social support to see if this dataset shows a correlation between these two categories. The goal is to evaluate if social support may be a factor in determining healthy life expectancy for this dataset. \n",
    "\n",
    "By the scatterplot produced, there shows to be a strong, positive linear correlation between social support and healthy life expectancy, with outliers occurring where there is a relatively high social support and low healthy life expectancy, as well as low social support and high healthy life expectancy."
   ]
  },
  {
   "cell_type": "code",
   "execution_count": 121,
   "id": "e9eee98f",
   "metadata": {
    "scrolled": true
   },
   "outputs": [
    {
     "data": {
      "text/plain": [
       "51"
      ]
     },
     "execution_count": 121,
     "metadata": {},
     "output_type": "execute_result"
    }
   ],
   "source": [
    "#3. How many countries have a GDP between 0.5 and 1.0?\n",
    "#Which countries? \n",
    "#List these countries from least Happiness Score to greatest.\n",
    "gdp_between = df.loc[(df['GDP per capita']>= 0.5)&(df['GDP per capita']<=1.0)]\n",
    "len(gdp_between.index)"
   ]
  },
  {
   "cell_type": "code",
   "execution_count": 122,
   "id": "53a2ece1",
   "metadata": {
    "scrolled": true
   },
   "outputs": [
    {
     "data": {
      "text/plain": [
       "['Guatemala',\n",
       " 'El Salvador',\n",
       " 'Uzbekistan',\n",
       " 'Colombia',\n",
       " 'Nicaragua',\n",
       " 'Kosovo',\n",
       " 'Ecuador',\n",
       " 'Jamaica',\n",
       " 'Honduras',\n",
       " 'Bolivia',\n",
       " 'Paraguay',\n",
       " 'Peru',\n",
       " 'Pakistan',\n",
       " 'Philippines',\n",
       " 'Moldova',\n",
       " 'Bosnia and Herzegovina',\n",
       " 'Mongolia',\n",
       " 'North Macedonia',\n",
       " 'Nigeria',\n",
       " 'Kyrgyzstan',\n",
       " 'Morocco',\n",
       " 'Lebanon',\n",
       " 'Indonesia',\n",
       " 'Vietnam',\n",
       " 'Bhutan',\n",
       " 'Cameroon',\n",
       " 'Ghana',\n",
       " 'Ivory Coast',\n",
       " 'Jordan',\n",
       " 'Congo (Brazzaville)',\n",
       " 'Laos',\n",
       " 'South Africa',\n",
       " 'Albania',\n",
       " 'Venezuela',\n",
       " 'Cambodia',\n",
       " 'Palestinian Territories',\n",
       " 'Namibia',\n",
       " 'Armenia',\n",
       " 'Georgia',\n",
       " 'Kenya',\n",
       " 'Mauritania',\n",
       " 'Tunisia',\n",
       " 'Bangladesh',\n",
       " 'Sri Lanka',\n",
       " 'Myanmar',\n",
       " 'Ukraine',\n",
       " 'Swaziland',\n",
       " 'Egypt',\n",
       " 'Zambia',\n",
       " 'India',\n",
       " 'Syria']"
      ]
     },
     "execution_count": 122,
     "metadata": {},
     "output_type": "execute_result"
    }
   ],
   "source": [
    "#51 countries have a GDP between 0.5 and 1.0. These countries are:\n",
    "gdp_between['Country or region'].tolist()"
   ]
  },
  {
   "cell_type": "code",
   "execution_count": 136,
   "id": "585bb716",
   "metadata": {},
   "outputs": [
    {
     "data": {
      "image/png": "[encoded data removed]",
      "text/plain": [
       "<Figure size 288x504 with 1 Axes>"
      ]
     },
     "metadata": {
      "needs_background": "light"
     },
     "output_type": "display_data"
    }
   ],
   "source": [
    "import seaborn as sns\n",
    "plt.figure(figsize=(4, 7))\n",
    "first_20 = gdp_between.head(20)\n",
    "sns.barplot(data=first_20, y = 'Country or region', x = 'Score')\n",
    "plt.show()"
   ]
  },
  {
   "cell_type": "markdown",
   "id": "7612554d",
   "metadata": {},
   "source": [
    "Overall, it appears that countries with higher happiness scores also rank high for social support, though these countries aren't exactly the most generous due to this. The most generous countries actually ranked quite low for happiness, with Myanmar being the lowest in this category, scoring 131 out of 156 for happiness, though the social support ranked well above the average, scoring 1.181 and having an average healthy life expectancy. \n",
    "\n",
    "Another top 5 generous country, Haiti, score exceptionally low across all categories, coming in at 147 out of 156. Interestingly, one of the *least* generous countries, Bostwana, ranked right after Haiti in happiness, scoring 148. \n",
    "\n",
    "There also appears to be a correlation between healthy life expectancy and social support, with an increasing healthy life expectancy following high social support scores, regardless of other factors evaluated. \n",
    "\n",
    "Lastly, about one-third of the dataset's countries has a GDP between 0.5 and 1.0, with Kenya and Myanmar being two of the top 5 most generous countries included in this category as well. Surprisingly, none of the least generous countries were included in this category. With some of the countries in this category having had humanitarian issues broadcasted within the last two decades, one may be curious about if these issues have affected their GDP. \n",
    "\n",
    "From this report, what was unknown was the exact units used for each category, with each column value being represented by a float. Investigating the data source did not clear up any confusion or point toward an idea of the units used. Another unknown was the exact method used to calculate this overall Happiness Score - some countries shown to have correlations that drew from the score to high scores in other categories, while some countries had mismatching numbers in terms of their overall score and that of their other columns. It is unclear what exactly the score represents. "
   ]
  }
 ],
 "metadata": {
  "kernelspec": {
   "display_name": "Python 3 (ipykernel)",
   "language": "python",
   "name": "python3"
  },
  "language_info": {
   "codemirror_mode": {
    "name": "ipython",
    "version": 3
   },
   "file_extension": ".py",
   "mimetype": "text/x-python",
   "name": "python",
   "nbconvert_exporter": "python",
   "pygments_lexer": "ipython3",
   "version": "3.9.12"
  }
 },
 "nbformat": 4,
 "nbformat_minor": 5
}
