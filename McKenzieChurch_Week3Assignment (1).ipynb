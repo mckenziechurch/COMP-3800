{
 "cells": [
  {
   "cell_type": "markdown",
   "id": "a705e41e",
   "metadata": {},
   "source": [
    "**1. Create 4*4 2-Dimensional array with random numbers. Name the array ‘arr1’. (10 points)**"
   ]
  },
  {
   "cell_type": "code",
   "execution_count": 2,
   "id": "f1497c4b",
   "metadata": {},
   "outputs": [
    {
     "ename": "ImportError",
     "evalue": "cannot import name 'lib' from partially initialized module 'numpy' (most likely due to a circular import) (C:\\Users\\csuser\\AppData\\Roaming\\Python\\Python310\\site-packages\\numpy\\__init__.py)",
     "output_type": "error",
     "traceback": [
      "\u001b[1;31m---------------------------------------------------------------------------\u001b[0m",
      "\u001b[1;31mImportError\u001b[0m                               Traceback (most recent call last)",
      "Input \u001b[1;32mIn [2]\u001b[0m, in \u001b[0;36m<cell line: 1>\u001b[1;34m()\u001b[0m\n\u001b[1;32m----> 1\u001b[0m \u001b[38;5;28;01mimport\u001b[39;00m \u001b[38;5;21;01mnumpy\u001b[39;00m \u001b[38;5;28;01mas\u001b[39;00m \u001b[38;5;21;01mnp\u001b[39;00m\n\u001b[0;32m      2\u001b[0m arr1 \u001b[38;5;241m=\u001b[39m np\u001b[38;5;241m.\u001b[39mrandom\u001b[38;5;241m.\u001b[39mrandn(\u001b[38;5;241m4\u001b[39m, \u001b[38;5;241m4\u001b[39m)\n\u001b[0;32m      3\u001b[0m arr1\n",
      "File \u001b[1;32m~\\AppData\\Roaming\\Python\\Python310\\site-packages\\numpy\\__init__.py:143\u001b[0m, in \u001b[0;36m<module>\u001b[1;34m\u001b[0m\n\u001b[0;32m    141\u001b[0m \u001b[38;5;28;01mfrom\u001b[39;00m \u001b[38;5;21;01m.\u001b[39;00m\u001b[38;5;21;01mcore\u001b[39;00m \u001b[38;5;28;01mimport\u001b[39;00m \u001b[38;5;241m*\u001b[39m\n\u001b[0;32m    142\u001b[0m \u001b[38;5;28;01mfrom\u001b[39;00m \u001b[38;5;21;01m.\u001b[39;00m \u001b[38;5;28;01mimport\u001b[39;00m compat\n\u001b[1;32m--> 143\u001b[0m \u001b[38;5;28;01mfrom\u001b[39;00m \u001b[38;5;21;01m.\u001b[39;00m \u001b[38;5;28;01mimport\u001b[39;00m lib\n\u001b[0;32m    144\u001b[0m \u001b[38;5;66;03m# NOTE: to be revisited following future namespace cleanup.\u001b[39;00m\n\u001b[0;32m    145\u001b[0m \u001b[38;5;66;03m# See gh-14454 and gh-15672 for discussion.\u001b[39;00m\n\u001b[0;32m    146\u001b[0m \u001b[38;5;28;01mfrom\u001b[39;00m \u001b[38;5;21;01m.\u001b[39;00m\u001b[38;5;21;01mlib\u001b[39;00m \u001b[38;5;28;01mimport\u001b[39;00m \u001b[38;5;241m*\u001b[39m\n",
      "\u001b[1;31mImportError\u001b[0m: cannot import name 'lib' from partially initialized module 'numpy' (most likely due to a circular import) (C:\\Users\\csuser\\AppData\\Roaming\\Python\\Python310\\site-packages\\numpy\\__init__.py)"
     ]
    }
   ],
   "source": [
    "import numpy as np\n",
    "arr1 = np.random.randn(4, 4)\n",
    "arr1"
   ]
  },
  {
   "cell_type": "markdown",
   "id": "0ea5fbae",
   "metadata": {},
   "source": [
    "**2. Select the number in the third row, third column from arr1.  (10 points)**"
   ]
  },
  {
   "cell_type": "code",
   "execution_count": 1,
   "id": "8de75bd2",
   "metadata": {},
   "outputs": [
    {
     "ename": "NameError",
     "evalue": "name 'arr1' is not defined",
     "output_type": "error",
     "traceback": [
      "\u001b[1;31m---------------------------------------------------------------------------\u001b[0m",
      "\u001b[1;31mNameError\u001b[0m                                 Traceback (most recent call last)",
      "Input \u001b[1;32mIn [1]\u001b[0m, in \u001b[0;36m<cell line: 1>\u001b[1;34m()\u001b[0m\n\u001b[1;32m----> 1\u001b[0m a \u001b[38;5;241m=\u001b[39m \u001b[43marr1\u001b[49m[\u001b[38;5;241m2\u001b[39m, \u001b[38;5;241m2\u001b[39m]\n\u001b[0;32m      2\u001b[0m a\n",
      "\u001b[1;31mNameError\u001b[0m: name 'arr1' is not defined"
     ]
    }
   ],
   "source": [
    "a = arr1[2, 2]\n",
    "a"
   ]
  },
  {
   "cell_type": "markdown",
   "id": "df871a50",
   "metadata": {},
   "source": [
    "**3. Create a new array, arr_slice, which shall be built from arr1 with only the odd rows.  (10 points)**"
   ]
  },
  {
   "cell_type": "code",
   "execution_count": 5,
   "id": "a19c242a",
   "metadata": {},
   "outputs": [
    {
     "data": {
      "text/plain": [
       "array([[ 0.99082384,  0.08834509,  0.02868087, -0.49226251],\n",
       "       [ 1.55015797, -0.24520872,  1.32617451,  0.59929369]])"
      ]
     },
     "execution_count": 5,
     "metadata": {},
     "output_type": "execute_result"
    }
   ],
   "source": [
    "arr_slice = np.delete(arr1, [0,2], axis=0)\n",
    "arr_slice"
   ]
  },
  {
   "cell_type": "markdown",
   "id": "2f943c91",
   "metadata": {},
   "source": [
    "**4. Assign the value 12345  to the last number in arr_slice. Did it change the values in arr1?  (10 points)**"
   ]
  },
  {
   "cell_type": "code",
   "execution_count": 6,
   "id": "77098f3e",
   "metadata": {},
   "outputs": [
    {
     "data": {
      "text/plain": [
       "array([[ 9.90823843e-01,  8.83450866e-02,  2.86808748e-02,\n",
       "        -4.92262505e-01],\n",
       "       [ 1.55015797e+00, -2.45208719e-01,  1.32617451e+00,\n",
       "         1.23450000e+04]])"
      ]
     },
     "execution_count": 6,
     "metadata": {},
     "output_type": "execute_result"
    }
   ],
   "source": [
    "arr_slice[0,1] = 12345\n",
    "arr_slice #not sure why elements were multiplied below"
   ]
  },
  {
   "cell_type": "code",
   "execution_count": 7,
   "id": "de2507dc",
   "metadata": {},
   "outputs": [
    {
     "data": {
      "text/plain": [
       "array([[ 0.27732852,  0.30347521, -1.13752566, -1.18251592],\n",
       "       [ 0.99082384,  0.08834509,  0.02868087, -0.49226251],\n",
       "       [ 1.73324367, -0.85525374, -0.16295913, -0.90462991],\n",
       "       [ 1.55015797, -0.24520872,  1.32617451,  0.59929369]])"
      ]
     },
     "execution_count": 7,
     "metadata": {},
     "output_type": "execute_result"
    }
   ],
   "source": [
    "arr1"
   ]
  },
  {
   "cell_type": "markdown",
   "id": "7233101d",
   "metadata": {},
   "source": [
    "The values in arr1 did not change due to reassignment in arr_slice."
   ]
  },
  {
   "cell_type": "markdown",
   "id": "168c5eac",
   "metadata": {},
   "source": [
    "**5. Transpose arr1.  (10 points)**"
   ]
  },
  {
   "cell_type": "code",
   "execution_count": 64,
   "id": "1c10e605",
   "metadata": {},
   "outputs": [
    {
     "data": {
      "text/plain": [
       "array([[ 0.27732852,  0.99082384,  1.73324367,  1.55015797],\n",
       "       [ 0.30347521,  0.08834509, -0.85525374, -0.24520872],\n",
       "       [-1.13752566,  0.02868087, -0.16295913,  1.32617451],\n",
       "       [-1.18251592, -0.49226251, -0.90462991,  0.59929369]])"
      ]
     },
     "execution_count": 64,
     "metadata": {},
     "output_type": "execute_result"
    }
   ],
   "source": [
    "arr1.transpose()"
   ]
  },
  {
   "cell_type": "markdown",
   "id": "b71fd4f0",
   "metadata": {},
   "source": [
    "**6. Create another array 5 * 5 2-Dimensional array with numbers from 0 to 50 with only odd numbers. Name this array ‘arr2’.  (10 points)**"
   ]
  },
  {
   "cell_type": "code",
   "execution_count": 60,
   "id": "c4498f39",
   "metadata": {},
   "outputs": [
    {
     "data": {
      "text/plain": [
       "array([[ 1,  3,  5,  7,  9],\n",
       "       [11, 13, 15, 17, 19],\n",
       "       [21, 23, 25, 27, 29],\n",
       "       [31, 33, 35, 37, 39],\n",
       "       [41, 43, 45, 47, 49]])"
      ]
     },
     "execution_count": 60,
     "metadata": {},
     "output_type": "execute_result"
    }
   ],
   "source": [
    "arr2 = np.arange(0,50)\n",
    "arr2=arr2[(~arr2%2==0)]\n",
    "arr2=arr2.reshape(5,5)\n",
    "arr2"
   ]
  },
  {
   "cell_type": "markdown",
   "id": "df4d6551",
   "metadata": {},
   "source": [
    "**7. Stack arr1 and arr2 horizontally. Name it arr_new. If it reports an error, find the problem and re-define arr2 to make it work.  (10 points)**"
   ]
  },
  {
   "cell_type": "code",
   "execution_count": 61,
   "id": "df2b995f",
   "metadata": {},
   "outputs": [
    {
     "data": {
      "text/plain": [
       "array([[ 2.77328524e-01,  3.03475208e-01, -1.13752566e+00,\n",
       "        -1.18251592e+00,  1.10000000e+01,  1.30000000e+01,\n",
       "         1.50000000e+01,  1.70000000e+01,  1.90000000e+01],\n",
       "       [ 9.90823843e-01,  8.83450866e-02,  2.86808748e-02,\n",
       "        -4.92262505e-01,  2.10000000e+01,  2.30000000e+01,\n",
       "         2.50000000e+01,  2.70000000e+01,  2.90000000e+01],\n",
       "       [ 1.73324367e+00, -8.55253740e-01, -1.62959126e-01,\n",
       "        -9.04629909e-01,  3.10000000e+01,  3.30000000e+01,\n",
       "         3.50000000e+01,  3.70000000e+01,  3.90000000e+01],\n",
       "       [ 1.55015797e+00, -2.45208719e-01,  1.32617451e+00,\n",
       "         5.99293695e-01,  4.10000000e+01,  4.30000000e+01,\n",
       "         4.50000000e+01,  4.70000000e+01,  4.90000000e+01]])"
      ]
     },
     "execution_count": 61,
     "metadata": {},
     "output_type": "execute_result"
    }
   ],
   "source": [
    "arr2=np.delete(arr2, 0, axis=0)\n",
    "arr_new = np.hstack((arr1, arr2)) #all the input arrays must have same number of dimensions\n",
    "arr_new #solution is in scientific notation"
   ]
  },
  {
   "cell_type": "markdown",
   "id": "cb4c6c51",
   "metadata": {},
   "source": [
    "**8. Split arr_new vertically into two arrays.  (10 points)**"
   ]
  },
  {
   "cell_type": "code",
   "execution_count": 62,
   "id": "8ff27fd9",
   "metadata": {},
   "outputs": [
    {
     "data": {
      "text/plain": [
       "[array([[ 2.77328524e-01,  3.03475208e-01, -1.13752566e+00,\n",
       "         -1.18251592e+00,  1.10000000e+01,  1.30000000e+01,\n",
       "          1.50000000e+01,  1.70000000e+01,  1.90000000e+01],\n",
       "        [ 9.90823843e-01,  8.83450866e-02,  2.86808748e-02,\n",
       "         -4.92262505e-01,  2.10000000e+01,  2.30000000e+01,\n",
       "          2.50000000e+01,  2.70000000e+01,  2.90000000e+01]]),\n",
       " array([[ 1.73324367, -0.85525374, -0.16295913, -0.90462991, 31.        ,\n",
       "         33.        , 35.        , 37.        , 39.        ],\n",
       "        [ 1.55015797, -0.24520872,  1.32617451,  0.59929369, 41.        ,\n",
       "         43.        , 45.        , 47.        , 49.        ]])]"
      ]
     },
     "execution_count": 62,
     "metadata": {},
     "output_type": "execute_result"
    }
   ],
   "source": [
    "np.vsplit(arr_new, 2)"
   ]
  },
  {
   "cell_type": "markdown",
   "id": "b35918b1",
   "metadata": {},
   "source": [
    "**9. Sort arr1 by each row in descending order.  (10 points)**"
   ]
  },
  {
   "cell_type": "code",
   "execution_count": 67,
   "id": "13f6bb36",
   "metadata": {},
   "outputs": [
    {
     "data": {
      "text/plain": [
       "array([[-0.24520872,  0.59929369,  1.32617451,  1.55015797],\n",
       "       [-0.90462991, -0.85525374, -0.16295913,  1.73324367],\n",
       "       [-0.49226251,  0.02868087,  0.08834509,  0.99082384],\n",
       "       [-1.18251592, -1.13752566,  0.27732852,  0.30347521]])"
      ]
     },
     "execution_count": 67,
     "metadata": {},
     "output_type": "execute_result"
    }
   ],
   "source": [
    "arr1.sort(1)\n",
    "arr1[::-1]"
   ]
  },
  {
   "cell_type": "markdown",
   "id": "608c0054",
   "metadata": {},
   "source": [
    "**10.  Create an 1D array, a 2D array, and a 3D array as shown in the picture below. (10 points)**"
   ]
  },
  {
   "cell_type": "code",
   "execution_count": 78,
   "id": "0fc291e4",
   "metadata": {},
   "outputs": [
    {
     "data": {
      "text/plain": [
       "array([1, 2, 3])"
      ]
     },
     "execution_count": 78,
     "metadata": {},
     "output_type": "execute_result"
    }
   ],
   "source": [
    "#1D Array\n",
    "a = np.arange(0,4)\n",
    "np.delete(a, [0])"
   ]
  },
  {
   "cell_type": "code",
   "execution_count": 79,
   "id": "dde81aa8",
   "metadata": {},
   "outputs": [
    {
     "data": {
      "text/plain": [
       "array([[1, 2, 3],\n",
       "       [1, 2, 3],\n",
       "       [1, 2, 3]])"
      ]
     },
     "execution_count": 79,
     "metadata": {},
     "output_type": "execute_result"
    }
   ],
   "source": [
    "#2D Array\n",
    "b = np.arange(0,9).reshape(3,3)\n",
    "b[0:3, 0] = 1\n",
    "b[0:3, 1] = 2\n",
    "b[0:3, 2] = 3\n",
    "b"
   ]
  },
  {
   "cell_type": "code",
   "execution_count": 83,
   "id": "0a35e7ac",
   "metadata": {},
   "outputs": [
    {
     "data": {
      "text/plain": [
       "array([[[1, 2, 3],\n",
       "        [1, 2, 3],\n",
       "        [1, 2, 3]],\n",
       "\n",
       "       [[1, 2, 3],\n",
       "        [1, 2, 3],\n",
       "        [1, 2, 3]],\n",
       "\n",
       "       [[1, 2, 3],\n",
       "        [1, 2, 3],\n",
       "        [1, 2, 3]]])"
      ]
     },
     "execution_count": 83,
     "metadata": {},
     "output_type": "execute_result"
    }
   ],
   "source": [
    "#3D Array\n",
    "c = np.arange(27).reshape(3,3,3)\n",
    "c[0:3, 0:3, 0] = 1\n",
    "c[0:3, 0:3, 1] = 2\n",
    "c[0:3, 0:3, 2] = 3\n",
    "c"
   ]
  },
  {
   "cell_type": "markdown",
   "id": "be5a4ee0",
   "metadata": {},
   "source": [
    "THIS IS AN INDIVIDUAL ASSIGNMENT. YOU MAY NOT DISCUSS THIS ASSIGNMENT WITH ANYONE WITHIN OR OUTSIDE THE CLASS (except the instructor).\n",
    "- DO not discuss your approaches or your code with colleagues. There are many ways to implement this assignment, and it is extremely easy to spot code that has been inspired by someone else’s code and to identify unauthorized collaborations.\n",
    "- If you choose to utilize something you find online, cite that resource, but DO NOT share that resource with anyone else.\n",
    "By submitting this assignment, you certify that no unauthorized assistance has been received or given in the completion of this work.\n",
    "\n",
    "- McKenzie Church"
   ]
  },
  {
   "cell_type": "code",
   "execution_count": null,
   "id": "6d3e8062",
   "metadata": {},
   "outputs": [],
   "source": []
  }
 ],
 "metadata": {
  "kernelspec": {
   "display_name": "Python 3 (ipykernel)",
   "language": "python",
   "name": "python3"
  },
  "language_info": {
   "codemirror_mode": {
    "name": "ipython",
    "version": 3
   },
   "file_extension": ".py",
   "mimetype": "text/x-python",
   "name": "python",
   "nbconvert_exporter": "python",
   "pygments_lexer": "ipython3",
   "version": "3.10.5"
  }
 },
 "nbformat": 4,
 "nbformat_minor": 5
}
